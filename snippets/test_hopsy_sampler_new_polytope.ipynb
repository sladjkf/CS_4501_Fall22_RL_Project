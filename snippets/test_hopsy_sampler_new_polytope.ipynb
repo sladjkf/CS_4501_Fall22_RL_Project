{
 "cells": [
  {
   "cell_type": "markdown",
   "metadata": {},
   "source": [
    "Test new polytope sampler code and sample loading code"
   ]
  },
  {
   "cell_type": "code",
   "execution_count": 11,
   "metadata": {},
   "outputs": [],
   "source": [
    "import numpy as np\n",
    "import pandas as pd\n",
    "import matplotlib.pyplot as plt"
   ]
  },
  {
   "cell_type": "markdown",
   "metadata": {},
   "source": [
    "Load objective"
   ]
  },
  {
   "cell_type": "code",
   "execution_count": 12,
   "metadata": {},
   "outputs": [
    {
     "data": {
      "text/plain": [
       "['/home/nrw5cq/.local/lib/python3.8/site-packages/PolyRound',\n",
       " '/gpfs/gpfs0/scratch/nrw5cq/CS_4501_Fall22_RL_Project/snippets',\n",
       " '/apps/software/standard/compiler/gcc/9.2.0/jupyter_conda/2020.11-py3.8/lib/python38.zip',\n",
       " '/apps/software/standard/compiler/gcc/9.2.0/jupyter_conda/2020.11-py3.8/lib/python3.8',\n",
       " '/apps/software/standard/compiler/gcc/9.2.0/jupyter_conda/2020.11-py3.8/lib/python3.8/lib-dynload',\n",
       " '',\n",
       " '/home/nrw5cq/.local/lib/python3.8/site-packages',\n",
       " '/apps/software/standard/compiler/gcc/9.2.0/jupyter_conda/2020.11-py3.8/lib/python3.8/site-packages',\n",
       " '/apps/software/standard/compiler/gcc/9.2.0/jupyter_conda/2020.11-py3.8/lib/python3.8/site-packages/IPython/extensions',\n",
       " '/sfs/qumulo/qhome/nrw5cq/.ipython',\n",
       " '/gpfs/gpfs0/scratch/nrw5cq/CS_4501_Fall22_RL_Project/',\n",
       " '/home/nrw5cq/.local/lib/python3.8/site-packages/libsbml',\n",
       " '/gpfs/gpfs0/scratch/nrw5cq/CS_4501_Fall22_RL_Project/']"
      ]
     },
     "execution_count": 12,
     "metadata": {},
     "output_type": "execute_result"
    }
   ],
   "source": [
    "import sys\n",
    "project_path = \"/gpfs/gpfs0/scratch/nrw5cq/CS_4501_Fall22_RL_Project/\"\n",
    "sys.path.append(project_path)\n",
    "sys.path"
   ]
  },
  {
   "cell_type": "code",
   "execution_count": 13,
   "metadata": {},
   "outputs": [
    {
     "data": {
      "text/plain": [
       "'/gpfs/gpfs0/scratch/nrw5cq/CS_4501_Fall22_RL_Project/snippets'"
      ]
     },
     "execution_count": 13,
     "metadata": {},
     "output_type": "execute_result"
    }
   ],
   "source": [
    "%pwd"
   ]
  },
  {
   "cell_type": "code",
   "execution_count": 14,
   "metadata": {},
   "outputs": [],
   "source": [
    "from my_scripts.optimization import vacc\n",
    "from ConstrainedLaMCTS.LAMCTS.lamcts import MCTS"
   ]
  },
  {
   "cell_type": "code",
   "execution_count": 15,
   "metadata": {},
   "outputs": [],
   "source": [
    "import configparser\n",
    "import multiprocess\n",
    "import torch"
   ]
  },
  {
   "cell_type": "code",
   "execution_count": 16,
   "metadata": {},
   "outputs": [],
   "source": [
    "from collections import namedtuple\n",
    "\n",
    "Arguments = namedtuple('Arguments', \n",
    "                       'cfg_dir out_dir name dims threads sim_draws n_init_pts iters samples method load agg_size agg_mapping cp treesize')\n",
    "\n",
    "args = Arguments(\n",
    "    \"/scratch/nrw5cq/CS_4501_Fall22_RL_Project/config/va_dulles_county/\",\n",
    "    \"/scratch/nrw5cq/CS_4501_Fall22_RL_Project/output/\",\n",
    "    \"poly_test\",\n",
    "    133,\n",
    "    20,\n",
    "    200,\n",
    "    0,\n",
    "    1,\n",
    "    100,\n",
    "    \"lamcts\",\n",
    "    None,\n",
    "    133,\n",
    "    \"/scratch/nrw5cq/CS_4501_Fall22_RL_Project/config/va_dulles_county/agg_mapping.csv\",\n",
    "    0.1,\n",
    "    100\n",
    ")"
   ]
  },
  {
   "cell_type": "code",
   "execution_count": 17,
   "metadata": {},
   "outputs": [
    {
     "name": "stdout",
     "output_type": "stream",
     "text": [
      "{'iters': 25, 'tau1': 2.21479534, 'tau2': 0.796080931, 'rho': 1.5609646, 'theta': 3.73211699e-10, 'alpha': 0.97, 'beta': 6.3}\n",
      "{'obj': 'attacksize', 'V_repr': 'ratio', 'constraint_bnd': 0.05, 'constraint_type': 'ineq', 'aggregate': 'True'}\n"
     ]
    }
   ],
   "source": [
    "import os\n",
    "assert os.path.exists(args.cfg_dir)\n",
    "assert os.path.exists(args.out_dir)\n",
    "\n",
    "#config_dir = \"config/5_by_5/{}\"\n",
    "config_dir = args.cfg_dir + \"{}\"\n",
    "\n",
    "sim_param_config = configparser.ConfigParser()\n",
    "sim_param_config.optionxform = str  # retain case sensitivity\n",
    "\n",
    "# load simulation files\n",
    "with open(config_dir.format(\"params.cfg\")) as config_file:\n",
    "    sim_param_config.read_file(config_file)\n",
    "    tsir_config_str = dict(sim_param_config['tsir_config'])\n",
    "    tsir_config = {}\n",
    "    for k, v in tsir_config_str.items():\n",
    "        if k == 'iters':\n",
    "            tsir_config['iters'] = int(tsir_config_str['iters'])\n",
    "        else:\n",
    "            tsir_config[k] = float(tsir_config_str[k])\n",
    "    opt_config = dict(sim_param_config['opt_config'])\n",
    "    opt_config['constraint_bnd'] = float(opt_config['constraint_bnd'])\n",
    "\n",
    "print(tsir_config)\n",
    "\n",
    "print(opt_config)\n",
    "\n",
    "# load vaccination/population data and distance matrix\n",
    "vacc_df = pd.read_csv(config_dir.format(\"pop.csv\"))\n",
    "dist_list = pd.read_csv(config_dir.format(\"dist.csv\"))\n",
    "dist_mat = dist_list.pivot(index='zipcode1', columns='zipcode2', values='distKM')\n",
    "dist_mat = dist_mat.fillna(0)\n",
    "\n",
    "seed = pd.read_csv(config_dir.format(sim_param_config['seed']['seed']),header=None)\n",
    "seed = np.array(seed).flatten()\n",
    "\n",
    "\n",
    "torch.set_num_threads(args.threads)"
   ]
  },
  {
   "cell_type": "code",
   "execution_count": 18,
   "metadata": {},
   "outputs": [],
   "source": [
    "agg_mapping = pd.read_csv(args.agg_mapping)\n",
    "agg_mapping = np.array(agg_mapping['mapping'])\n",
    "v = vacc.VaccProblemLAMCTSWrapper(\n",
    "    opt_config = opt_config, \n",
    "    V_0= vacc_df['vacc'], \n",
    "    seed = seed,\n",
    "    sim_config = tsir_config, \n",
    "    pop = vacc_df, \n",
    "    distances = np.array(dist_mat),\n",
    "    negate=True, scale=True,\n",
    "    cores=args.threads, n_sim=args.sim_draws,\n",
    "    output_dir = args.out_dir,\n",
    "    name=args.name,\n",
    "    agg_vector=agg_mapping,\n",
    "    agg_size=args.agg_size\n",
    ")\n"
   ]
  },
  {
   "cell_type": "code",
   "execution_count": 19,
   "metadata": {},
   "outputs": [
    {
     "name": "stdout",
     "output_type": "stream",
     "text": [
      "gamma_type: auto\n",
      "[]\n",
      "==========collect 0 points for initializing MCTS==========\n",
      "lb: [0. 0. 0. 0. 0. 0. 0. 0. 0. 0. 0. 0. 0. 0. 0. 0. 0. 0. 0. 0. 0. 0. 0. 0.\n",
      " 0. 0. 0. 0. 0. 0. 0. 0. 0. 0. 0. 0. 0. 0. 0. 0. 0. 0. 0. 0. 0. 0. 0. 0.\n",
      " 0. 0. 0. 0. 0. 0. 0. 0. 0. 0. 0. 0. 0. 0. 0. 0. 0. 0. 0. 0. 0. 0. 0. 0.\n",
      " 0. 0. 0. 0. 0. 0. 0. 0. 0. 0. 0. 0. 0. 0. 0. 0. 0. 0. 0. 0. 0. 0. 0. 0.\n",
      " 0. 0. 0. 0. 0. 0. 0. 0. 0. 0. 0. 0. 0. 0. 0. 0. 0. 0. 0. 0. 0. 0. 0. 0.\n",
      " 0. 0. 0. 0. 0. 0. 0. 0. 0. 0. 0. 0. 0.]\n",
      "ub: [0.90348714 0.90034098 0.89295542 0.9132303  0.91433892 0.8990333\n",
      " 0.8963964  0.90045613 0.89583333 0.90887934 0.90516145 0.92035876\n",
      " 0.89841617 0.88343254 0.89801255 0.89468384 0.90105634 0.9178955\n",
      " 0.91027771 0.85894495 0.90228245 0.86903353 0.9107867  0.89495859\n",
      " 0.90954774 0.90675063 0.91122947 0.88507719 0.90664962 0.91745076\n",
      " 0.89401775 0.90645679 0.91559829 0.91438703 0.88954635 0.90974114\n",
      " 0.91566504 0.89777357 0.8788143  0.90551413 0.92485195 0.90877249\n",
      " 0.91343432 0.90288066 0.90562871 0.91874798 0.88995215 0.92054722\n",
      " 0.90309652 0.90225564 0.90295359 0.91145038 0.89673913 0.91310234\n",
      " 0.88888889 0.90339321 0.89092521 0.91237525 0.89257443 0.90423862\n",
      " 0.90875639 0.9212061  0.90135258 0.90138167 0.88349001 0.90277052\n",
      " 0.90638572 0.91467158 0.83126551 0.9035981  0.89776671 0.91659789\n",
      " 0.89028297 0.91454965 0.89468085 0.92235016 0.9076087  0.92049363\n",
      " 0.87159297 0.89817881 0.89589257 0.90000675 0.89941973 0.91767483\n",
      " 0.89526351 0.90891344 0.8960396  0.90578158 0.91525424 0.91329211\n",
      " 0.91154368 0.90602543 0.90782859 0.90734266 0.88176608 0.91964286\n",
      " 0.88092604 0.92911314 0.893796   0.9137457  0.88606347 0.88968724\n",
      " 0.91728949 0.88828829 0.91057655 0.86988393 0.90881764 0.88302425\n",
      " 0.90146751 0.90401567 0.90283109 0.89670932 0.90389846 0.89196941\n",
      " 0.90076336 0.90395894 0.90740987 0.90678587 0.93681319 0.8991084\n",
      " 0.90693083 0.91897993 0.90846457 0.89170596 0.91439527 0.90759881\n",
      " 0.91860414 0.90461997 0.90455472 0.91152376 0.90319258 0.90346956\n",
      " 0.90274314]\n",
      "Cp: 0.1\n",
      "inits: 0\n",
      "dims: 133\n",
      "==========================================================\n"
     ]
    }
   ],
   "source": [
    "P = np.zeros(args.agg_size)\n",
    "for zipcode_index, county_index in enumerate(agg_mapping):\n",
    "    P[county_index] += vacc_df['pop'][zipcode_index]\n",
    "c = opt_config['constraint_bnd']\n",
    "# upper bound by the least vaccinated in each county\n",
    "ub = np.ones(args.agg_size)*np.inf\n",
    "for zipcode_index, county_index in enumerate(agg_mapping):\n",
    "    this_zip_vacc = vacc_df.loc[zipcode_index,'vacc']\n",
    "    if ub[county_index] > this_zip_vacc:\n",
    "        ub[county_index] = this_zip_vacc\n",
    "v.ub = ub\n",
    "v.lb = np.zeros(args.dims)\n",
    "\n",
    "agent = MCTS(\n",
    "     lb = np.zeros(args.dims),      # the lower bound of each problem dimensions\n",
    "     ub = ub,       # the upper bound of each problem dimensions\n",
    "     dims = args.dims,              # the problem dimensions\n",
    "     ninits = 0,           # the number of random samples used in initializations \n",
    "     A_ineq = np.array([P]),\n",
    "     b_ineq = np.array([c*np.sum(P)]),\n",
    "     A_eq = None, b_eq = None,\n",
    "     func = v,               # function object to be optimized\n",
    "     Cp = args.cp,              # Cp for MCTS\n",
    "     leaf_size = args.treesize, # tree leaf size\n",
    "     kernel_type = 'linear', #SVM configruation\n",
    "     gamma_type = \"auto\",    #SVM configruation\n",
    "     solver_type = 'turbo',\n",
    "     num_threads = args.threads\n",
    "     )"
   ]
  },
  {
   "cell_type": "code",
   "execution_count": 20,
   "metadata": {},
   "outputs": [],
   "source": [
    "agent.load_samples_from_file(\n",
    "    \"/scratch/nrw5cq/CS_4501_Fall22_RL_Project/output/va_dullesvacc_sim_va_dulles_county_2023-02-12T23:18:01.788022_samples.csv\",\n",
    "    \"/scratch/nrw5cq/CS_4501_Fall22_RL_Project/output/va_dullesvacc_sim_va_dulles_county_2023-02-12T23:18:01.788022_best_trace.csv\"\n",
    ")"
   ]
  },
  {
   "cell_type": "code",
   "execution_count": 21,
   "metadata": {},
   "outputs": [
    {
     "name": "stdout",
     "output_type": "stream",
     "text": [
      "----------------------------------------------------------------------------------------------------\n",
      "node0  is good:False  is leaf:False   val:5543.4399       uct:inf            sp/n:1085/1085  parent:----       kids:node1     node2     \n",
      "node1  is good:True   is leaf:False   val:6239.5098       uct:6244.9860      sp/n:879/879    parent:node0      kids:node3     node4     \n",
      "node2  is good:False  is leaf:False   val:2573.3069       uct:2584.6170      sp/n:206/206    parent:node0      kids:node5     node6     \n",
      "node3  is good:True   is leaf:False   val:7639.3418       uct:7649.0250      sp/n:253/253    parent:node1      kids:node7     node8     \n",
      "node4  is good:False  is leaf:False   val:5673.7642       uct:5679.9200      sp/n:626/626    parent:node1      kids:node9     node10    \n",
      "node5  is good:True   is leaf:False   val:3456.9380       uct:3466.6800      sp/n:121/121    parent:node2      kids:node11    node12    \n",
      "node6  is good:False  is leaf:True    val:1315.4301       uct:1327.0530      sp/n:85/85      parent:node2      kids:\n",
      "node7  is good:True   is leaf:False   val:7879.4731       uct:7888.7460      sp/n:148/148    parent:node3      kids:node13    node14    \n",
      "node8  is good:False  is leaf:False   val:7300.8721       uct:7311.8810      sp/n:105/105    parent:node3      kids:node15    node16    \n",
      "node9  is good:True   is leaf:False   val:5892.6221       uct:5899.3830      sp/n:438/438    parent:node4      kids:node17    node18    \n",
      "node10 is good:False  is leaf:False   val:5163.8730       uct:5174.1910      sp/n:188/188    parent:node4      kids:node19    node20    \n",
      "node11 is good:True   is leaf:True    val:3944.9861       uct:3957.5220      sp/n:56/56      parent:node5      kids:\n",
      "node12 is good:False  is leaf:True    val:3036.4661       uct:3048.1020      sp/n:65/65      parent:node5      kids:\n",
      "node13 is good:True   is leaf:True    val:7968.2871       uct:7981.9680      sp/n:52/52      parent:node7      kids:\n",
      "node14 is good:False  is leaf:True    val:7831.3662       uct:7841.4340      sp/n:96/96      parent:node7      kids:\n",
      "node15 is good:True   is leaf:True    val:7415.2842       uct:7425.2220      sp/n:83/83      parent:node8      kids:\n",
      "node16 is good:False  is leaf:True    val:6869.2251       uct:6888.5280      sp/n:22/22      parent:node8      kids:\n",
      "node17 is good:True   is leaf:False   val:6035.6802       uct:6044.5250      sp/n:214/214    parent:node9      kids:node21    node22    \n",
      "node18 is good:False  is leaf:False   val:5755.9502       uct:5764.5960      sp/n:224/224    parent:node9      kids:node23    node24    \n",
      "node19 is good:True   is leaf:False   val:5365.8848       uct:5375.3670      sp/n:122/122    parent:node10     kids:node25    node26    \n",
      "node20 is good:False  is leaf:True    val:4790.4570       uct:4803.3490      sp/n:66/66      parent:node10     kids:\n",
      "node21 is good:True   is leaf:True    val:6322.9102       uct:6343.7290      sp/n:27/27      parent:node17     kids:\n",
      "node22 is good:False  is leaf:False   val:5994.2080       uct:6002.1190      sp/n:187/187    parent:node17     kids:node27    node28    \n",
      "node23 is good:True   is leaf:False   val:5810.0771       uct:5818.9520      sp/n:152/152    parent:node18     kids:node29    node30    \n",
      "node24 is good:False  is leaf:True    val:5641.6841       uct:5654.5800      sp/n:72/72      parent:node18     kids:\n",
      "node25 is good:True   is leaf:True    val:5449.3262       uct:5460.1810      sp/n:75/75      parent:node19     kids:\n",
      "node26 is good:False  is leaf:True    val:5232.7339       uct:5246.4460      sp/n:47/47      parent:node19     kids:\n",
      "node27 is good:True   is leaf:False   val:6033.0781       uct:6043.0050      sp/n:111/111    parent:node22     kids:node31    node32    \n",
      "node28 is good:False  is leaf:True    val:5937.4390       uct:5949.4370      sp/n:76/76      parent:node22     kids:\n",
      "node29 is good:True   is leaf:True    val:5853.5640       uct:5865.2680      sp/n:72/72      parent:node23     kids:\n",
      "node30 is good:False  is leaf:True    val:5770.9399       uct:5782.0430      sp/n:80/80      parent:node23     kids:\n",
      "node31 is good:True   is leaf:True    val:6067.3828       uct:6080.7740      sp/n:47/47      parent:node27     kids:\n",
      "node32 is good:False  is leaf:True    val:6007.8848       uct:6019.3610      sp/n:64/64      parent:node27     kids:\n",
      "----------------------------------------------------------------------------------------------------\n"
     ]
    }
   ],
   "source": [
    "agent.dynamic_treeify()"
   ]
  },
  {
   "cell_type": "code",
   "execution_count": 22,
   "metadata": {},
   "outputs": [
    {
     "name": "stdout",
     "output_type": "stream",
     "text": [
      "----------------------------------------------------------------------------------------------------\n",
      "node0  is good:False  is leaf:False   val:5543.4399       uct:inf            sp/n:1085/1085  parent:----       kids:node1     node2     \n",
      "node1  is good:True   is leaf:False   val:6239.5098       uct:6244.9860      sp/n:879/879    parent:node0      kids:node3     node4     \n",
      "node2  is good:False  is leaf:False   val:2573.3069       uct:2584.6170      sp/n:206/206    parent:node0      kids:node5     node6     \n",
      "node3  is good:True   is leaf:False   val:7639.3418       uct:7649.0250      sp/n:253/253    parent:node1      kids:node7     node8     \n",
      "node4  is good:False  is leaf:False   val:5673.7642       uct:5679.9200      sp/n:626/626    parent:node1      kids:node9     node10    \n",
      "node5  is good:True   is leaf:False   val:3456.9380       uct:3466.6800      sp/n:121/121    parent:node2      kids:node11    node12    \n",
      "node6  is good:False  is leaf:True    val:1315.4301       uct:1327.0530      sp/n:85/85      parent:node2      kids:\n",
      "node7  is good:True   is leaf:False   val:7879.4731       uct:7888.7460      sp/n:148/148    parent:node3      kids:node13    node14    \n",
      "node8  is good:False  is leaf:False   val:7300.8721       uct:7311.8810      sp/n:105/105    parent:node3      kids:node15    node16    \n",
      "node9  is good:True   is leaf:False   val:5892.6221       uct:5899.3830      sp/n:438/438    parent:node4      kids:node17    node18    \n",
      "node10 is good:False  is leaf:False   val:5163.8730       uct:5174.1910      sp/n:188/188    parent:node4      kids:node19    node20    \n",
      "node11 is good:True   is leaf:True    val:3944.9861       uct:3957.5220      sp/n:56/56      parent:node5      kids:\n",
      "node12 is good:False  is leaf:True    val:3036.4661       uct:3048.1020      sp/n:65/65      parent:node5      kids:\n",
      "node13 is good:True   is leaf:True    val:7968.2871       uct:7981.9680      sp/n:52/52      parent:node7      kids:\n",
      "node14 is good:False  is leaf:True    val:7831.3662       uct:7841.4340      sp/n:96/96      parent:node7      kids:\n",
      "node15 is good:True   is leaf:True    val:7415.2842       uct:7425.2220      sp/n:83/83      parent:node8      kids:\n",
      "node16 is good:False  is leaf:True    val:6869.2251       uct:6888.5280      sp/n:22/22      parent:node8      kids:\n",
      "node17 is good:True   is leaf:False   val:6035.6802       uct:6044.5250      sp/n:214/214    parent:node9      kids:node21    node22    \n",
      "node18 is good:False  is leaf:False   val:5755.9502       uct:5764.5960      sp/n:224/224    parent:node9      kids:node23    node24    \n",
      "node19 is good:True   is leaf:False   val:5365.8848       uct:5375.3670      sp/n:122/122    parent:node10     kids:node25    node26    \n",
      "node20 is good:False  is leaf:True    val:4790.4570       uct:4803.3490      sp/n:66/66      parent:node10     kids:\n",
      "node21 is good:True   is leaf:True    val:6322.9102       uct:6343.7290      sp/n:27/27      parent:node17     kids:\n",
      "node22 is good:False  is leaf:False   val:5994.2080       uct:6002.1190      sp/n:187/187    parent:node17     kids:node27    node28    \n",
      "node23 is good:True   is leaf:False   val:5810.0771       uct:5818.9520      sp/n:152/152    parent:node18     kids:node29    node30    \n",
      "node24 is good:False  is leaf:True    val:5641.6841       uct:5654.5800      sp/n:72/72      parent:node18     kids:\n",
      "node25 is good:True   is leaf:True    val:5449.3262       uct:5460.1810      sp/n:75/75      parent:node19     kids:\n",
      "node26 is good:False  is leaf:True    val:5232.7339       uct:5246.4460      sp/n:47/47      parent:node19     kids:\n",
      "node27 is good:True   is leaf:False   val:6033.0781       uct:6043.0050      sp/n:111/111    parent:node22     kids:node31    node32    \n",
      "node28 is good:False  is leaf:True    val:5937.4390       uct:5949.4370      sp/n:76/76      parent:node22     kids:\n",
      "node29 is good:True   is leaf:True    val:5853.5640       uct:5865.2680      sp/n:72/72      parent:node23     kids:\n",
      "node30 is good:False  is leaf:True    val:5770.9399       uct:5782.0430      sp/n:80/80      parent:node23     kids:\n",
      "node31 is good:True   is leaf:True    val:6067.3828       uct:6080.7740      sp/n:47/47      parent:node27     kids:\n",
      "node32 is good:False  is leaf:True    val:6007.8848       uct:6019.3610      sp/n:64/64      parent:node27     kids:\n",
      "----------------------------------------------------------------------------------------------------\n"
     ]
    }
   ],
   "source": [
    "agent.print_tree()"
   ]
  },
  {
   "cell_type": "code",
   "execution_count": 23,
   "metadata": {},
   "outputs": [],
   "source": [
    "#agent.search(1087,1086)"
   ]
  },
  {
   "cell_type": "code",
   "execution_count": 24,
   "metadata": {},
   "outputs": [
    {
     "name": "stdout",
     "output_type": "stream",
     "text": [
      "=> node1 => node3 => node7 => node13 \n"
     ]
    },
    {
     "data": {
      "text/plain": [
       "[{'A_eq': None,\n",
       "  'b_eq': None,\n",
       "  'A_ineq': array([[165077., 149876.,  19918.,  48995.,   4900.,   6228.,  15291.,\n",
       "           83253., 146783.,  93686., 170388.,   9254.,  30762., 123077.,\n",
       "           43237.,  84761.,  17931.,  45057.,   4213.,  18264.,  10820.,\n",
       "           91026.,   6165.,  31919.,   5153.,  81823., 110107.,  10027.,\n",
       "            4692.,  34222.,  28618., 127064.,   3951.,  19846.,  38718.,\n",
       "           66181.,  15142.,  25911., 500626.,  49041.,  14691., 110479.,\n",
       "           74010.,  11750., 139900.,  21661.,  54834.,   3801.,  15469.,\n",
       "           68687.,   3579., 109147., 102520.,  48466.,  74397.,  33146.,\n",
       "           93219.,   6623.,  77435.,  55097.,  14675.,  46298.,  35068.,\n",
       "           64541.,  59968.,   2645.,  55267.,  11809.,  75534.,   1473.,\n",
       "          294210.,  82691.,   9333.,  33861.,  14788.,  26055.,   1934.,\n",
       "           56398.,  53143.,  26966., 132188.,  36907.,  30221.,  74726.,\n",
       "          111996., 327839.,  23385.,  11641.,   3835.,  30107.,  46653.,\n",
       "           15745.,  81171.,   2249.,  94624.,   5936.,  82258.,   6461.,\n",
       "            4691.,  10671., 173423.,  96875.,  15838.,  12492.,   8314.,\n",
       "           31965.,  25050.,  26418.,  72639.,  60863., 116134.,   2188.,\n",
       "           92083.,  43121.,  43018.,  18299.,  14683.,  52029.,    728.,\n",
       "          115591.,  32569.,  55074.,  90640., 147763.,  10337.,  56116.,\n",
       "           22667.,  20627.,   7355.,   3662.,  23209., 130106.,  61147.]]),\n",
       "  'b_ineq': array([372194.9])},\n",
       " (<ConstrainedLaMCTS.LAMCTS.lamcts.Node.Node at 0x7f01b0db0d30>, 0),\n",
       " (<ConstrainedLaMCTS.LAMCTS.lamcts.Node.Node at 0x7f016b59fee0>, 0),\n",
       " (<ConstrainedLaMCTS.LAMCTS.lamcts.Node.Node at 0x7f01b0db09d0>, 0),\n",
       " (<ConstrainedLaMCTS.LAMCTS.lamcts.Node.Node at 0x7f01cc6b8df0>, 0)]"
      ]
     },
     "execution_count": 24,
     "metadata": {},
     "output_type": "execute_result"
    }
   ],
   "source": [
    "root, path = agent.select()\n",
    "path"
   ]
  },
  {
   "cell_type": "code",
   "execution_count": 25,
   "metadata": {},
   "outputs": [],
   "source": [
    "dim = args.dims\n",
    "num_constrs = len(path)\n",
    "A_constr = np.zeros((num_constrs,dim))\n",
    "b_constr = np.zeros(num_constrs)\n",
    "global_constrs = path[0]\n",
    "# we will add the inequality constraint using the hopsy function\n",
    "if global_constrs[\"A_ineq\"] is not None and global_constrs[\"b_ineq\"] is not None:\n",
    "    A = global_constrs[\"A_ineq\"]\n",
    "    b = global_constrs[\"b_ineq\"]\n",
    "else: # no global constraint\n",
    "    A = np.array([np.ones(dim)])\n",
    "    b = np.array([np.inf])\n",
    "\n",
    "# let the global constraint occupy the first spot...\n",
    "A_constr[0,:] = A[0]\n",
    "b_constr[0] = b[0]\n",
    "\n",
    "# extract constraints from svc objects\n",
    "for i in range(1,len(path)):\n",
    "    # TODO: want to be able to change based on kernel type?\n",
    "    # path is a list of tuples (classifier,0)\n",
    "    this_classifier = path[i][0].classifier.svm\n",
    "    # matrix with single row, so extract the vector\n",
    "    coefs = this_classifier.coef_[0]\n",
    "    # vector with single entry, so extract the scalar\n",
    "    intercept = this_classifier.intercept_[0]\n",
    "    # the set of positive examples for the svm is\n",
    "    # coefs^T x + intercept >= 0\n",
    "    # so to rewrite this in hopsy form,\n",
    "    # -coefs^T x <= intercept\n",
    "    A_constr[i,:] = coefs\n",
    "    b_constr[i] = -intercept"
   ]
  },
  {
   "cell_type": "code",
   "execution_count": 26,
   "metadata": {},
   "outputs": [
    {
     "data": {
      "text/plain": [
       "array([-4.46633880e+07, -7.27671031e+01, -7.95213463e+01, -1.89684365e+01,\n",
       "       -2.14355013e+01])"
      ]
     },
     "execution_count": 26,
     "metadata": {},
     "output_type": "execute_result"
    }
   ],
   "source": [
    "A_constr@np.ones(args.dims)*-6"
   ]
  },
  {
   "cell_type": "code",
   "execution_count": 27,
   "metadata": {},
   "outputs": [
    {
     "data": {
      "text/plain": [
       "array([ 3.72194900e+05, -6.89649967e-01,  7.61038109e-01, -1.59415681e+00,\n",
       "        2.03205539e-01])"
      ]
     },
     "execution_count": 27,
     "metadata": {},
     "output_type": "execute_result"
    }
   ],
   "source": [
    "b_constr"
   ]
  },
  {
   "cell_type": "code",
   "execution_count": 28,
   "metadata": {},
   "outputs": [],
   "source": [
    "from ConstrainedLaMCTS.LAMCTS.lamcts import hopsy_sampler"
   ]
  },
  {
   "cell_type": "code",
   "execution_count": 29,
   "metadata": {},
   "outputs": [],
   "source": [
    "# find the chebyshev center? or the analytic center of this polytope?\n",
    "A_constr_row_norms = np.linalg.norm(A_constr,axis=1,ord=2)\n",
    "\n",
    "cheb_A = np.concatenate([A_constr,np.array([A_constr_row_norms]).T],axis=1)\n",
    "np.shape(cheb_A)\n",
    "\n",
    "cheb_c = np.zeros(np.shape(cheb_A)[1])\n",
    "np.put(a=cheb_c,ind=-1,v=-1)"
   ]
  },
  {
   "cell_type": "code",
   "execution_count": 30,
   "metadata": {},
   "outputs": [
    {
     "data": {
      "text/plain": [
       "[(0.0, 0.9034871433603382),\n",
       " (0.0, 0.9003409795412275),\n",
       " (0.0, 0.8929554210236654),\n",
       " (0.0, 0.9132303000900964),\n",
       " (0.0, 0.914338919925512),\n",
       " (0.0, 0.8990332975295381),\n",
       " (0.0, 0.8963963963963963),\n",
       " (0.0, 0.90045613093641),\n",
       " (0.0, 0.8958333333333334),\n",
       " (0.0, 0.9088793412101682),\n",
       " (0.0, 0.9051614543605392),\n",
       " (0.0, 0.9203587637778258),\n",
       " (0.0, 0.898416166029492),\n",
       " (0.0, 0.8834325396825397),\n",
       " (0.0, 0.8980125523012552),\n",
       " (0.0, 0.8946838356952738),\n",
       " (0.0, 0.901056338028169),\n",
       " (0.0, 0.9178955033679228),\n",
       " (0.0, 0.9102777118442916),\n",
       " (0.0, 0.8589449541284404),\n",
       " (0.0, 0.9022824536376604),\n",
       " (0.0, 0.8690335305719921),\n",
       " (0.0, 0.910786699107867),\n",
       " (0.0, 0.8949585936364958),\n",
       " (0.0, 0.9095477386934674),\n",
       " (0.0, 0.906750629722922),\n",
       " (0.0, 0.9112294718153572),\n",
       " (0.0, 0.8850771869639794),\n",
       " (0.0, 0.9066496163682864),\n",
       " (0.0, 0.91745076266729),\n",
       " (0.0, 0.8940177510657628),\n",
       " (0.0, 0.9064567876478844),\n",
       " (0.0, 0.9155982905982906),\n",
       " (0.0, 0.914387031408308),\n",
       " (0.0, 0.8895463510848126),\n",
       " (0.0, 0.909741144414169),\n",
       " (0.0, 0.9156650376436402),\n",
       " (0.0, 0.8977735739231665),\n",
       " (0.0, 0.8788142981691369),\n",
       " (0.0, 0.9055141328615358),\n",
       " (0.0, 0.9248519501735756),\n",
       " (0.0, 0.908772488457252),\n",
       " (0.0, 0.9134343209071726),\n",
       " (0.0, 0.902880658436214),\n",
       " (0.0, 0.9056287115930804),\n",
       " (0.0, 0.918747980240986),\n",
       " (0.0, 0.8899521531100478),\n",
       " (0.0, 0.9205472244146278),\n",
       " (0.0, 0.9030965156118688),\n",
       " (0.0, 0.9022556390977444),\n",
       " (0.0, 0.9029535864978904),\n",
       " (0.0, 0.9114503816793892),\n",
       " (0.0, 0.8967391304347826),\n",
       " (0.0, 0.9131023416737702),\n",
       " (0.0, 0.8888888888888888),\n",
       " (0.0, 0.9033932135728544),\n",
       " (0.0, 0.8909252143068283),\n",
       " (0.0, 0.912375249500998),\n",
       " (0.0, 0.8925744308231174),\n",
       " (0.0, 0.9042386185243328),\n",
       " (0.0, 0.908756388415673),\n",
       " (0.0, 0.921206099615534),\n",
       " (0.0, 0.901352576696388),\n",
       " (0.0, 0.9013816706806946),\n",
       " (0.0, 0.8834900117508813),\n",
       " (0.0, 0.9027705175117616),\n",
       " (0.0, 0.9063857165835612),\n",
       " (0.0, 0.9146715776550032),\n",
       " (0.0, 0.8312655086848635),\n",
       " (0.0, 0.9035980991174474),\n",
       " (0.0, 0.8977667119360193),\n",
       " (0.0, 0.9165978931016068),\n",
       " (0.0, 0.8902829684997331),\n",
       " (0.0, 0.9145496535796768),\n",
       " (0.0, 0.8946808510638298),\n",
       " (0.0, 0.922350162385592),\n",
       " (0.0, 0.907608695652174),\n",
       " (0.0, 0.920493634526047),\n",
       " (0.0, 0.8715929739551787),\n",
       " (0.0, 0.8981788079470199),\n",
       " (0.0, 0.8958925705920442),\n",
       " (0.0, 0.9000067471830511),\n",
       " (0.0, 0.8994197292069632),\n",
       " (0.0, 0.9176748303334316),\n",
       " (0.0, 0.895263509006004),\n",
       " (0.0, 0.908913442392535),\n",
       " (0.0, 0.8960396039603961),\n",
       " (0.0, 0.9057815845824412),\n",
       " (0.0, 0.9152542372881356),\n",
       " (0.0, 0.913292107187978),\n",
       " (0.0, 0.9115436849253056),\n",
       " (0.0, 0.906025428413488),\n",
       " (0.0, 0.9078285851089298),\n",
       " (0.0, 0.9073426573426572),\n",
       " (0.0, 0.8817660793886648),\n",
       " (0.0, 0.9196428571428572),\n",
       " (0.0, 0.8809260362584049),\n",
       " (0.0, 0.929113140380746),\n",
       " (0.0, 0.8937960042060988),\n",
       " (0.0, 0.913745704467354),\n",
       " (0.0, 0.8860634732899665),\n",
       " (0.0, 0.889687235841082),\n",
       " (0.0, 0.9172894867962132),\n",
       " (0.0, 0.8882882882882883),\n",
       " (0.0, 0.9105765459537194),\n",
       " (0.0, 0.8698839340256567),\n",
       " (0.0, 0.908817635270541),\n",
       " (0.0, 0.8830242510699001),\n",
       " (0.0, 0.90146750524109),\n",
       " (0.0, 0.9040156709108716),\n",
       " (0.0, 0.902831094049904),\n",
       " (0.0, 0.896709323583181),\n",
       " (0.0, 0.9038984587488668),\n",
       " (0.0, 0.8919694072657743),\n",
       " (0.0, 0.900763358778626),\n",
       " (0.0, 0.9039589442815248),\n",
       " (0.0, 0.9074098709591591),\n",
       " (0.0, 0.9067858713176022),\n",
       " (0.0, 0.9368131868131868),\n",
       " (0.0, 0.8991083998122947),\n",
       " (0.0, 0.9069308278867102),\n",
       " (0.0, 0.9189799280092734),\n",
       " (0.0, 0.908464566929134),\n",
       " (0.0, 0.8917059596506145),\n",
       " (0.0, 0.9143952741216708),\n",
       " (0.0, 0.9075988077265512),\n",
       " (0.0, 0.9186041381744386),\n",
       " (0.0, 0.9046199701937406),\n",
       " (0.0, 0.9045547246770904),\n",
       " (0.0, 0.9115237575095576),\n",
       " (0.0, 0.9031925849639548),\n",
       " (0.0, 0.9034695649377792),\n",
       " (0.0, 0.9027431421446384),\n",
       " (0, None)]"
      ]
     },
     "execution_count": 30,
     "metadata": {},
     "output_type": "execute_result"
    }
   ],
   "source": [
    "list(zip(v.lb,v.ub))+[(0,None)]"
   ]
  },
  {
   "cell_type": "code",
   "execution_count": 34,
   "metadata": {},
   "outputs": [],
   "source": [
    "from scipy.optimize import linprog\n",
    "soln = linprog(c=cheb_c,A_ub=cheb_A,b_ub=b_constr, bounds = list(zip(v.lb,v.ub))+[(0,None)])"
   ]
  },
  {
   "cell_type": "code",
   "execution_count": null,
   "metadata": {},
   "outputs": [],
   "source": []
  },
  {
   "cell_type": "code",
   "execution_count": 35,
   "metadata": {},
   "outputs": [
    {
     "data": {
      "text/plain": [
       "array([ True,  True,  True,  True,  True])"
      ]
     },
     "execution_count": 35,
     "metadata": {},
     "output_type": "execute_result"
    }
   ],
   "source": [
    "A_constr@soln.x[:-1] <= b_constr"
   ]
  },
  {
   "cell_type": "code",
   "execution_count": 36,
   "metadata": {},
   "outputs": [
    {
     "data": {
      "text/plain": [
       "array([1.05169840e-10, 1.32608914e-10, 1.09674916e-09, 5.36754124e-10,\n",
       "       5.18608432e-01, 1.26010186e-09, 2.16799661e-09, 2.57199615e-10,\n",
       "       1.24449849e-10, 2.03937574e-10, 1.24827666e-10, 2.84386338e-09,\n",
       "       7.76187957e-10, 1.62321647e-10, 5.33662875e-10, 2.51796082e-10,\n",
       "       1.47575470e-09, 5.79865802e-10, 1.72355695e-09, 8.52152208e-10,\n",
       "       1.57345512e-09, 2.29756969e-10, 8.94534050e-10, 7.48055663e-10,\n",
       "       1.22549921e-09, 2.80589572e-10, 1.73636538e-10, 1.60623808e-09,\n",
       "       1.49054028e-09, 7.82063672e-10, 9.49043169e-10, 1.49064294e-10,\n",
       "       2.43322193e-09, 1.80159885e-09, 7.03874397e-10, 3.79298824e-10,\n",
       "       1.18963908e-09, 7.94391789e-10, 6.23238409e-11, 4.80302210e-10,\n",
       "       6.93245079e-10, 1.48612257e-10, 3.01701258e-10, 1.43588262e-01,\n",
       "       1.30295842e-10, 7.21051922e-10, 4.92326186e-10, 9.20547223e-01,\n",
       "       1.51856343e-09, 3.22722563e-10, 2.12300250e-09, 1.96128144e-10,\n",
       "       1.88602961e-10, 4.95893031e-10, 3.03550607e-10, 7.28627051e-10,\n",
       "       2.25574605e-10, 8.38427218e-10, 3.05736191e-10, 4.51591886e-10,\n",
       "       9.33489801e-10, 5.48431660e-10, 7.98237461e-10, 4.01485496e-10,\n",
       "       4.64255596e-10, 9.39732838e-02, 4.80781298e-10, 1.28853698e-09,\n",
       "       3.34518121e-10, 9.03598098e-01, 1.89123439e-10, 2.64295054e-10,\n",
       "       1.56141232e-09, 7.25740086e-10, 1.07281570e-09, 9.60347734e-10,\n",
       "       2.87463271e-09, 4.56099485e-10, 5.11716196e-10, 7.63191662e-10,\n",
       "       1.36809964e-10, 5.85156225e-10, 7.24058808e-10, 3.00028457e-10,\n",
       "       1.56433622e-10, 1.60793915e-10, 1.16232455e-09, 1.57373813e-09,\n",
       "       1.74777388e-09, 7.69016489e-10, 4.88320662e-10, 1.29176453e-09,\n",
       "       2.67711329e-10, 4.19594498e-01, 2.24043133e-10, 2.73822917e-09,\n",
       "       2.75861459e-10, 2.60921316e-08, 8.93795996e-01, 1.45162001e-09,\n",
       "       1.55974314e-10, 2.20248726e-10, 1.19700631e-09, 1.01080953e-09,\n",
       "       1.47988763e-09, 6.79605302e-10, 8.79922410e-10, 8.63226647e-10,\n",
       "       3.33783995e-10, 4.43380350e-10, 1.44598225e-10, 2.62926291e-09,\n",
       "       2.32252825e-10, 6.61964559e-10, 5.89471421e-10, 1.17803853e-09,\n",
       "       1.05841113e-09, 5.12984131e-10, 4.71110293e-09, 1.66166883e-10,\n",
       "       6.77861494e-10, 4.48401442e-10, 2.41747280e-10, 1.38298116e-10,\n",
       "       1.28084686e-09, 4.37214803e-10, 9.50270105e-10, 9.40497748e-10,\n",
       "       9.61494972e-10, 9.11523701e-01, 1.04601991e-09, 1.29765519e-10,\n",
       "       3.99062468e-10, 3.55006547e-01])"
      ]
     },
     "execution_count": 36,
     "metadata": {},
     "output_type": "execute_result"
    }
   ],
   "source": [
    "soln.x"
   ]
  },
  {
   "cell_type": "code",
   "execution_count": 37,
   "metadata": {},
   "outputs": [
    {
     "data": {
      "text/plain": [
       "array([0], dtype=int32)"
      ]
     },
     "execution_count": 37,
     "metadata": {},
     "output_type": "execute_result"
    }
   ],
   "source": [
    "path[1][0].classifier.svm.predict(soln.x[:-1].reshape(1,-1))"
   ]
  },
  {
   "cell_type": "code",
   "execution_count": null,
   "metadata": {},
   "outputs": [],
   "source": [
    "# need to find initial point?\n",
    "\n",
    "rej_rate, samples = hopsy_sampler.propose_rand_samples_hopsy(\n",
    "    10000, \n",
    "    soln.x[:-1], \n",
    "    path, \n",
    "    v.lb, v.ub, dim, thin=150, threads=20)"
   ]
  },
  {
   "cell_type": "code",
   "execution_count": null,
   "metadata": {},
   "outputs": [],
   "source": [
    "# need to find initial point?\n",
    "\n",
    "rej_rate, samples = hopsy_sampler.propose_rand_samples_hopsy(\n",
    "    10000, \n",
    "    None, \n",
    "    path, \n",
    "    v.lb, v.ub, dim, thin=150, threads=20)"
   ]
  },
  {
   "cell_type": "code",
   "execution_count": 88,
   "metadata": {},
   "outputs": [
    {
     "data": {
      "text/plain": [
       "(10000, 133)"
      ]
     },
     "execution_count": 88,
     "metadata": {},
     "output_type": "execute_result"
    }
   ],
   "source": [
    "np.shape(np.unique(samples,axis=1))"
   ]
  },
  {
   "cell_type": "code",
   "execution_count": 120,
   "metadata": {},
   "outputs": [
    {
     "data": {
      "text/plain": [
       "4265"
      ]
     },
     "execution_count": 120,
     "metadata": {},
     "output_type": "execute_result"
    }
   ],
   "source": [
    "len(np.unique([samples[i,0] for i in range(10000)]))"
   ]
  },
  {
   "cell_type": "code",
   "execution_count": 101,
   "metadata": {},
   "outputs": [],
   "source": [
    "# try finding the analytic center\n",
    "def analytic_center_obj(x,A,b):\n",
    "    # compute every index in the logarithmic potential function... then sum it up\n",
    "    return -np.sum(np.log(b-A@x))\n",
    "\n",
    "def analytic_center_gradient(x,A,b,dims):\n",
    "    # to compute the jth component\n",
    "    return np.array([np.sum(A[:,j]/(b-A@x)) for j in range(dims)])"
   ]
  },
  {
   "cell_type": "code",
   "execution_count": 103,
   "metadata": {},
   "outputs": [
    {
     "data": {
      "text/plain": [
       "array([-0.01050279, -0.04600586,  0.14804348, -0.02675691, -0.05010047,\n",
       "       -0.03111062,  0.37533491, -0.06996211, -0.03379435, -0.02861627,\n",
       "       -0.03476289,  0.17951777, -0.07726493, -0.12985057, -0.26286098,\n",
       "       -0.09570282,  0.19752754, -0.12341609, -0.16884685, -0.13878057,\n",
       "       -0.11244657, -0.05968135, -0.18065565, -0.06352514, -0.17271715,\n",
       "       -0.03780922, -0.0261021 ,  0.05586638, -0.43534251, -0.19828589,\n",
       "       -0.00722438, -0.03541132, -0.34716456,  0.25980516, -0.13529956,\n",
       "       -0.02613269, -0.06421912, -0.10950719,  0.32851913, -0.06221765,\n",
       "       -0.06234397, -0.11258836, -0.0600139 ,  0.9135083 , -0.04123599,\n",
       "       -0.09582982, -0.08658891,  0.34940366,  0.05827534, -0.10970912,\n",
       "       -0.08866404,  0.16642818, -0.04744865, -0.32075638, -0.05538708,\n",
       "       -0.08558658, -0.0520238 , -0.70517026, -0.0585442 , -0.07877148,\n",
       "       -0.25613927, -0.09317525,  0.03387557, -0.03695862, -0.01096416,\n",
       "       -0.07706369, -0.03070729,  0.26751184, -0.03454719,  0.46492296,\n",
       "       -0.04967514, -0.03242662, -0.09913075, -0.00506009, -0.06033378,\n",
       "        0.07699258,  0.0581686 , -0.0346149 , -0.02248532, -0.19264905,\n",
       "       -0.03725911, -0.09548838, -0.14057714, -0.03899192,  0.01372516,\n",
       "       -0.03661225,  0.28905505, -0.06298332, -0.17158259, -0.08021189,\n",
       "       -0.07687774,  0.08773816, -0.03770133,  0.3693009 , -0.03982904,\n",
       "       -0.00513378, -0.05172389,  0.21342746,  0.35110593, -0.22858819,\n",
       "       -0.03545452, -0.03859695, -0.1086246 , -0.16395984, -0.10842384,\n",
       "       -0.13655511, -0.08078976,  0.01150474, -0.02490751, -0.05486768,\n",
       "       -0.03424822, -0.00984234, -0.04530503, -0.06890861, -0.12026338,\n",
       "       -0.09324796, -0.29969588, -0.02120075, -0.10030785, -0.00610396,\n",
       "       -0.09690732, -0.04193091, -0.02549954, -0.05519191, -0.45724374,\n",
       "       -0.03938963, -0.04604989, -0.04951619, -0.2207714 ,  0.19525106,\n",
       "       -0.04489197,  0.03572056, -0.05443866])"
      ]
     },
     "execution_count": 103,
     "metadata": {},
     "output_type": "execute_result"
    }
   ],
   "source": [
    "analytic_center_gradient(np.ones(133),A_constr,b_constr,133)"
   ]
  },
  {
   "cell_type": "code",
   "execution_count": 97,
   "metadata": {},
   "outputs": [
    {
     "data": {
      "text/plain": [
       "array([1.        , 0.5       , 0.33333333, 0.25      ])"
      ]
     },
     "execution_count": 97,
     "metadata": {},
     "output_type": "execute_result"
    }
   ],
   "source": [
    "np.ones(4)/np.array([1,2,3,4])"
   ]
  },
  {
   "cell_type": "code",
   "execution_count": 113,
   "metadata": {},
   "outputs": [
    {
     "data": {
      "text/plain": [
       "      fun: nan\n",
       " hess_inv: array([[ 9.72581044e-01, -2.46289041e-02, -3.47750488e-03, ...,\n",
       "        -3.79763388e-03, -2.16492206e-02, -9.63738398e-03],\n",
       "       [-2.46289041e-02,  9.76970255e-01, -2.54625102e-03, ...,\n",
       "        -3.60785519e-03, -1.93149592e-02, -1.04313969e-02],\n",
       "       [-3.47750488e-03, -2.54625102e-03,  9.99193249e-01, ...,\n",
       "        -3.55539782e-04, -2.82668264e-03, -9.31079020e-05],\n",
       "       ...,\n",
       "       [-3.79763388e-03, -3.60785519e-03, -3.55539782e-04, ...,\n",
       "         9.99431823e-01, -2.96873089e-03, -1.71989254e-03],\n",
       "       [-2.16492206e-02, -1.93149592e-02, -2.82668264e-03, ...,\n",
       "        -2.96873089e-03,  9.82891146e-01, -7.35329163e-03],\n",
       "       [-9.63738398e-03, -1.04313969e-02, -9.31079020e-05, ...,\n",
       "        -1.71989254e-03, -7.35329163e-03,  9.93140313e-01]])\n",
       "      jac: array([ 3.98985393e+01,  3.59995311e+01,  5.01039806e+00,  1.12270826e+01,\n",
       "        3.10019479e+00,  2.44236265e+00,  4.59945602e+00,  2.00406394e+01,\n",
       "        3.51922621e+01,  2.26168459e+01,  4.10745470e+01,  2.38005683e+00,\n",
       "        7.15421846e+00,  2.93675047e+01,  9.77032881e+00,  2.01038791e+01,\n",
       "        4.87897946e+00,  1.03749421e+01,  5.29707037e-01,  3.99184450e+00,\n",
       "        1.71727344e+00,  2.19125672e+01,  2.02470304e+00,  7.46300843e+00,\n",
       "        1.93370708e+00,  1.96145297e+01,  2.64613661e+01,  1.69793659e+00,\n",
       "       -9.87233948e-01,  8.37700010e+00,  6.82397503e+00,  3.05504290e+01,\n",
       "        2.73922327e-01,  6.39959753e+00,  8.83821753e+00,  1.56827486e+01,\n",
       "        3.23110547e+00,  5.78668363e+00,  1.21936745e+02,  1.18482850e+01,\n",
       "        4.67475325e+00,  2.61050662e+01,  1.76715624e+01,  7.94702642e+00,\n",
       "        3.37078952e+01,  5.58626767e+00,  1.31952536e+01,  8.87916683e-01,\n",
       "        4.02190607e+00,  1.62158413e+01,  8.25031480e-01,  2.67167872e+01,\n",
       "        2.46360805e+01,  1.12701887e+01,  1.77799253e+01,  7.71836411e+00,\n",
       "        2.23865933e+01,  4.59898865e+00,  1.86429544e+01,  1.33176464e+01,\n",
       "        4.46409133e+00,  1.06166632e+01,  8.94126090e+00,  1.53757809e+01,\n",
       "        1.40390626e+01, -1.35097597e+00,  1.34798629e+01,  4.94357307e+00,\n",
       "        1.80329283e+01,  1.51821508e+00,  7.08963601e+01,  1.98971561e+01,\n",
       "        1.37194107e+00,  8.07593575e+00,  3.04248577e+00,  6.78906977e+00,\n",
       "        1.32302268e+00,  1.35241610e+01,  1.28462312e+01,  5.70063681e+00,\n",
       "        3.18190859e+01,  8.79979302e+00,  6.75666559e+00,  1.79957147e+01,\n",
       "        2.73151447e+01,  7.90666231e+01,  4.74030413e+00,  3.44331747e+00,\n",
       "        1.12550920e-01,  6.93160138e+00,  1.11903574e+01,  4.14972202e+00,\n",
       "        1.95055928e+01,  9.99563320e-01,  2.26069237e+01,  1.44655913e+00,\n",
       "        1.95967594e+01,  1.50814980e+00,  2.23518817e+00,  7.92654679e-01,\n",
       "        4.17734987e+01,  2.31530627e+01,  3.30003531e+00,  2.18485186e+00,\n",
       "        1.75843171e+00,  7.39510689e+00,  5.56801031e+00,  6.98482109e+00,\n",
       "        1.73486231e+01,  1.42049984e+01,  2.79846935e+01,  1.17749172e-01,\n",
       "        2.21141105e+01,  9.98595985e+00,  9.99678599e+00,  4.35721559e+00,\n",
       "        2.12375467e+00,  1.25875203e+01, -1.21224470e+00,  2.75539278e+01,\n",
       "        7.57409164e+00,  1.31336177e+01,  2.17873659e+01,  3.54926815e+01,\n",
       "        1.72274451e+00,  1.33781233e+01,  5.19509035e+00,  4.36361120e+00,\n",
       "        1.70665158e+00,  3.07246115e+00,  5.17169069e+00,  3.16112844e+01,\n",
       "        1.45864495e+01])\n",
       "  message: 'Desired error not necessarily achieved due to precision loss.'\n",
       "     nfev: 109\n",
       "      nit: 3\n",
       "     njev: 109\n",
       "   status: 2\n",
       "  success: False\n",
       "        x: array([ 0.03244602,  0.04014878,  0.08338754,  0.09766216,  0.1376718 ,\n",
       "       -0.08929553,  0.2445119 ,  0.02510723,  0.05418884,  0.02837642,\n",
       "        0.03543543,  0.17214196,  0.0346704 ,  0.00975018, -0.02644353,\n",
       "        0.04209046,  0.16704255,  0.03520485,  0.02770391,  0.04331365,\n",
       "        0.12221968,  0.03276014,  0.00582336,  0.06139661, -0.16351427,\n",
       "        0.05936648,  0.06607229,  0.15537372, -0.01841592, -0.0314412 ,\n",
       "        0.09845226,  0.04858857, -0.03084018,  0.13054635,  0.05079933,\n",
       "        0.08279479,  0.0901617 ,  0.04141054,  0.04960489,  0.01573589,\n",
       "       -0.20975512,  0.03549092,  0.037258  ,  0.3504442 ,  0.0467729 ,\n",
       "       -0.07028854,  0.04548717,  0.31818766,  0.03636838,  0.01910504,\n",
       "       -0.04566648,  0.11248275,  0.03941466, -0.04822003,  0.03390118,\n",
       "        0.05063601,  0.04542621, -0.60490515,  0.03145943,  0.02705365,\n",
       "       -0.19845501,  0.0645279 ,  0.05297212,  0.0636347 ,  0.11524112,\n",
       "        0.22877768,  0.06813983,  0.12147332,  0.06130837,  0.27062945,\n",
       "        0.03568477,  0.04716273,  0.08753651,  0.08462245,  0.10207808,\n",
       "        0.07194237, -0.02426571,  0.05092992,  0.06623112,  0.02055783,\n",
       "        0.03670355,  0.02291683,  0.06328863,  0.03562142,  0.04719542,\n",
       "        0.04140452,  0.31219681,  0.05791441,  0.02629678,  0.06415824,\n",
       "        0.02065664,  0.11279136,  0.03570919,  0.14016117,  0.06763527,\n",
       "        0.06419502,  0.06150922,  0.20143977,  0.45017789,  0.16871128,\n",
       "        0.04110649,  0.07006085,  0.08008788,  0.08971787,  0.04136776,\n",
       "        0.05070942,  0.05681418,  0.06368448,  0.06830581,  0.07445468,\n",
       "        0.03073057,  0.06026184,  0.05031302,  0.06264923,  0.04823493,\n",
       "        0.06499758,  0.0722362 ,  0.03732888,  0.09931573,  0.09472992,\n",
       "        0.0512112 ,  0.06170939,  0.06875805,  0.04116216, -0.06442916,\n",
       "        0.06674004,  0.06531457,  0.07875833, -0.1237495 ,  0.06176915,\n",
       "        0.08175023,  0.06720329,  0.05596486])"
      ]
     },
     "execution_count": 113,
     "metadata": {},
     "output_type": "execute_result"
    }
   ],
   "source": [
    "from scipy.optimize import minimize\n",
    "minimize(\n",
    "    x0 = soln.x[:-1],\n",
    "    fun = lambda x: analytic_center_obj(x,A_constr,b_constr),\n",
    "    jac = lambda x: analytic_center_gradient(x,A_constr,b_constr,133)\n",
    ")"
   ]
  }
 ],
 "metadata": {
  "kernelspec": {
   "display_name": "Python 3",
   "language": "python",
   "name": "python3"
  },
  "language_info": {
   "codemirror_mode": {
    "name": "ipython",
    "version": 3
   },
   "file_extension": ".py",
   "mimetype": "text/x-python",
   "name": "python",
   "nbconvert_exporter": "python",
   "pygments_lexer": "ipython3",
   "version": "3.8.8"
  }
 },
 "nbformat": 4,
 "nbformat_minor": 4
}
