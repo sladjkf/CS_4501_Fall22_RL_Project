{
 "cells": [
  {
   "cell_type": "markdown",
   "metadata": {},
   "source": [
    "Test new polytope sampler code and sample loading code"
   ]
  },
  {
   "cell_type": "code",
   "execution_count": 1,
   "metadata": {
    "tags": []
   },
   "outputs": [],
   "source": [
    "import numpy as np\n",
    "import pandas as pd\n",
    "import matplotlib.pyplot as plt"
   ]
  },
  {
   "cell_type": "markdown",
   "metadata": {},
   "source": [
    "Load objective"
   ]
  },
  {
   "cell_type": "code",
   "execution_count": 12,
   "metadata": {},
   "outputs": [
    {
     "data": {
      "text/plain": [
       "['/home/nrw5cq/.local/lib/python3.8/site-packages/PolyRound',\n",
       " '/gpfs/gpfs0/scratch/nrw5cq/CS_4501_Fall22_RL_Project/snippets',\n",
       " '/apps/software/standard/compiler/gcc/9.2.0/jupyter_conda/2020.11-py3.8/lib/python38.zip',\n",
       " '/apps/software/standard/compiler/gcc/9.2.0/jupyter_conda/2020.11-py3.8/lib/python3.8',\n",
       " '/apps/software/standard/compiler/gcc/9.2.0/jupyter_conda/2020.11-py3.8/lib/python3.8/lib-dynload',\n",
       " '',\n",
       " '/home/nrw5cq/.local/lib/python3.8/site-packages',\n",
       " '/apps/software/standard/compiler/gcc/9.2.0/jupyter_conda/2020.11-py3.8/lib/python3.8/site-packages',\n",
       " '/apps/software/standard/compiler/gcc/9.2.0/jupyter_conda/2020.11-py3.8/lib/python3.8/site-packages/IPython/extensions',\n",
       " '/sfs/qumulo/qhome/nrw5cq/.ipython',\n",
       " '/gpfs/gpfs0/scratch/nrw5cq/CS_4501_Fall22_RL_Project/',\n",
       " '/home/nrw5cq/.local/lib/python3.8/site-packages/libsbml',\n",
       " '/gpfs/gpfs0/scratch/nrw5cq/CS_4501_Fall22_RL_Project/']"
      ]
     },
     "execution_count": 12,
     "metadata": {},
     "output_type": "execute_result"
    }
   ],
   "source": [
    "import sys\n",
    "project_path = \"/gpfs/gpfs0/scratch/nrw5cq/CS_4501_Fall22_RL_Project/\"\n",
    "sys.path.append(project_path)\n",
    "sys.path"
   ]
  },
  {
   "cell_type": "code",
   "execution_count": 13,
   "metadata": {},
   "outputs": [
    {
     "data": {
      "text/plain": [
       "'/gpfs/gpfs0/scratch/nrw5cq/CS_4501_Fall22_RL_Project/snippets'"
      ]
     },
     "execution_count": 13,
     "metadata": {},
     "output_type": "execute_result"
    }
   ],
   "source": [
    "%pwd"
   ]
  },
  {
   "cell_type": "code",
   "execution_count": 14,
   "metadata": {},
   "outputs": [],
   "source": [
    "from my_scripts.optimization import vacc\n",
    "from ConstrainedLaMCTS.LAMCTS.lamcts import MCTS"
   ]
  },
  {
   "cell_type": "code",
   "execution_count": 15,
   "metadata": {},
   "outputs": [],
   "source": [
    "import configparser\n",
    "import multiprocess\n",
    "import torch"
   ]
  },
  {
   "cell_type": "code",
   "execution_count": 16,
   "metadata": {},
   "outputs": [],
   "source": [
    "from collections import namedtuple\n",
    "\n",
    "Arguments = namedtuple('Arguments', \n",
    "                       'cfg_dir out_dir name dims threads sim_draws n_init_pts iters samples method load agg_size agg_mapping cp treesize')\n",
    "\n",
    "args = Arguments(\n",
    "    \"/scratch/nrw5cq/CS_4501_Fall22_RL_Project/config/va_dulles_county/\",\n",
    "    \"/scratch/nrw5cq/CS_4501_Fall22_RL_Project/output/\",\n",
    "    \"poly_test\",\n",
    "    133,\n",
    "    20,\n",
    "    200,\n",
    "    0,\n",
    "    1,\n",
    "    100,\n",
    "    \"lamcts\",\n",
    "    None,\n",
    "    133,\n",
    "    \"/scratch/nrw5cq/CS_4501_Fall22_RL_Project/config/va_dulles_county/agg_mapping.csv\",\n",
    "    0.1,\n",
    "    100\n",
    ")"
   ]
  },
  {
   "cell_type": "code",
   "execution_count": 17,
   "metadata": {},
   "outputs": [
    {
     "name": "stdout",
     "output_type": "stream",
     "text": [
      "{'iters': 25, 'tau1': 2.21479534, 'tau2': 0.796080931, 'rho': 1.5609646, 'theta': 3.73211699e-10, 'alpha': 0.97, 'beta': 6.3}\n",
      "{'obj': 'attacksize', 'V_repr': 'ratio', 'constraint_bnd': 0.05, 'constraint_type': 'ineq', 'aggregate': 'True'}\n"
     ]
    }
   ],
   "source": [
    "import os\n",
    "assert os.path.exists(args.cfg_dir)\n",
    "assert os.path.exists(args.out_dir)\n",
    "\n",
    "#config_dir = \"config/5_by_5/{}\"\n",
    "config_dir = args.cfg_dir + \"{}\"\n",
    "\n",
    "sim_param_config = configparser.ConfigParser()\n",
    "sim_param_config.optionxform = str  # retain case sensitivity\n",
    "\n",
    "# load simulation files\n",
    "with open(config_dir.format(\"params.cfg\")) as config_file:\n",
    "    sim_param_config.read_file(config_file)\n",
    "    tsir_config_str = dict(sim_param_config['tsir_config'])\n",
    "    tsir_config = {}\n",
    "    for k, v in tsir_config_str.items():\n",
    "        if k == 'iters':\n",
    "            tsir_config['iters'] = int(tsir_config_str['iters'])\n",
    "        else:\n",
    "            tsir_config[k] = float(tsir_config_str[k])\n",
    "    opt_config = dict(sim_param_config['opt_config'])\n",
    "    opt_config['constraint_bnd'] = float(opt_config['constraint_bnd'])\n",
    "\n",
    "print(tsir_config)\n",
    "\n",
    "print(opt_config)\n",
    "\n",
    "# load vaccination/population data and distance matrix\n",
    "vacc_df = pd.read_csv(config_dir.format(\"pop.csv\"))\n",
    "dist_list = pd.read_csv(config_dir.format(\"dist.csv\"))\n",
    "dist_mat = dist_list.pivot(index='zipcode1', columns='zipcode2', values='distKM')\n",
    "dist_mat = dist_mat.fillna(0)\n",
    "\n",
    "seed = pd.read_csv(config_dir.format(sim_param_config['seed']['seed']),header=None)\n",
    "seed = np.array(seed).flatten()\n",
    "\n",
    "\n",
    "torch.set_num_threads(args.threads)"
   ]
  },
  {
   "cell_type": "code",
   "execution_count": 18,
   "metadata": {},
   "outputs": [],
   "source": [
    "agg_mapping = pd.read_csv(args.agg_mapping)\n",
    "agg_mapping = np.array(agg_mapping['mapping'])\n",
    "v = vacc.VaccProblemLAMCTSWrapper(\n",
    "    opt_config = opt_config, \n",
    "    V_0= vacc_df['vacc'], \n",
    "    seed = seed,\n",
    "    sim_config = tsir_config, \n",
    "    pop = vacc_df, \n",
    "    distances = np.array(dist_mat),\n",
    "    negate=True, scale=True,\n",
    "    cores=args.threads, n_sim=args.sim_draws,\n",
    "    output_dir = args.out_dir,\n",
    "    name=args.name,\n",
    "    agg_vector=agg_mapping,\n",
    "    agg_size=args.agg_size\n",
    ")\n"
   ]
  },
  {
   "cell_type": "code",
   "execution_count": 19,
   "metadata": {},
   "outputs": [
    {
     "name": "stdout",
     "output_type": "stream",
     "text": [
      "gamma_type: auto\n",
      "[]\n",
      "==========collect 0 points for initializing MCTS==========\n",
      "lb: [0. 0. 0. 0. 0. 0. 0. 0. 0. 0. 0. 0. 0. 0. 0. 0. 0. 0. 0. 0. 0. 0. 0. 0.\n",
      " 0. 0. 0. 0. 0. 0. 0. 0. 0. 0. 0. 0. 0. 0. 0. 0. 0. 0. 0. 0. 0. 0. 0. 0.\n",
      " 0. 0. 0. 0. 0. 0. 0. 0. 0. 0. 0. 0. 0. 0. 0. 0. 0. 0. 0. 0. 0. 0. 0. 0.\n",
      " 0. 0. 0. 0. 0. 0. 0. 0. 0. 0. 0. 0. 0. 0. 0. 0. 0. 0. 0. 0. 0. 0. 0. 0.\n",
      " 0. 0. 0. 0. 0. 0. 0. 0. 0. 0. 0. 0. 0. 0. 0. 0. 0. 0. 0. 0. 0. 0. 0. 0.\n",
      " 0. 0. 0. 0. 0. 0. 0. 0. 0. 0. 0. 0. 0.]\n",
      "ub: [0.90348714 0.90034098 0.89295542 0.9132303  0.91433892 0.8990333\n",
      " 0.8963964  0.90045613 0.89583333 0.90887934 0.90516145 0.92035876\n",
      " 0.89841617 0.88343254 0.89801255 0.89468384 0.90105634 0.9178955\n",
      " 0.91027771 0.85894495 0.90228245 0.86903353 0.9107867  0.89495859\n",
      " 0.90954774 0.90675063 0.91122947 0.88507719 0.90664962 0.91745076\n",
      " 0.89401775 0.90645679 0.91559829 0.91438703 0.88954635 0.90974114\n",
      " 0.91566504 0.89777357 0.8788143  0.90551413 0.92485195 0.90877249\n",
      " 0.91343432 0.90288066 0.90562871 0.91874798 0.88995215 0.92054722\n",
      " 0.90309652 0.90225564 0.90295359 0.91145038 0.89673913 0.91310234\n",
      " 0.88888889 0.90339321 0.89092521 0.91237525 0.89257443 0.90423862\n",
      " 0.90875639 0.9212061  0.90135258 0.90138167 0.88349001 0.90277052\n",
      " 0.90638572 0.91467158 0.83126551 0.9035981  0.89776671 0.91659789\n",
      " 0.89028297 0.91454965 0.89468085 0.92235016 0.9076087  0.92049363\n",
      " 0.87159297 0.89817881 0.89589257 0.90000675 0.89941973 0.91767483\n",
      " 0.89526351 0.90891344 0.8960396  0.90578158 0.91525424 0.91329211\n",
      " 0.91154368 0.90602543 0.90782859 0.90734266 0.88176608 0.91964286\n",
      " 0.88092604 0.92911314 0.893796   0.9137457  0.88606347 0.88968724\n",
      " 0.91728949 0.88828829 0.91057655 0.86988393 0.90881764 0.88302425\n",
      " 0.90146751 0.90401567 0.90283109 0.89670932 0.90389846 0.89196941\n",
      " 0.90076336 0.90395894 0.90740987 0.90678587 0.93681319 0.8991084\n",
      " 0.90693083 0.91897993 0.90846457 0.89170596 0.91439527 0.90759881\n",
      " 0.91860414 0.90461997 0.90455472 0.91152376 0.90319258 0.90346956\n",
      " 0.90274314]\n",
      "Cp: 0.1\n",
      "inits: 0\n",
      "dims: 133\n",
      "==========================================================\n"
     ]
    }
   ],
   "source": [
    "P = np.zeros(args.agg_size)\n",
    "for zipcode_index, county_index in enumerate(agg_mapping):\n",
    "    P[county_index] += vacc_df['pop'][zipcode_index]\n",
    "c = opt_config['constraint_bnd']\n",
    "# upper bound by the least vaccinated in each county\n",
    "ub = np.ones(args.agg_size)*np.inf\n",
    "for zipcode_index, county_index in enumerate(agg_mapping):\n",
    "    this_zip_vacc = vacc_df.loc[zipcode_index,'vacc']\n",
    "    if ub[county_index] > this_zip_vacc:\n",
    "        ub[county_index] = this_zip_vacc\n",
    "v.ub = ub\n",
    "v.lb = np.zeros(args.dims)\n",
    "\n",
    "agent = MCTS(\n",
    "     lb = np.zeros(args.dims),      # the lower bound of each problem dimensions\n",
    "     ub = ub,       # the upper bound of each problem dimensions\n",
    "     dims = args.dims,              # the problem dimensions\n",
    "     ninits = 0,           # the number of random samples used in initializations \n",
    "     A_ineq = np.array([P]),\n",
    "     b_ineq = np.array([c*np.sum(P)]),\n",
    "     A_eq = None, b_eq = None,\n",
    "     func = v,               # function object to be optimized\n",
    "     Cp = args.cp,              # Cp for MCTS\n",
    "     leaf_size = args.treesize, # tree leaf size\n",
    "     kernel_type = 'linear', #SVM configruation\n",
    "     gamma_type = \"auto\",    #SVM configruation\n",
    "     solver_type = 'turbo',\n",
    "     num_threads = args.threads\n",
    "     )"
   ]
  },
  {
   "cell_type": "code",
   "execution_count": 20,
   "metadata": {},
   "outputs": [],
   "source": [
    "agent.load_samples_from_file(\n",
    "    \"/scratch/nrw5cq/CS_4501_Fall22_RL_Project/output/va_dullesvacc_sim_va_dulles_county_2023-02-12T23:18:01.788022_samples.csv\",\n",
    "    \"/scratch/nrw5cq/CS_4501_Fall22_RL_Project/output/va_dullesvacc_sim_va_dulles_county_2023-02-12T23:18:01.788022_best_trace.csv\"\n",
    ")"
   ]
  },
  {
   "cell_type": "code",
   "execution_count": 21,
   "metadata": {},
   "outputs": [
    {
     "name": "stdout",
     "output_type": "stream",
     "text": [
      "----------------------------------------------------------------------------------------------------\n",
      "node0  is good:False  is leaf:False   val:5543.4399       uct:inf            sp/n:1085/1085  parent:----       kids:node1     node2     \n",
      "node1  is good:True   is leaf:False   val:6239.5098       uct:6244.9860      sp/n:879/879    parent:node0      kids:node3     node4     \n",
      "node2  is good:False  is leaf:False   val:2573.3069       uct:2584.6170      sp/n:206/206    parent:node0      kids:node5     node6     \n",
      "node3  is good:True   is leaf:False   val:7639.3418       uct:7649.0250      sp/n:253/253    parent:node1      kids:node7     node8     \n",
      "node4  is good:False  is leaf:False   val:5673.7642       uct:5679.9200      sp/n:626/626    parent:node1      kids:node9     node10    \n",
      "node5  is good:True   is leaf:False   val:3456.9380       uct:3466.6800      sp/n:121/121    parent:node2      kids:node11    node12    \n",
      "node6  is good:False  is leaf:True    val:1315.4301       uct:1327.0530      sp/n:85/85      parent:node2      kids:\n",
      "node7  is good:True   is leaf:False   val:7879.4731       uct:7888.7460      sp/n:148/148    parent:node3      kids:node13    node14    \n",
      "node8  is good:False  is leaf:False   val:7300.8721       uct:7311.8810      sp/n:105/105    parent:node3      kids:node15    node16    \n",
      "node9  is good:True   is leaf:False   val:5892.6221       uct:5899.3830      sp/n:438/438    parent:node4      kids:node17    node18    \n",
      "node10 is good:False  is leaf:False   val:5163.8730       uct:5174.1910      sp/n:188/188    parent:node4      kids:node19    node20    \n",
      "node11 is good:True   is leaf:True    val:3944.9861       uct:3957.5220      sp/n:56/56      parent:node5      kids:\n",
      "node12 is good:False  is leaf:True    val:3036.4661       uct:3048.1020      sp/n:65/65      parent:node5      kids:\n",
      "node13 is good:True   is leaf:True    val:7968.2871       uct:7981.9680      sp/n:52/52      parent:node7      kids:\n",
      "node14 is good:False  is leaf:True    val:7831.3662       uct:7841.4340      sp/n:96/96      parent:node7      kids:\n",
      "node15 is good:True   is leaf:True    val:7415.2842       uct:7425.2220      sp/n:83/83      parent:node8      kids:\n",
      "node16 is good:False  is leaf:True    val:6869.2251       uct:6888.5280      sp/n:22/22      parent:node8      kids:\n",
      "node17 is good:True   is leaf:False   val:6035.6802       uct:6044.5250      sp/n:214/214    parent:node9      kids:node21    node22    \n",
      "node18 is good:False  is leaf:False   val:5755.9502       uct:5764.5960      sp/n:224/224    parent:node9      kids:node23    node24    \n",
      "node19 is good:True   is leaf:False   val:5365.8848       uct:5375.3670      sp/n:122/122    parent:node10     kids:node25    node26    \n",
      "node20 is good:False  is leaf:True    val:4790.4570       uct:4803.3490      sp/n:66/66      parent:node10     kids:\n",
      "node21 is good:True   is leaf:True    val:6322.9102       uct:6343.7290      sp/n:27/27      parent:node17     kids:\n",
      "node22 is good:False  is leaf:False   val:5994.2080       uct:6002.1190      sp/n:187/187    parent:node17     kids:node27    node28    \n",
      "node23 is good:True   is leaf:False   val:5810.0771       uct:5818.9520      sp/n:152/152    parent:node18     kids:node29    node30    \n",
      "node24 is good:False  is leaf:True    val:5641.6841       uct:5654.5800      sp/n:72/72      parent:node18     kids:\n",
      "node25 is good:True   is leaf:True    val:5449.3262       uct:5460.1810      sp/n:75/75      parent:node19     kids:\n",
      "node26 is good:False  is leaf:True    val:5232.7339       uct:5246.4460      sp/n:47/47      parent:node19     kids:\n",
      "node27 is good:True   is leaf:False   val:6033.0781       uct:6043.0050      sp/n:111/111    parent:node22     kids:node31    node32    \n",
      "node28 is good:False  is leaf:True    val:5937.4390       uct:5949.4370      sp/n:76/76      parent:node22     kids:\n",
      "node29 is good:True   is leaf:True    val:5853.5640       uct:5865.2680      sp/n:72/72      parent:node23     kids:\n",
      "node30 is good:False  is leaf:True    val:5770.9399       uct:5782.0430      sp/n:80/80      parent:node23     kids:\n",
      "node31 is good:True   is leaf:True    val:6067.3828       uct:6080.7740      sp/n:47/47      parent:node27     kids:\n",
      "node32 is good:False  is leaf:True    val:6007.8848       uct:6019.3610      sp/n:64/64      parent:node27     kids:\n",
      "----------------------------------------------------------------------------------------------------\n"
     ]
    }
   ],
   "source": [
    "agent.dynamic_treeify()"
   ]
  },
  {
   "cell_type": "code",
   "execution_count": 22,
   "metadata": {},
   "outputs": [
    {
     "name": "stdout",
     "output_type": "stream",
     "text": [
      "----------------------------------------------------------------------------------------------------\n",
      "node0  is good:False  is leaf:False   val:5543.4399       uct:inf            sp/n:1085/1085  parent:----       kids:node1     node2     \n",
      "node1  is good:True   is leaf:False   val:6239.5098       uct:6244.9860      sp/n:879/879    parent:node0      kids:node3     node4     \n",
      "node2  is good:False  is leaf:False   val:2573.3069       uct:2584.6170      sp/n:206/206    parent:node0      kids:node5     node6     \n",
      "node3  is good:True   is leaf:False   val:7639.3418       uct:7649.0250      sp/n:253/253    parent:node1      kids:node7     node8     \n",
      "node4  is good:False  is leaf:False   val:5673.7642       uct:5679.9200      sp/n:626/626    parent:node1      kids:node9     node10    \n",
      "node5  is good:True   is leaf:False   val:3456.9380       uct:3466.6800      sp/n:121/121    parent:node2      kids:node11    node12    \n",
      "node6  is good:False  is leaf:True    val:1315.4301       uct:1327.0530      sp/n:85/85      parent:node2      kids:\n",
      "node7  is good:True   is leaf:False   val:7879.4731       uct:7888.7460      sp/n:148/148    parent:node3      kids:node13    node14    \n",
      "node8  is good:False  is leaf:False   val:7300.8721       uct:7311.8810      sp/n:105/105    parent:node3      kids:node15    node16    \n",
      "node9  is good:True   is leaf:False   val:5892.6221       uct:5899.3830      sp/n:438/438    parent:node4      kids:node17    node18    \n",
      "node10 is good:False  is leaf:False   val:5163.8730       uct:5174.1910      sp/n:188/188    parent:node4      kids:node19    node20    \n",
      "node11 is good:True   is leaf:True    val:3944.9861       uct:3957.5220      sp/n:56/56      parent:node5      kids:\n",
      "node12 is good:False  is leaf:True    val:3036.4661       uct:3048.1020      sp/n:65/65      parent:node5      kids:\n",
      "node13 is good:True   is leaf:True    val:7968.2871       uct:7981.9680      sp/n:52/52      parent:node7      kids:\n",
      "node14 is good:False  is leaf:True    val:7831.3662       uct:7841.4340      sp/n:96/96      parent:node7      kids:\n",
      "node15 is good:True   is leaf:True    val:7415.2842       uct:7425.2220      sp/n:83/83      parent:node8      kids:\n",
      "node16 is good:False  is leaf:True    val:6869.2251       uct:6888.5280      sp/n:22/22      parent:node8      kids:\n",
      "node17 is good:True   is leaf:False   val:6035.6802       uct:6044.5250      sp/n:214/214    parent:node9      kids:node21    node22    \n",
      "node18 is good:False  is leaf:False   val:5755.9502       uct:5764.5960      sp/n:224/224    parent:node9      kids:node23    node24    \n",
      "node19 is good:True   is leaf:False   val:5365.8848       uct:5375.3670      sp/n:122/122    parent:node10     kids:node25    node26    \n",
      "node20 is good:False  is leaf:True    val:4790.4570       uct:4803.3490      sp/n:66/66      parent:node10     kids:\n",
      "node21 is good:True   is leaf:True    val:6322.9102       uct:6343.7290      sp/n:27/27      parent:node17     kids:\n",
      "node22 is good:False  is leaf:False   val:5994.2080       uct:6002.1190      sp/n:187/187    parent:node17     kids:node27    node28    \n",
      "node23 is good:True   is leaf:False   val:5810.0771       uct:5818.9520      sp/n:152/152    parent:node18     kids:node29    node30    \n",
      "node24 is good:False  is leaf:True    val:5641.6841       uct:5654.5800      sp/n:72/72      parent:node18     kids:\n",
      "node25 is good:True   is leaf:True    val:5449.3262       uct:5460.1810      sp/n:75/75      parent:node19     kids:\n",
      "node26 is good:False  is leaf:True    val:5232.7339       uct:5246.4460      sp/n:47/47      parent:node19     kids:\n",
      "node27 is good:True   is leaf:False   val:6033.0781       uct:6043.0050      sp/n:111/111    parent:node22     kids:node31    node32    \n",
      "node28 is good:False  is leaf:True    val:5937.4390       uct:5949.4370      sp/n:76/76      parent:node22     kids:\n",
      "node29 is good:True   is leaf:True    val:5853.5640       uct:5865.2680      sp/n:72/72      parent:node23     kids:\n",
      "node30 is good:False  is leaf:True    val:5770.9399       uct:5782.0430      sp/n:80/80      parent:node23     kids:\n",
      "node31 is good:True   is leaf:True    val:6067.3828       uct:6080.7740      sp/n:47/47      parent:node27     kids:\n",
      "node32 is good:False  is leaf:True    val:6007.8848       uct:6019.3610      sp/n:64/64      parent:node27     kids:\n",
      "----------------------------------------------------------------------------------------------------\n"
     ]
    }
   ],
   "source": [
    "agent.print_tree()"
   ]
  },
  {
   "cell_type": "code",
   "execution_count": 23,
   "metadata": {},
   "outputs": [],
   "source": [
    "#agent.search(1087,1086)"
   ]
  },
  {
   "cell_type": "code",
   "execution_count": 24,
   "metadata": {},
   "outputs": [
    {
     "name": "stdout",
     "output_type": "stream",
     "text": [
      "=> node1 => node3 => node7 => node13 \n"
     ]
    },
    {
     "data": {
      "text/plain": [
       "[{'A_eq': None,\n",
       "  'b_eq': None,\n",
       "  'A_ineq': array([[165077., 149876.,  19918.,  48995.,   4900.,   6228.,  15291.,\n",
       "           83253., 146783.,  93686., 170388.,   9254.,  30762., 123077.,\n",
       "           43237.,  84761.,  17931.,  45057.,   4213.,  18264.,  10820.,\n",
       "           91026.,   6165.,  31919.,   5153.,  81823., 110107.,  10027.,\n",
       "            4692.,  34222.,  28618., 127064.,   3951.,  19846.,  38718.,\n",
       "           66181.,  15142.,  25911., 500626.,  49041.,  14691., 110479.,\n",
       "           74010.,  11750., 139900.,  21661.,  54834.,   3801.,  15469.,\n",
       "           68687.,   3579., 109147., 102520.,  48466.,  74397.,  33146.,\n",
       "           93219.,   6623.,  77435.,  55097.,  14675.,  46298.,  35068.,\n",
       "           64541.,  59968.,   2645.,  55267.,  11809.,  75534.,   1473.,\n",
       "          294210.,  82691.,   9333.,  33861.,  14788.,  26055.,   1934.,\n",
       "           56398.,  53143.,  26966., 132188.,  36907.,  30221.,  74726.,\n",
       "          111996., 327839.,  23385.,  11641.,   3835.,  30107.,  46653.,\n",
       "           15745.,  81171.,   2249.,  94624.,   5936.,  82258.,   6461.,\n",
       "            4691.,  10671., 173423.,  96875.,  15838.,  12492.,   8314.,\n",
       "           31965.,  25050.,  26418.,  72639.,  60863., 116134.,   2188.,\n",
       "           92083.,  43121.,  43018.,  18299.,  14683.,  52029.,    728.,\n",
       "          115591.,  32569.,  55074.,  90640., 147763.,  10337.,  56116.,\n",
       "           22667.,  20627.,   7355.,   3662.,  23209., 130106.,  61147.]]),\n",
       "  'b_ineq': array([372194.9])},\n",
       " (<ConstrainedLaMCTS.LAMCTS.lamcts.Node.Node at 0x7f01b0db0d30>, 0),\n",
       " (<ConstrainedLaMCTS.LAMCTS.lamcts.Node.Node at 0x7f016b59fee0>, 0),\n",
       " (<ConstrainedLaMCTS.LAMCTS.lamcts.Node.Node at 0x7f01b0db09d0>, 0),\n",
       " (<ConstrainedLaMCTS.LAMCTS.lamcts.Node.Node at 0x7f01cc6b8df0>, 0)]"
      ]
     },
     "execution_count": 24,
     "metadata": {},
     "output_type": "execute_result"
    }
   ],
   "source": [
    "root, path = agent.select()\n",
    "path"
   ]
  },
  {
   "cell_type": "code",
   "execution_count": 25,
   "metadata": {},
   "outputs": [],
   "source": [
    "dim = args.dims\n",
    "num_constrs = len(path)\n",
    "A_constr = np.zeros((num_constrs,dim))\n",
    "b_constr = np.zeros(num_constrs)\n",
    "global_constrs = path[0]\n",
    "# we will add the inequality constraint using the hopsy function\n",
    "if global_constrs[\"A_ineq\"] is not None and global_constrs[\"b_ineq\"] is not None:\n",
    "    A = global_constrs[\"A_ineq\"]\n",
    "    b = global_constrs[\"b_ineq\"]\n",
    "else: # no global constraint\n",
    "    A = np.array([np.ones(dim)])\n",
    "    b = np.array([np.inf])\n",
    "\n",
    "# let the global constraint occupy the first spot...\n",
    "A_constr[0,:] = A[0]\n",
    "b_constr[0] = b[0]\n",
    "\n",
    "# extract constraints from svc objects\n",
    "for i in range(1,len(path)):\n",
    "    # TODO: want to be able to change based on kernel type?\n",
    "    # path is a list of tuples (classifier,0)\n",
    "    this_classifier = path[i][0].classifier.svm\n",
    "    # matrix with single row, so extract the vector\n",
    "    coefs = this_classifier.coef_[0]\n",
    "    # vector with single entry, so extract the scalar\n",
    "    intercept = this_classifier.intercept_[0]\n",
    "    # the set of positive examples for the svm is\n",
    "    # coefs^T x + intercept >= 0\n",
    "    # so to rewrite this in hopsy form,\n",
    "    # -coefs^T x <= intercept\n",
    "    A_constr[i,:] = coefs\n",
    "    b_constr[i] = -intercept"
   ]
  },
  {
   "cell_type": "code",
   "execution_count": 26,
   "metadata": {},
   "outputs": [
    {
     "data": {
      "text/plain": [
       "array([-4.46633880e+07, -7.27671031e+01, -7.95213463e+01, -1.89684365e+01,\n",
       "       -2.14355013e+01])"
      ]
     },
     "execution_count": 26,
     "metadata": {},
     "output_type": "execute_result"
    }
   ],
   "source": [
    "A_constr@np.ones(args.dims)*-6"
   ]
  },
  {
   "cell_type": "code",
   "execution_count": 27,
   "metadata": {},
   "outputs": [
    {
     "data": {
      "text/plain": [
       "array([ 3.72194900e+05, -6.89649967e-01,  7.61038109e-01, -1.59415681e+00,\n",
       "        2.03205539e-01])"
      ]
     },
     "execution_count": 27,
     "metadata": {},
     "output_type": "execute_result"
    }
   ],
   "source": [
    "b_constr"
   ]
  },
  {
   "cell_type": "code",
   "execution_count": 28,
   "metadata": {},
   "outputs": [],
   "source": [
    "from ConstrainedLaMCTS.LAMCTS.lamcts import hopsy_sampler"
   ]
  },
  {
   "cell_type": "code",
   "execution_count": 29,
   "metadata": {},
   "outputs": [],
   "source": [
    "# find the chebyshev center? or the analytic center of this polytope?\n",
    "A_constr_row_norms = np.linalg.norm(A_constr,axis=1,ord=2)\n",
    "\n",
    "cheb_A = np.concatenate([A_constr,np.array([A_constr_row_norms]).T],axis=1)\n",
    "np.shape(cheb_A)\n",
    "\n",
    "cheb_c = np.zeros(np.shape(cheb_A)[1])\n",
    "np.put(a=cheb_c,ind=-1,v=-1)"
   ]
  },
  {
   "cell_type": "code",
   "execution_count": 30,
   "metadata": {},
   "outputs": [
    {
     "data": {
      "text/plain": [
       "[(0.0, 0.9034871433603382),\n",
       " (0.0, 0.9003409795412275),\n",
       " (0.0, 0.8929554210236654),\n",
       " (0.0, 0.9132303000900964),\n",
       " (0.0, 0.914338919925512),\n",
       " (0.0, 0.8990332975295381),\n",
       " (0.0, 0.8963963963963963),\n",
       " (0.0, 0.90045613093641),\n",
       " (0.0, 0.8958333333333334),\n",
       " (0.0, 0.9088793412101682),\n",
       " (0.0, 0.9051614543605392),\n",
       " (0.0, 0.9203587637778258),\n",
       " (0.0, 0.898416166029492),\n",
       " (0.0, 0.8834325396825397),\n",
       " (0.0, 0.8980125523012552),\n",
       " (0.0, 0.8946838356952738),\n",
       " (0.0, 0.901056338028169),\n",
       " (0.0, 0.9178955033679228),\n",
       " (0.0, 0.9102777118442916),\n",
       " (0.0, 0.8589449541284404),\n",
       " (0.0, 0.9022824536376604),\n",
       " (0.0, 0.8690335305719921),\n",
       " (0.0, 0.910786699107867),\n",
       " (0.0, 0.8949585936364958),\n",
       " (0.0, 0.9095477386934674),\n",
       " (0.0, 0.906750629722922),\n",
       " (0.0, 0.9112294718153572),\n",
       " (0.0, 0.8850771869639794),\n",
       " (0.0, 0.9066496163682864),\n",
       " (0.0, 0.91745076266729),\n",
       " (0.0, 0.8940177510657628),\n",
       " (0.0, 0.9064567876478844),\n",
       " (0.0, 0.9155982905982906),\n",
       " (0.0, 0.914387031408308),\n",
       " (0.0, 0.8895463510848126),\n",
       " (0.0, 0.909741144414169),\n",
       " (0.0, 0.9156650376436402),\n",
       " (0.0, 0.8977735739231665),\n",
       " (0.0, 0.8788142981691369),\n",
       " (0.0, 0.9055141328615358),\n",
       " (0.0, 0.9248519501735756),\n",
       " (0.0, 0.908772488457252),\n",
       " (0.0, 0.9134343209071726),\n",
       " (0.0, 0.902880658436214),\n",
       " (0.0, 0.9056287115930804),\n",
       " (0.0, 0.918747980240986),\n",
       " (0.0, 0.8899521531100478),\n",
       " (0.0, 0.9205472244146278),\n",
       " (0.0, 0.9030965156118688),\n",
       " (0.0, 0.9022556390977444),\n",
       " (0.0, 0.9029535864978904),\n",
       " (0.0, 0.9114503816793892),\n",
       " (0.0, 0.8967391304347826),\n",
       " (0.0, 0.9131023416737702),\n",
       " (0.0, 0.8888888888888888),\n",
       " (0.0, 0.9033932135728544),\n",
       " (0.0, 0.8909252143068283),\n",
       " (0.0, 0.912375249500998),\n",
       " (0.0, 0.8925744308231174),\n",
       " (0.0, 0.9042386185243328),\n",
       " (0.0, 0.908756388415673),\n",
       " (0.0, 0.921206099615534),\n",
       " (0.0, 0.901352576696388),\n",
       " (0.0, 0.9013816706806946),\n",
       " (0.0, 0.8834900117508813),\n",
       " (0.0, 0.9027705175117616),\n",
       " (0.0, 0.9063857165835612),\n",
       " (0.0, 0.9146715776550032),\n",
       " (0.0, 0.8312655086848635),\n",
       " (0.0, 0.9035980991174474),\n",
       " (0.0, 0.8977667119360193),\n",
       " (0.0, 0.9165978931016068),\n",
       " (0.0, 0.8902829684997331),\n",
       " (0.0, 0.9145496535796768),\n",
       " (0.0, 0.8946808510638298),\n",
       " (0.0, 0.922350162385592),\n",
       " (0.0, 0.907608695652174),\n",
       " (0.0, 0.920493634526047),\n",
       " (0.0, 0.8715929739551787),\n",
       " (0.0, 0.8981788079470199),\n",
       " (0.0, 0.8958925705920442),\n",
       " (0.0, 0.9000067471830511),\n",
       " (0.0, 0.8994197292069632),\n",
       " (0.0, 0.9176748303334316),\n",
       " (0.0, 0.895263509006004),\n",
       " (0.0, 0.908913442392535),\n",
       " (0.0, 0.8960396039603961),\n",
       " (0.0, 0.9057815845824412),\n",
       " (0.0, 0.9152542372881356),\n",
       " (0.0, 0.913292107187978),\n",
       " (0.0, 0.9115436849253056),\n",
       " (0.0, 0.906025428413488),\n",
       " (0.0, 0.9078285851089298),\n",
       " (0.0, 0.9073426573426572),\n",
       " (0.0, 0.8817660793886648),\n",
       " (0.0, 0.9196428571428572),\n",
       " (0.0, 0.8809260362584049),\n",
       " (0.0, 0.929113140380746),\n",
       " (0.0, 0.8937960042060988),\n",
       " (0.0, 0.913745704467354),\n",
       " (0.0, 0.8860634732899665),\n",
       " (0.0, 0.889687235841082),\n",
       " (0.0, 0.9172894867962132),\n",
       " (0.0, 0.8882882882882883),\n",
       " (0.0, 0.9105765459537194),\n",
       " (0.0, 0.8698839340256567),\n",
       " (0.0, 0.908817635270541),\n",
       " (0.0, 0.8830242510699001),\n",
       " (0.0, 0.90146750524109),\n",
       " (0.0, 0.9040156709108716),\n",
       " (0.0, 0.902831094049904),\n",
       " (0.0, 0.896709323583181),\n",
       " (0.0, 0.9038984587488668),\n",
       " (0.0, 0.8919694072657743),\n",
       " (0.0, 0.900763358778626),\n",
       " (0.0, 0.9039589442815248),\n",
       " (0.0, 0.9074098709591591),\n",
       " (0.0, 0.9067858713176022),\n",
       " (0.0, 0.9368131868131868),\n",
       " (0.0, 0.8991083998122947),\n",
       " (0.0, 0.9069308278867102),\n",
       " (0.0, 0.9189799280092734),\n",
       " (0.0, 0.908464566929134),\n",
       " (0.0, 0.8917059596506145),\n",
       " (0.0, 0.9143952741216708),\n",
       " (0.0, 0.9075988077265512),\n",
       " (0.0, 0.9186041381744386),\n",
       " (0.0, 0.9046199701937406),\n",
       " (0.0, 0.9045547246770904),\n",
       " (0.0, 0.9115237575095576),\n",
       " (0.0, 0.9031925849639548),\n",
       " (0.0, 0.9034695649377792),\n",
       " (0.0, 0.9027431421446384),\n",
       " (0, None)]"
      ]
     },
     "execution_count": 30,
     "metadata": {},
     "output_type": "execute_result"
    }
   ],
   "source": [
    "list(zip(v.lb,v.ub))+[(0,None)]"
   ]
  },
  {
   "cell_type": "code",
   "execution_count": 34,
   "metadata": {},
   "outputs": [],
   "source": [
    "from scipy.optimize import linprog\n",
    "soln = linprog(c=cheb_c,A_ub=cheb_A,b_ub=b_constr, bounds = list(zip(v.lb,v.ub))+[(0,None)])"
   ]
  },
  {
   "cell_type": "code",
   "execution_count": null,
   "metadata": {},
   "outputs": [],
   "source": []
  },
  {
   "cell_type": "code",
   "execution_count": 35,
   "metadata": {},
   "outputs": [
    {
     "data": {
      "text/plain": [
       "array([ True,  True,  True,  True,  True])"
      ]
     },
     "execution_count": 35,
     "metadata": {},
     "output_type": "execute_result"
    }
   ],
   "source": [
    "A_constr@soln.x[:-1] <= b_constr"
   ]
  },
  {
   "cell_type": "code",
   "execution_count": 36,
   "metadata": {},
   "outputs": [
    {
     "data": {
      "text/plain": [
       "array([1.05169840e-10, 1.32608914e-10, 1.09674916e-09, 5.36754124e-10,\n",
       "       5.18608432e-01, 1.26010186e-09, 2.16799661e-09, 2.57199615e-10,\n",
       "       1.24449849e-10, 2.03937574e-10, 1.24827666e-10, 2.84386338e-09,\n",
       "       7.76187957e-10, 1.62321647e-10, 5.33662875e-10, 2.51796082e-10,\n",
       "       1.47575470e-09, 5.79865802e-10, 1.72355695e-09, 8.52152208e-10,\n",
       "       1.57345512e-09, 2.29756969e-10, 8.94534050e-10, 7.48055663e-10,\n",
       "       1.22549921e-09, 2.80589572e-10, 1.73636538e-10, 1.60623808e-09,\n",
       "       1.49054028e-09, 7.82063672e-10, 9.49043169e-10, 1.49064294e-10,\n",
       "       2.43322193e-09, 1.80159885e-09, 7.03874397e-10, 3.79298824e-10,\n",
       "       1.18963908e-09, 7.94391789e-10, 6.23238409e-11, 4.80302210e-10,\n",
       "       6.93245079e-10, 1.48612257e-10, 3.01701258e-10, 1.43588262e-01,\n",
       "       1.30295842e-10, 7.21051922e-10, 4.92326186e-10, 9.20547223e-01,\n",
       "       1.51856343e-09, 3.22722563e-10, 2.12300250e-09, 1.96128144e-10,\n",
       "       1.88602961e-10, 4.95893031e-10, 3.03550607e-10, 7.28627051e-10,\n",
       "       2.25574605e-10, 8.38427218e-10, 3.05736191e-10, 4.51591886e-10,\n",
       "       9.33489801e-10, 5.48431660e-10, 7.98237461e-10, 4.01485496e-10,\n",
       "       4.64255596e-10, 9.39732838e-02, 4.80781298e-10, 1.28853698e-09,\n",
       "       3.34518121e-10, 9.03598098e-01, 1.89123439e-10, 2.64295054e-10,\n",
       "       1.56141232e-09, 7.25740086e-10, 1.07281570e-09, 9.60347734e-10,\n",
       "       2.87463271e-09, 4.56099485e-10, 5.11716196e-10, 7.63191662e-10,\n",
       "       1.36809964e-10, 5.85156225e-10, 7.24058808e-10, 3.00028457e-10,\n",
       "       1.56433622e-10, 1.60793915e-10, 1.16232455e-09, 1.57373813e-09,\n",
       "       1.74777388e-09, 7.69016489e-10, 4.88320662e-10, 1.29176453e-09,\n",
       "       2.67711329e-10, 4.19594498e-01, 2.24043133e-10, 2.73822917e-09,\n",
       "       2.75861459e-10, 2.60921316e-08, 8.93795996e-01, 1.45162001e-09,\n",
       "       1.55974314e-10, 2.20248726e-10, 1.19700631e-09, 1.01080953e-09,\n",
       "       1.47988763e-09, 6.79605302e-10, 8.79922410e-10, 8.63226647e-10,\n",
       "       3.33783995e-10, 4.43380350e-10, 1.44598225e-10, 2.62926291e-09,\n",
       "       2.32252825e-10, 6.61964559e-10, 5.89471421e-10, 1.17803853e-09,\n",
       "       1.05841113e-09, 5.12984131e-10, 4.71110293e-09, 1.66166883e-10,\n",
       "       6.77861494e-10, 4.48401442e-10, 2.41747280e-10, 1.38298116e-10,\n",
       "       1.28084686e-09, 4.37214803e-10, 9.50270105e-10, 9.40497748e-10,\n",
       "       9.61494972e-10, 9.11523701e-01, 1.04601991e-09, 1.29765519e-10,\n",
       "       3.99062468e-10, 3.55006547e-01])"
      ]
     },
     "execution_count": 36,
     "metadata": {},
     "output_type": "execute_result"
    }
   ],
   "source": [
    "soln.x"
   ]
  },
  {
   "cell_type": "code",
   "execution_count": 37,
   "metadata": {},
   "outputs": [
    {
     "data": {
      "text/plain": [
       "array([0], dtype=int32)"
      ]
     },
     "execution_count": 37,
     "metadata": {},
     "output_type": "execute_result"
    }
   ],
   "source": [
    "path[1][0].classifier.svm.predict(soln.x[:-1].reshape(1,-1))"
   ]
  },
  {
   "cell_type": "code",
   "execution_count": null,
   "metadata": {},
   "outputs": [],
   "source": [
    "# need to find initial point?\n",
    "\n",
    "rej_rate, samples = hopsy_sampler.propose_rand_samples_hopsy(\n",
    "    10000, \n",
    "    soln.x[:-1], \n",
    "    path, \n",
    "    v.lb, v.ub, dim, thin=150, threads=20)"
   ]
  },
  {
   "cell_type": "code",
   "execution_count": 38,
   "metadata": {},
   "outputs": [
    {
     "name": "stdout",
     "output_type": "stream",
     "text": [
      "hopsy sampler acceptance rate: [0.019084666666666666, 0.020329333333333335, 0.018696666666666664, 0.021838, 0.019376666666666667, 0.019583999999999997, 0.020462, 0.02580933333333333, 0.019734666666666664, 0.021476666666666665, 0.021542666666666665, 0.017739333333333333, 0.02171333333333333, 0.018715333333333334, 0.018179999999999998, 0.019583999999999997, 0.022584, 0.02580933333333333, 0.020703999999999997, 0.020644666666666665]\n"
     ]
    }
   ],
   "source": [
    "# need to find initial point?\n",
    "\n",
    "rej_rate, samples = hopsy_sampler.propose_rand_samples_hopsy(\n",
    "    10000, \n",
    "    None, \n",
    "    path, \n",
    "    v.lb, v.ub, dim, thin=150, threads=20)"
   ]
  },
  {
   "cell_type": "code",
   "execution_count": 39,
   "metadata": {},
   "outputs": [
    {
     "data": {
      "text/plain": [
       "(10000, 133)"
      ]
     },
     "execution_count": 39,
     "metadata": {},
     "output_type": "execute_result"
    }
   ],
   "source": [
    "np.shape(np.unique(samples,axis=1))"
   ]
  },
  {
   "cell_type": "code",
   "execution_count": 40,
   "metadata": {},
   "outputs": [
    {
     "data": {
      "text/plain": [
       "6208"
      ]
     },
     "execution_count": 40,
     "metadata": {},
     "output_type": "execute_result"
    }
   ],
   "source": [
    "len(np.unique([samples[i,0] for i in range(10000)]))"
   ]
  },
  {
   "cell_type": "code",
   "execution_count": 101,
   "metadata": {},
   "outputs": [],
   "source": [
    "# try finding the analytic center\n",
    "def analytic_center_obj(x,A,b):\n",
    "    # compute every index in the logarithmic potential function... then sum it up\n",
    "    return -np.sum(np.log(b-A@x))\n",
    "\n",
    "def analytic_center_gradient(x,A,b,dims):\n",
    "    # to compute the jth component\n",
    "    return np.array([np.sum(A[:,j]/(b-A@x)) for j in range(dims)])"
   ]
  },
  {
   "cell_type": "code",
   "execution_count": 103,
   "metadata": {},
   "outputs": [
    {
     "data": {
      "text/plain": [
       "array([-0.01050279, -0.04600586,  0.14804348, -0.02675691, -0.05010047,\n",
       "       -0.03111062,  0.37533491, -0.06996211, -0.03379435, -0.02861627,\n",
       "       -0.03476289,  0.17951777, -0.07726493, -0.12985057, -0.26286098,\n",
       "       -0.09570282,  0.19752754, -0.12341609, -0.16884685, -0.13878057,\n",
       "       -0.11244657, -0.05968135, -0.18065565, -0.06352514, -0.17271715,\n",
       "       -0.03780922, -0.0261021 ,  0.05586638, -0.43534251, -0.19828589,\n",
       "       -0.00722438, -0.03541132, -0.34716456,  0.25980516, -0.13529956,\n",
       "       -0.02613269, -0.06421912, -0.10950719,  0.32851913, -0.06221765,\n",
       "       -0.06234397, -0.11258836, -0.0600139 ,  0.9135083 , -0.04123599,\n",
       "       -0.09582982, -0.08658891,  0.34940366,  0.05827534, -0.10970912,\n",
       "       -0.08866404,  0.16642818, -0.04744865, -0.32075638, -0.05538708,\n",
       "       -0.08558658, -0.0520238 , -0.70517026, -0.0585442 , -0.07877148,\n",
       "       -0.25613927, -0.09317525,  0.03387557, -0.03695862, -0.01096416,\n",
       "       -0.07706369, -0.03070729,  0.26751184, -0.03454719,  0.46492296,\n",
       "       -0.04967514, -0.03242662, -0.09913075, -0.00506009, -0.06033378,\n",
       "        0.07699258,  0.0581686 , -0.0346149 , -0.02248532, -0.19264905,\n",
       "       -0.03725911, -0.09548838, -0.14057714, -0.03899192,  0.01372516,\n",
       "       -0.03661225,  0.28905505, -0.06298332, -0.17158259, -0.08021189,\n",
       "       -0.07687774,  0.08773816, -0.03770133,  0.3693009 , -0.03982904,\n",
       "       -0.00513378, -0.05172389,  0.21342746,  0.35110593, -0.22858819,\n",
       "       -0.03545452, -0.03859695, -0.1086246 , -0.16395984, -0.10842384,\n",
       "       -0.13655511, -0.08078976,  0.01150474, -0.02490751, -0.05486768,\n",
       "       -0.03424822, -0.00984234, -0.04530503, -0.06890861, -0.12026338,\n",
       "       -0.09324796, -0.29969588, -0.02120075, -0.10030785, -0.00610396,\n",
       "       -0.09690732, -0.04193091, -0.02549954, -0.05519191, -0.45724374,\n",
       "       -0.03938963, -0.04604989, -0.04951619, -0.2207714 ,  0.19525106,\n",
       "       -0.04489197,  0.03572056, -0.05443866])"
      ]
     },
     "execution_count": 103,
     "metadata": {},
     "output_type": "execute_result"
    }
   ],
   "source": [
    "analytic_center_gradient(np.ones(133),A_constr,b_constr,133)"
   ]
  },
  {
   "cell_type": "code",
   "execution_count": 97,
   "metadata": {},
   "outputs": [
    {
     "data": {
      "text/plain": [
       "array([1.        , 0.5       , 0.33333333, 0.25      ])"
      ]
     },
     "execution_count": 97,
     "metadata": {},
     "output_type": "execute_result"
    }
   ],
   "source": [
    "np.ones(4)/np.array([1,2,3,4])"
   ]
  },
  {
   "cell_type": "code",
   "execution_count": 113,
   "metadata": {},
   "outputs": [
    {
     "data": {
      "text/plain": [
       "      fun: nan\n",
       " hess_inv: array([[ 9.72581044e-01, -2.46289041e-02, -3.47750488e-03, ...,\n",
       "        -3.79763388e-03, -2.16492206e-02, -9.63738398e-03],\n",
       "       [-2.46289041e-02,  9.76970255e-01, -2.54625102e-03, ...,\n",
       "        -3.60785519e-03, -1.93149592e-02, -1.04313969e-02],\n",
       "       [-3.47750488e-03, -2.54625102e-03,  9.99193249e-01, ...,\n",
       "        -3.55539782e-04, -2.82668264e-03, -9.31079020e-05],\n",
       "       ...,\n",
       "       [-3.79763388e-03, -3.60785519e-03, -3.55539782e-04, ...,\n",
       "         9.99431823e-01, -2.96873089e-03, -1.71989254e-03],\n",
       "       [-2.16492206e-02, -1.93149592e-02, -2.82668264e-03, ...,\n",
       "        -2.96873089e-03,  9.82891146e-01, -7.35329163e-03],\n",
       "       [-9.63738398e-03, -1.04313969e-02, -9.31079020e-05, ...,\n",
       "        -1.71989254e-03, -7.35329163e-03,  9.93140313e-01]])\n",
       "      jac: array([ 3.98985393e+01,  3.59995311e+01,  5.01039806e+00,  1.12270826e+01,\n",
       "        3.10019479e+00,  2.44236265e+00,  4.59945602e+00,  2.00406394e+01,\n",
       "        3.51922621e+01,  2.26168459e+01,  4.10745470e+01,  2.38005683e+00,\n",
       "        7.15421846e+00,  2.93675047e+01,  9.77032881e+00,  2.01038791e+01,\n",
       "        4.87897946e+00,  1.03749421e+01,  5.29707037e-01,  3.99184450e+00,\n",
       "        1.71727344e+00,  2.19125672e+01,  2.02470304e+00,  7.46300843e+00,\n",
       "        1.93370708e+00,  1.96145297e+01,  2.64613661e+01,  1.69793659e+00,\n",
       "       -9.87233948e-01,  8.37700010e+00,  6.82397503e+00,  3.05504290e+01,\n",
       "        2.73922327e-01,  6.39959753e+00,  8.83821753e+00,  1.56827486e+01,\n",
       "        3.23110547e+00,  5.78668363e+00,  1.21936745e+02,  1.18482850e+01,\n",
       "        4.67475325e+00,  2.61050662e+01,  1.76715624e+01,  7.94702642e+00,\n",
       "        3.37078952e+01,  5.58626767e+00,  1.31952536e+01,  8.87916683e-01,\n",
       "        4.02190607e+00,  1.62158413e+01,  8.25031480e-01,  2.67167872e+01,\n",
       "        2.46360805e+01,  1.12701887e+01,  1.77799253e+01,  7.71836411e+00,\n",
       "        2.23865933e+01,  4.59898865e+00,  1.86429544e+01,  1.33176464e+01,\n",
       "        4.46409133e+00,  1.06166632e+01,  8.94126090e+00,  1.53757809e+01,\n",
       "        1.40390626e+01, -1.35097597e+00,  1.34798629e+01,  4.94357307e+00,\n",
       "        1.80329283e+01,  1.51821508e+00,  7.08963601e+01,  1.98971561e+01,\n",
       "        1.37194107e+00,  8.07593575e+00,  3.04248577e+00,  6.78906977e+00,\n",
       "        1.32302268e+00,  1.35241610e+01,  1.28462312e+01,  5.70063681e+00,\n",
       "        3.18190859e+01,  8.79979302e+00,  6.75666559e+00,  1.79957147e+01,\n",
       "        2.73151447e+01,  7.90666231e+01,  4.74030413e+00,  3.44331747e+00,\n",
       "        1.12550920e-01,  6.93160138e+00,  1.11903574e+01,  4.14972202e+00,\n",
       "        1.95055928e+01,  9.99563320e-01,  2.26069237e+01,  1.44655913e+00,\n",
       "        1.95967594e+01,  1.50814980e+00,  2.23518817e+00,  7.92654679e-01,\n",
       "        4.17734987e+01,  2.31530627e+01,  3.30003531e+00,  2.18485186e+00,\n",
       "        1.75843171e+00,  7.39510689e+00,  5.56801031e+00,  6.98482109e+00,\n",
       "        1.73486231e+01,  1.42049984e+01,  2.79846935e+01,  1.17749172e-01,\n",
       "        2.21141105e+01,  9.98595985e+00,  9.99678599e+00,  4.35721559e+00,\n",
       "        2.12375467e+00,  1.25875203e+01, -1.21224470e+00,  2.75539278e+01,\n",
       "        7.57409164e+00,  1.31336177e+01,  2.17873659e+01,  3.54926815e+01,\n",
       "        1.72274451e+00,  1.33781233e+01,  5.19509035e+00,  4.36361120e+00,\n",
       "        1.70665158e+00,  3.07246115e+00,  5.17169069e+00,  3.16112844e+01,\n",
       "        1.45864495e+01])\n",
       "  message: 'Desired error not necessarily achieved due to precision loss.'\n",
       "     nfev: 109\n",
       "      nit: 3\n",
       "     njev: 109\n",
       "   status: 2\n",
       "  success: False\n",
       "        x: array([ 0.03244602,  0.04014878,  0.08338754,  0.09766216,  0.1376718 ,\n",
       "       -0.08929553,  0.2445119 ,  0.02510723,  0.05418884,  0.02837642,\n",
       "        0.03543543,  0.17214196,  0.0346704 ,  0.00975018, -0.02644353,\n",
       "        0.04209046,  0.16704255,  0.03520485,  0.02770391,  0.04331365,\n",
       "        0.12221968,  0.03276014,  0.00582336,  0.06139661, -0.16351427,\n",
       "        0.05936648,  0.06607229,  0.15537372, -0.01841592, -0.0314412 ,\n",
       "        0.09845226,  0.04858857, -0.03084018,  0.13054635,  0.05079933,\n",
       "        0.08279479,  0.0901617 ,  0.04141054,  0.04960489,  0.01573589,\n",
       "       -0.20975512,  0.03549092,  0.037258  ,  0.3504442 ,  0.0467729 ,\n",
       "       -0.07028854,  0.04548717,  0.31818766,  0.03636838,  0.01910504,\n",
       "       -0.04566648,  0.11248275,  0.03941466, -0.04822003,  0.03390118,\n",
       "        0.05063601,  0.04542621, -0.60490515,  0.03145943,  0.02705365,\n",
       "       -0.19845501,  0.0645279 ,  0.05297212,  0.0636347 ,  0.11524112,\n",
       "        0.22877768,  0.06813983,  0.12147332,  0.06130837,  0.27062945,\n",
       "        0.03568477,  0.04716273,  0.08753651,  0.08462245,  0.10207808,\n",
       "        0.07194237, -0.02426571,  0.05092992,  0.06623112,  0.02055783,\n",
       "        0.03670355,  0.02291683,  0.06328863,  0.03562142,  0.04719542,\n",
       "        0.04140452,  0.31219681,  0.05791441,  0.02629678,  0.06415824,\n",
       "        0.02065664,  0.11279136,  0.03570919,  0.14016117,  0.06763527,\n",
       "        0.06419502,  0.06150922,  0.20143977,  0.45017789,  0.16871128,\n",
       "        0.04110649,  0.07006085,  0.08008788,  0.08971787,  0.04136776,\n",
       "        0.05070942,  0.05681418,  0.06368448,  0.06830581,  0.07445468,\n",
       "        0.03073057,  0.06026184,  0.05031302,  0.06264923,  0.04823493,\n",
       "        0.06499758,  0.0722362 ,  0.03732888,  0.09931573,  0.09472992,\n",
       "        0.0512112 ,  0.06170939,  0.06875805,  0.04116216, -0.06442916,\n",
       "        0.06674004,  0.06531457,  0.07875833, -0.1237495 ,  0.06176915,\n",
       "        0.08175023,  0.06720329,  0.05596486])"
      ]
     },
     "execution_count": 113,
     "metadata": {},
     "output_type": "execute_result"
    }
   ],
   "source": [
    "from scipy.optimize import minimize\n",
    "minimize(\n",
    "    x0 = soln.x[:-1],\n",
    "    fun = lambda x: analytic_center_obj(x,A_constr,b_constr),\n",
    "    jac = lambda x: analytic_center_gradient(x,A_constr,b_constr,133)\n",
    ")"
   ]
  },
  {
   "cell_type": "markdown",
   "metadata": {},
   "source": [
    "Why do we get only zeros when we just start with the global constraint?"
   ]
  },
  {
   "cell_type": "code",
   "execution_count": 3,
   "metadata": {
    "tags": []
   },
   "outputs": [],
   "source": [
    "df = pd.read_csv('../config/va_dulles_county/pop.csv')"
   ]
  },
  {
   "cell_type": "code",
   "execution_count": 4,
   "metadata": {
    "tags": []
   },
   "outputs": [],
   "source": [
    "P = np.array(df['pop'])"
   ]
  },
  {
   "cell_type": "code",
   "execution_count": 11,
   "metadata": {
    "tags": []
   },
   "outputs": [
    {
     "data": {
      "text/plain": [
       "705"
      ]
     },
     "execution_count": 11,
     "metadata": {},
     "output_type": "execute_result"
    }
   ],
   "source": [
    "len(P)"
   ]
  },
  {
   "cell_type": "code",
   "execution_count": 6,
   "metadata": {
    "tags": []
   },
   "outputs": [
    {
     "data": {
      "text/plain": [
       "372194.9"
      ]
     },
     "execution_count": 6,
     "metadata": {},
     "output_type": "execute_result"
    }
   ],
   "source": [
    "0.05*sum(P)"
   ]
  },
  {
   "cell_type": "code",
   "execution_count": 7,
   "metadata": {
    "tags": []
   },
   "outputs": [
    {
     "ename": "KeyboardInterrupt",
     "evalue": "",
     "output_type": "error",
     "traceback": [
      "\u001b[0;31m---------------------------------------------------------------------------\u001b[0m",
      "\u001b[0;31mKeyboardInterrupt\u001b[0m                         Traceback (most recent call last)",
      "Cell \u001b[0;32mIn[7], line 20\u001b[0m\n\u001b[1;32m     13\u001b[0m mc \u001b[38;5;241m=\u001b[39m [\n\u001b[1;32m     14\u001b[0m     hopsy\u001b[38;5;241m.\u001b[39mMarkovChain(\n\u001b[1;32m     15\u001b[0m         problem, proposal\u001b[38;5;241m=\u001b[39mhopsy\u001b[38;5;241m.\u001b[39mDikinWalkProposal, starting_point\u001b[38;5;241m=\u001b[39minit_point\n\u001b[1;32m     16\u001b[0m     )\n\u001b[1;32m     17\u001b[0m     \u001b[38;5;28;01mfor\u001b[39;00m i \u001b[38;5;129;01min\u001b[39;00m \u001b[38;5;28mrange\u001b[39m(\u001b[38;5;241m80\u001b[39m)\n\u001b[1;32m     18\u001b[0m ]\n\u001b[1;32m     19\u001b[0m rng \u001b[38;5;241m=\u001b[39m [hopsy\u001b[38;5;241m.\u001b[39mRandomNumberGenerator(seed\u001b[38;5;241m=\u001b[39mnp\u001b[38;5;241m.\u001b[39mrandom\u001b[38;5;241m.\u001b[39mrandint(\u001b[38;5;241m100\u001b[39m)) \u001b[38;5;28;01mfor\u001b[39;00m i \u001b[38;5;129;01min\u001b[39;00m \u001b[38;5;28mrange\u001b[39m(\u001b[38;5;241m80\u001b[39m)]\n\u001b[0;32m---> 20\u001b[0m acceptance_rate, states \u001b[38;5;241m=\u001b[39m \u001b[43mhopsy\u001b[49m\u001b[38;5;241;43m.\u001b[39;49m\u001b[43msample\u001b[49m\u001b[43m(\u001b[49m\u001b[43mmc\u001b[49m\u001b[43m,\u001b[49m\u001b[43m \u001b[49m\u001b[43mrng\u001b[49m\u001b[43m,\u001b[49m\u001b[43m \u001b[49m\n\u001b[1;32m     21\u001b[0m \u001b[43m    \u001b[49m\u001b[43mn_samples\u001b[49m\u001b[38;5;241;43m=\u001b[39;49m\u001b[38;5;241;43m1000\u001b[39;49m\u001b[43m,\u001b[49m\u001b[43m \u001b[49m\n\u001b[1;32m     22\u001b[0m \u001b[43m    \u001b[49m\u001b[43mthinning\u001b[49m\u001b[38;5;241;43m=\u001b[39;49m\u001b[38;5;241;43m200\u001b[39;49m\u001b[43m,\u001b[49m\n\u001b[1;32m     23\u001b[0m \u001b[43m    \u001b[49m\u001b[43mn_threads\u001b[49m\u001b[38;5;241;43m=\u001b[39;49m\u001b[38;5;241;43m80\u001b[39;49m\u001b[43m)\u001b[49m\n",
      "File \u001b[0;32m~/Projects/CS_4501_Fall22_RL_Project/venv/lib/python3.9/site-packages/hopsy/misc.py:362\u001b[0m, in \u001b[0;36msample\u001b[0;34m(markov_chains, rngs, n_samples, thinning, n_threads, record_meta)\u001b[0m\n\u001b[1;32m    359\u001b[0m         n_threads \u001b[38;5;241m=\u001b[39m \u001b[38;5;28mmin\u001b[39m(\u001b[38;5;28mlen\u001b[39m(markov_chains), _s\u001b[38;5;241m.\u001b[39mmultiprocessing\u001b[38;5;241m.\u001b[39mcpu_count()) \u001b[38;5;66;03m# do not use more threads than available cpus\u001b[39;00m\n\u001b[1;32m    361\u001b[0m     \u001b[38;5;28;01mwith\u001b[39;00m _s\u001b[38;5;241m.\u001b[39mmultiprocessing\u001b[38;5;241m.\u001b[39mPool(n_threads) \u001b[38;5;28;01mas\u001b[39;00m workers:\n\u001b[0;32m--> 362\u001b[0m         result \u001b[38;5;241m=\u001b[39m \u001b[43mworkers\u001b[49m\u001b[38;5;241;43m.\u001b[39;49m\u001b[43mstarmap\u001b[49m\u001b[43m(\u001b[49m\u001b[43m_sample\u001b[49m\u001b[43m,\u001b[49m\u001b[43m \u001b[49m\u001b[43m[\u001b[49m\u001b[43m(\u001b[49m\u001b[43mmarkov_chains\u001b[49m\u001b[43m[\u001b[49m\u001b[43mi\u001b[49m\u001b[43m]\u001b[49m\u001b[43m,\u001b[49m\u001b[43m \u001b[49m\u001b[43mrngs\u001b[49m\u001b[43m[\u001b[49m\u001b[43mi\u001b[49m\u001b[43m]\u001b[49m\u001b[43m,\u001b[49m\u001b[43m \u001b[49m\u001b[43mn_samples\u001b[49m\u001b[43m,\u001b[49m\u001b[43m \u001b[49m\u001b[43mthinning\u001b[49m\u001b[43m,\u001b[49m\u001b[43m \u001b[49m\u001b[43mrecord_meta\u001b[49m\u001b[43m)\u001b[49m\u001b[43m \u001b[49m\u001b[38;5;28;43;01mfor\u001b[39;49;00m\u001b[43m \u001b[49m\u001b[43mi\u001b[49m\u001b[43m \u001b[49m\u001b[38;5;129;43;01min\u001b[39;49;00m\u001b[43m \u001b[49m\u001b[38;5;28;43mrange\u001b[39;49m\u001b[43m(\u001b[49m\u001b[38;5;28;43mlen\u001b[39;49m\u001b[43m(\u001b[49m\u001b[43mmarkov_chains\u001b[49m\u001b[43m)\u001b[49m\u001b[43m)\u001b[49m\u001b[43m]\u001b[49m\u001b[43m)\u001b[49m\n\u001b[1;32m    363\u001b[0m \u001b[38;5;28;01melse\u001b[39;00m:\n\u001b[1;32m    364\u001b[0m     \u001b[38;5;28;01mfor\u001b[39;00m i \u001b[38;5;129;01min\u001b[39;00m \u001b[38;5;28mrange\u001b[39m(\u001b[38;5;28mlen\u001b[39m(markov_chains)):\n",
      "File \u001b[0;32m/opt/intel/oneapi/intelpython/latest/lib/python3.9/multiprocessing/pool.py:372\u001b[0m, in \u001b[0;36mPool.starmap\u001b[0;34m(self, func, iterable, chunksize)\u001b[0m\n\u001b[1;32m    366\u001b[0m \u001b[38;5;28;01mdef\u001b[39;00m \u001b[38;5;21mstarmap\u001b[39m(\u001b[38;5;28mself\u001b[39m, func, iterable, chunksize\u001b[38;5;241m=\u001b[39m\u001b[38;5;28;01mNone\u001b[39;00m):\n\u001b[1;32m    367\u001b[0m     \u001b[38;5;124;03m'''\u001b[39;00m\n\u001b[1;32m    368\u001b[0m \u001b[38;5;124;03m    Like `map()` method but the elements of the `iterable` are expected to\u001b[39;00m\n\u001b[1;32m    369\u001b[0m \u001b[38;5;124;03m    be iterables as well and will be unpacked as arguments. Hence\u001b[39;00m\n\u001b[1;32m    370\u001b[0m \u001b[38;5;124;03m    `func` and (a, b) becomes func(a, b).\u001b[39;00m\n\u001b[1;32m    371\u001b[0m \u001b[38;5;124;03m    '''\u001b[39;00m\n\u001b[0;32m--> 372\u001b[0m     \u001b[38;5;28;01mreturn\u001b[39;00m \u001b[38;5;28;43mself\u001b[39;49m\u001b[38;5;241;43m.\u001b[39;49m\u001b[43m_map_async\u001b[49m\u001b[43m(\u001b[49m\u001b[43mfunc\u001b[49m\u001b[43m,\u001b[49m\u001b[43m \u001b[49m\u001b[43miterable\u001b[49m\u001b[43m,\u001b[49m\u001b[43m \u001b[49m\u001b[43mstarmapstar\u001b[49m\u001b[43m,\u001b[49m\u001b[43m \u001b[49m\u001b[43mchunksize\u001b[49m\u001b[43m)\u001b[49m\u001b[38;5;241;43m.\u001b[39;49m\u001b[43mget\u001b[49m\u001b[43m(\u001b[49m\u001b[43m)\u001b[49m\n",
      "File \u001b[0;32m/opt/intel/oneapi/intelpython/latest/lib/python3.9/multiprocessing/pool.py:765\u001b[0m, in \u001b[0;36mApplyResult.get\u001b[0;34m(self, timeout)\u001b[0m\n\u001b[1;32m    764\u001b[0m \u001b[38;5;28;01mdef\u001b[39;00m \u001b[38;5;21mget\u001b[39m(\u001b[38;5;28mself\u001b[39m, timeout\u001b[38;5;241m=\u001b[39m\u001b[38;5;28;01mNone\u001b[39;00m):\n\u001b[0;32m--> 765\u001b[0m     \u001b[38;5;28;43mself\u001b[39;49m\u001b[38;5;241;43m.\u001b[39;49m\u001b[43mwait\u001b[49m\u001b[43m(\u001b[49m\u001b[43mtimeout\u001b[49m\u001b[43m)\u001b[49m\n\u001b[1;32m    766\u001b[0m     \u001b[38;5;28;01mif\u001b[39;00m \u001b[38;5;129;01mnot\u001b[39;00m \u001b[38;5;28mself\u001b[39m\u001b[38;5;241m.\u001b[39mready():\n\u001b[1;32m    767\u001b[0m         \u001b[38;5;28;01mraise\u001b[39;00m \u001b[38;5;167;01mTimeoutError\u001b[39;00m\n",
      "File \u001b[0;32m/opt/intel/oneapi/intelpython/latest/lib/python3.9/multiprocessing/pool.py:762\u001b[0m, in \u001b[0;36mApplyResult.wait\u001b[0;34m(self, timeout)\u001b[0m\n\u001b[1;32m    761\u001b[0m \u001b[38;5;28;01mdef\u001b[39;00m \u001b[38;5;21mwait\u001b[39m(\u001b[38;5;28mself\u001b[39m, timeout\u001b[38;5;241m=\u001b[39m\u001b[38;5;28;01mNone\u001b[39;00m):\n\u001b[0;32m--> 762\u001b[0m     \u001b[38;5;28;43mself\u001b[39;49m\u001b[38;5;241;43m.\u001b[39;49m\u001b[43m_event\u001b[49m\u001b[38;5;241;43m.\u001b[39;49m\u001b[43mwait\u001b[49m\u001b[43m(\u001b[49m\u001b[43mtimeout\u001b[49m\u001b[43m)\u001b[49m\n",
      "File \u001b[0;32m/opt/intel/oneapi/intelpython/latest/lib/python3.9/threading.py:574\u001b[0m, in \u001b[0;36mEvent.wait\u001b[0;34m(self, timeout)\u001b[0m\n\u001b[1;32m    572\u001b[0m signaled \u001b[38;5;241m=\u001b[39m \u001b[38;5;28mself\u001b[39m\u001b[38;5;241m.\u001b[39m_flag\n\u001b[1;32m    573\u001b[0m \u001b[38;5;28;01mif\u001b[39;00m \u001b[38;5;129;01mnot\u001b[39;00m signaled:\n\u001b[0;32m--> 574\u001b[0m     signaled \u001b[38;5;241m=\u001b[39m \u001b[38;5;28;43mself\u001b[39;49m\u001b[38;5;241;43m.\u001b[39;49m\u001b[43m_cond\u001b[49m\u001b[38;5;241;43m.\u001b[39;49m\u001b[43mwait\u001b[49m\u001b[43m(\u001b[49m\u001b[43mtimeout\u001b[49m\u001b[43m)\u001b[49m\n\u001b[1;32m    575\u001b[0m \u001b[38;5;28;01mreturn\u001b[39;00m signaled\n",
      "File \u001b[0;32m/opt/intel/oneapi/intelpython/latest/lib/python3.9/threading.py:312\u001b[0m, in \u001b[0;36mCondition.wait\u001b[0;34m(self, timeout)\u001b[0m\n\u001b[1;32m    310\u001b[0m \u001b[38;5;28;01mtry\u001b[39;00m:    \u001b[38;5;66;03m# restore state no matter what (e.g., KeyboardInterrupt)\u001b[39;00m\n\u001b[1;32m    311\u001b[0m     \u001b[38;5;28;01mif\u001b[39;00m timeout \u001b[38;5;129;01mis\u001b[39;00m \u001b[38;5;28;01mNone\u001b[39;00m:\n\u001b[0;32m--> 312\u001b[0m         \u001b[43mwaiter\u001b[49m\u001b[38;5;241;43m.\u001b[39;49m\u001b[43macquire\u001b[49m\u001b[43m(\u001b[49m\u001b[43m)\u001b[49m\n\u001b[1;32m    313\u001b[0m         gotit \u001b[38;5;241m=\u001b[39m \u001b[38;5;28;01mTrue\u001b[39;00m\n\u001b[1;32m    314\u001b[0m     \u001b[38;5;28;01melse\u001b[39;00m:\n",
      "\u001b[0;31mKeyboardInterrupt\u001b[0m: "
     ]
    }
   ],
   "source": [
    "import hopsy\n",
    "class LAMCTS_hopsy_model:\n",
    "    # uniform distribution everywhere lmao\n",
    "    # actually maybe you should make it over the hypercube lol\n",
    "    def __init__(self, path,dim):\n",
    "        self.path = path\n",
    "        self.dim = dim\n",
    "    def compute_negative_log_likelihood(self,x):\n",
    "        return -np.log(1)\n",
    "model = LAMCTS_hopsy_model(0,0)\n",
    "problem = hopsy.Problem(np.array([P]), np.array([0.05*sum(P)]), model)\n",
    "problem = hopsy.add_box_constraints(problem=problem,lower_bound=np.zeros(705),upper_bound=np.ones(705))\n",
    "mc = [\n",
    "    hopsy.MarkovChain(\n",
    "        problem, proposal=hopsy.DikinWalkProposal, starting_point=init_point\n",
    "    )\n",
    "    for i in range(80)\n",
    "]\n",
    "rng = [hopsy.RandomNumberGenerator(seed=np.random.randint(100)) for i in range(80)]\n",
    "acceptance_rate, states = hopsy.sample(mc, rng, \n",
    "    n_samples=1000, \n",
    "    thinning=200,\n",
    "    n_threads=80)"
   ]
  },
  {
   "cell_type": "code",
   "execution_count": null,
   "metadata": {},
   "outputs": [],
   "source": []
  },
  {
   "cell_type": "code",
   "execution_count": 2,
   "metadata": {
    "tags": []
   },
   "outputs": [],
   "source": [
    "from scipy.optimize import linprog\n",
    "def find_cheb_center(A,b,lb,ub):\n",
    "    \"\"\"\n",
    "    given a polytope Ax <= b and lb <= x <= ub, \n",
    "    find the center of the ball of maximal radius contained\n",
    "    within the polytope\n",
    "    \"\"\"\n",
    "    A_row_norms = np.linalg.norm(A,axis=1,ord=2)\n",
    "    cheb_A = np.concatenate([A,np.array([A_row_norms]).T],axis=1)\n",
    "    \n",
    "    # -1 since scipy.linprog solves minimization problems\n",
    "    cheb_c = np.zeros(np.shape(cheb_A)[1])\n",
    "    #np.put(a=cheb_c,ind=-1,v=-1)\n",
    "    \n",
    "    # setup upper/lower bounds\n",
    "    ub_lb = list(zip(lb,ub))\n",
    "    ub_lb.append((0,None))\n",
    "    \n",
    "    soln = linprog(\n",
    "        c=cheb_c,\n",
    "        A_ub=cheb_A,\n",
    "        b_ub=b, \n",
    "        bounds = ub_lb,\n",
    "        method=\"interior-point\"\n",
    "    )\n",
    "    # remove the last coordinate, since that describes the radius of the ball\n",
    "    return soln.x[:-1]"
   ]
  },
  {
   "cell_type": "code",
   "execution_count": 5,
   "metadata": {
    "tags": []
   },
   "outputs": [
    {
     "name": "stderr",
     "output_type": "stream",
     "text": [
      "/tmp/ipykernel_160254/1408442964.py:19: DeprecationWarning: `method='interior-point'` is deprecated and will be removed in SciPy 1.11.0. Please use one of the HiGHS solvers (e.g. `method='highs'`) in new code.\n",
      "  soln = linprog(\n"
     ]
    }
   ],
   "source": [
    "init_point = find_cheb_center(np.array([P]),np.array([0.05*sum(P)]),np.zeros(705),np.ones(705))"
   ]
  },
  {
   "cell_type": "code",
   "execution_count": 6,
   "metadata": {
    "tags": []
   },
   "outputs": [
    {
     "data": {
      "text/plain": [
       "array([2.93162570e-01, 2.31246999e-02, 1.89617491e-01, 6.94201430e-04,\n",
       "       3.26266972e-04, 5.45664371e-03, 1.19327978e-02, 1.36545156e-01,\n",
       "       1.82194050e-01, 1.61917658e-01, 6.42156377e-03, 1.71116020e-02,\n",
       "       3.33945886e-02, 2.83117819e-02, 1.72640439e-01, 1.42983978e-02,\n",
       "       2.38816310e-01, 6.16811813e-02, 1.37054198e-03, 9.09303784e-04,\n",
       "       2.43111268e-02, 1.34874112e-02, 5.69885442e-03, 1.81144880e-01,\n",
       "       1.71420152e-03, 6.81058738e-03, 3.23848582e-02, 1.43944130e-02,\n",
       "       9.92723123e-04, 5.97942995e-04, 3.67763972e-03, 4.20995063e-04,\n",
       "       9.27111171e-02, 8.67365612e-02, 3.27452105e-02, 2.96015542e-02,\n",
       "       2.86026385e-02, 8.99193712e-03, 4.64632335e-02, 3.25439766e-01,\n",
       "       9.05830459e-04, 2.78614602e-04, 3.66823551e-02, 3.14062202e-02,\n",
       "       1.12055351e-01, 8.83067447e-04, 1.20944815e-02, 1.03804620e-02,\n",
       "       3.25146544e-03, 2.70106150e-01, 2.76576603e-02, 1.36295272e-02,\n",
       "       2.83392616e-03, 1.40995651e-02, 6.99032603e-02, 3.35744085e-02,\n",
       "       1.24702293e-01, 2.62372656e-02, 8.54620171e-03, 7.51835884e-03,\n",
       "       2.42364080e-02, 2.70052535e-02, 1.03260204e-01, 2.56578884e-01,\n",
       "       1.11385054e-02, 2.75940102e-02, 9.75321885e-03, 1.25764907e-02,\n",
       "       5.26474490e-02, 1.88895545e-02, 5.17783216e-02, 1.17214571e-02,\n",
       "       1.68360991e-03, 8.79848096e-04, 9.04030745e-04, 3.72460314e-03,\n",
       "       1.29626738e-02, 4.03191765e-02, 8.51685712e-04, 2.71683383e-02,\n",
       "       3.37153326e-02, 3.50433552e-03, 3.24457777e-02, 2.06972942e-01,\n",
       "       4.37343611e-02, 2.99262548e-02, 3.56415778e-02, 1.41630760e-03,\n",
       "       3.30842890e-02, 7.72855250e-03, 6.77602486e-02, 3.49849483e-02,\n",
       "       4.27949428e-03, 6.33336437e-03, 2.24469378e-02, 8.62387243e-03,\n",
       "       1.07153684e-02, 1.41276581e-02, 1.78865519e-02, 9.35931594e-03,\n",
       "       1.62686166e-02, 1.36940051e-03, 9.42512989e-03, 1.95298032e-01,\n",
       "       4.20446325e-01, 2.54913263e-01, 2.39713949e-01, 3.16712616e-01,\n",
       "       3.48201991e-01, 3.53456424e-01, 5.60707116e-02, 4.07651990e-01,\n",
       "       3.55457009e-01, 3.99333099e-01, 1.37304534e-01, 3.69626021e-01,\n",
       "       2.70920860e-01, 2.14680689e-02, 3.39904044e-01, 2.59204447e-01,\n",
       "       2.68506428e-02, 2.92205195e-01, 1.41429928e-01, 1.64411677e-01,\n",
       "       3.21600839e-01, 3.57355288e-01, 2.98223841e-01, 3.83613073e-02,\n",
       "       2.21240119e-02, 4.43743991e-02, 2.85556842e-04, 5.54052262e-03,\n",
       "       1.41299076e-01, 1.65481122e-01, 2.57386982e-01, 3.60050191e-01,\n",
       "       1.45481506e-01, 1.67037234e-02, 1.42952554e-02, 6.05007206e-02,\n",
       "       3.20608654e-01, 8.91736649e-02, 2.01051825e-01, 2.84185597e-01,\n",
       "       3.36090658e-01, 1.06923885e-01, 3.47841956e-01, 6.21116884e-03,\n",
       "       2.79188703e-01, 3.36312187e-01, 1.99943188e-01, 1.06093130e-01,\n",
       "       3.70447805e-01, 2.89374126e-01, 2.70908297e-02, 8.02998991e-02,\n",
       "       5.42683292e-02, 2.40785622e-01, 2.24430984e-01, 6.80828718e-02,\n",
       "       9.30859078e-03, 2.31301276e-01, 2.38257491e-01, 3.14240698e-01,\n",
       "       3.04709670e-01, 2.51691851e-01, 3.15375789e-01, 1.55700492e-01,\n",
       "       1.00325283e-01, 1.41135687e-01, 2.67422564e-01, 2.62903309e-01,\n",
       "       1.54121089e-01, 2.02679473e-01, 2.31193731e-01, 2.76331633e-01,\n",
       "       2.34994087e-01, 2.17784912e-03, 1.51112743e-02, 4.64331735e-01,\n",
       "       3.91284836e-01, 5.03952695e-02, 2.21492032e-01, 3.62263953e-01,\n",
       "       1.27715625e-01, 5.97985414e-02, 6.41271146e-02, 2.93563546e-01,\n",
       "       2.17990698e-01, 2.70512937e-01, 9.94725704e-02, 3.91818672e-02,\n",
       "       1.91419333e-01, 2.16586895e-01, 1.80476490e-01, 3.67182768e-01,\n",
       "       2.15391268e-01, 3.53084082e-01, 8.24832066e-02, 2.86221758e-01,\n",
       "       3.14240698e-01, 1.69513393e-01, 9.46874178e-03, 3.63037088e-02,\n",
       "       6.59627177e-04, 3.77725119e-01, 3.29005472e-02, 1.15738227e-01,\n",
       "       2.71057088e-01, 3.49650619e-01, 7.48878331e-02, 2.68155717e-01,\n",
       "       1.83587984e-01, 2.68825374e-01, 3.19329798e-01, 1.50311987e-01,\n",
       "       1.61356053e-01, 4.19545866e-02, 3.19329798e-01, 2.86449913e-01,\n",
       "       1.90934288e-01, 3.83366488e-01, 3.34330778e-01, 2.46241491e-01,\n",
       "       3.48562873e-01, 9.12069488e-02, 3.73041473e-02, 2.42490676e-01,\n",
       "       2.12089945e-01, 6.15039761e-02, 1.37908860e-01, 7.16749012e-03,\n",
       "       3.09953091e-02, 3.69352912e-01, 2.41598004e-02, 2.34446528e-01,\n",
       "       2.74924595e-01, 1.09883468e-01, 4.03139449e-01, 1.55376125e-01,\n",
       "       2.20827715e-01, 1.68613436e-01, 2.29961233e-01, 2.39376822e-01,\n",
       "       2.05074623e-01, 3.43470400e-01, 4.08140003e-01, 2.30255345e-03,\n",
       "       1.89432338e-03, 4.19508600e-02, 8.88938429e-02, 2.88985671e-01,\n",
       "       4.19598958e-01, 1.37114274e-01, 5.34178835e-02, 7.84675956e-02,\n",
       "       2.91254741e-01, 3.39904044e-01, 1.03924818e-01, 3.63447684e-01,\n",
       "       2.93885213e-01, 2.80931584e-01, 3.33676441e-01, 3.72902185e-02,\n",
       "       2.35103789e-01, 8.94359821e-02, 2.27361144e-01, 2.78038851e-01,\n",
       "       2.86069869e-01, 2.02183987e-03, 6.35658815e-04, 1.77397426e-02,\n",
       "       2.51418843e-02, 3.16616675e-01, 1.99192185e-02, 5.59748508e-02,\n",
       "       7.75238857e-02, 3.33133480e-01, 1.68184677e-01, 2.33301758e-01,\n",
       "       3.12742425e-01, 1.36249304e-02, 8.88752334e-02, 9.86293916e-02,\n",
       "       2.45194847e-01, 3.28759400e-01, 4.36884338e-02, 2.36149146e-01,\n",
       "       3.66644312e-01, 8.21184263e-02, 3.88863912e-01, 3.06117527e-01,\n",
       "       2.68490167e-01, 2.27045117e-01, 3.77013249e-01, 2.48945075e-01,\n",
       "       2.10804545e-03, 3.19721979e-01, 7.35708189e-04, 1.05833706e-01,\n",
       "       2.28630347e-01, 1.90152279e-02, 3.26655500e-02, 1.95341091e-02,\n",
       "       2.68233932e-04, 7.82163145e-03, 4.80814051e-03, 3.19301779e-02,\n",
       "       2.31924638e-02, 6.61830029e-03, 6.27401942e-03, 1.04803961e-01,\n",
       "       2.99778927e-03, 9.37543368e-03, 3.10105176e-03, 6.22177713e-03,\n",
       "       1.26367344e-02, 2.32234637e-02, 1.11467344e-02, 2.77316460e-02,\n",
       "       3.37090261e-01, 3.23405589e-01, 3.64506746e-01, 1.31020283e-01,\n",
       "       7.01054199e-02, 3.50868242e-01, 6.92301139e-04, 3.93793371e-03,\n",
       "       1.03386230e-03, 1.17681307e-03, 1.63189297e-02, 2.62412986e-02,\n",
       "       2.08216320e-01, 1.90670221e-01, 3.85874787e-01, 3.87214792e-01,\n",
       "       3.26056050e-01, 2.79188703e-01, 3.97764106e-01, 3.38321562e-01,\n",
       "       2.61234378e-01, 3.48442485e-01, 1.39706293e-01, 2.03756173e-01,\n",
       "       2.66957880e-01, 1.82784158e-01, 1.98428624e-01, 3.87813030e-01,\n",
       "       3.13776776e-02, 3.96205184e-01, 3.55331241e-01, 3.21733800e-04,\n",
       "       8.55441944e-03, 2.52113771e-01, 2.11601732e-01, 2.33791533e-01,\n",
       "       4.15396023e-01, 3.77867803e-01, 4.75494623e-04, 1.60341347e-03,\n",
       "       2.50742200e-03, 1.50744231e-03, 2.65853901e-04, 8.60615205e-04,\n",
       "       1.98565845e-01, 1.33838236e-03, 2.39292192e-03, 1.25131999e-01,\n",
       "       2.45078935e-01, 2.43170288e-02, 8.90988223e-03, 2.61929157e-02,\n",
       "       1.11590845e-02, 7.46325260e-02, 3.73683612e-02, 4.00138738e-02,\n",
       "       9.20622314e-02, 2.95587066e-01, 9.75956875e-03, 1.26314955e-01,\n",
       "       7.14011933e-03, 7.59822775e-02, 1.34310904e-02, 1.60395696e-03,\n",
       "       2.17037065e-01, 2.16936941e-01, 4.95581913e-02, 1.59168604e-02,\n",
       "       2.44272849e-02, 1.27403707e-03, 3.47163542e-02, 4.48203815e-02,\n",
       "       4.20105946e-02, 4.65824249e-02, 1.56097855e-01, 3.86579532e-04,\n",
       "       4.67263890e-03, 2.02586114e-01, 2.75816971e-02, 1.77746482e-02,\n",
       "       1.31080673e-01, 2.04089663e-02, 4.91964488e-02, 1.58539067e-02,\n",
       "       3.37082692e-02, 3.42096868e-02, 2.92603253e-01, 3.83948465e-03,\n",
       "       3.01245724e-02, 3.63711843e-01, 1.56170212e-01, 2.76402354e-01,\n",
       "       2.55960002e-01, 3.99139905e-03, 1.05650949e-03, 2.21185153e-01,\n",
       "       1.97783302e-02, 4.41281173e-02, 1.28392827e-01, 3.94237393e-02,\n",
       "       3.49529380e-01, 2.83886540e-01, 1.86967113e-01, 1.28156833e-01,\n",
       "       3.68807924e-01, 3.70860082e-01, 3.38771935e-01, 4.46466918e-02,\n",
       "       4.18025325e-02, 9.31476801e-03, 3.65572282e-01, 2.08120408e-01,\n",
       "       2.48530930e-01, 1.84906853e-01, 3.96854378e-02, 4.17910962e-01,\n",
       "       1.93773201e-01, 2.54545416e-01, 2.29481069e-01, 2.76756493e-01,\n",
       "       3.87962847e-01, 1.72800259e-01, 3.29285465e-01, 2.51812292e-01,\n",
       "       2.92762815e-01, 1.94130939e-01, 4.39745247e-02, 2.84860905e-01,\n",
       "       3.10893496e-01, 1.10601708e-01, 3.18257260e-01, 1.97880669e-01,\n",
       "       2.96077412e-01, 1.15528440e-01, 2.11650501e-01, 1.31746942e-01,\n",
       "       3.79156617e-01, 1.72400979e-01, 2.53082168e-01, 2.97063673e-01,\n",
       "       2.44096734e-01, 2.15888597e-01, 2.70852794e-01, 1.52204588e-01,\n",
       "       2.69970805e-01, 3.37760570e-01, 3.21203077e-01, 1.79064103e-01,\n",
       "       3.65705930e-01, 3.65305290e-01, 2.65769545e-01, 3.59404577e-01,\n",
       "       3.05323723e-01, 1.05927950e-01, 1.55664418e-01, 1.21952457e-02,\n",
       "       8.28840196e-02, 3.07047399e-02, 2.79128174e-02, 8.06199548e-02,\n",
       "       1.87070609e-02, 3.31013964e-03, 1.01619070e-02, 2.16936941e-01,\n",
       "       9.28891968e-02, 3.14259920e-02, 3.43121473e-01, 9.59526140e-03,\n",
       "       8.50381032e-02, 1.05106883e-01, 2.10240872e-01, 1.02668962e-01,\n",
       "       2.81077824e-01, 9.67468205e-03, 2.19302954e-01, 3.17579247e-01,\n",
       "       7.19999107e-02, 1.63917461e-01, 3.80598464e-01, 2.49716861e-01,\n",
       "       4.04639566e-02, 2.54361801e-01, 1.54837009e-01, 2.36480468e-01,\n",
       "       2.11260671e-01, 1.26112111e-01, 1.71883260e-01, 3.12928770e-01,\n",
       "       1.13224620e-01, 9.32467902e-02, 3.83953988e-01, 3.05764124e-01,\n",
       "       9.65068914e-03, 2.85388491e-01, 6.36601782e-02, 2.91649930e-01,\n",
       "       7.72533832e-02, 1.90670221e-01, 3.06916230e-01, 2.82105899e-01,\n",
       "       1.91551826e-01, 3.47243773e-01, 3.30875837e-01, 2.33682585e-01,\n",
       "       2.52393896e-02, 2.74505193e-01, 3.74612221e-01, 1.12384322e-01,\n",
       "       1.54085380e-01, 2.11992209e-01, 2.23799257e-02, 3.65361996e-03,\n",
       "       2.73323539e-01, 3.30449942e-01, 3.66107484e-01, 1.07859154e-01,\n",
       "       1.73521237e-01, 1.12867215e-01, 2.18544850e-01, 2.53210689e-02,\n",
       "       2.94773895e-01, 3.10710041e-01, 3.85281424e-02, 4.20105946e-02,\n",
       "       3.37459616e-02, 5.62152196e-02, 2.28206368e-01, 4.97893657e-02,\n",
       "       3.19231934e-01, 3.73492649e-01, 1.53053404e-01, 3.35207982e-01,\n",
       "       3.76871186e-01, 1.27950728e-01, 6.53137344e-02, 3.24317166e-01,\n",
       "       3.45699420e-01, 2.36701674e-01, 1.55556245e-01, 2.20521843e-01,\n",
       "       4.45847986e-02, 2.49182178e-01, 1.88962401e-01, 1.24988581e-01,\n",
       "       4.08628883e-01, 5.49070002e-02, 3.79156617e-01, 3.37760570e-01,\n",
       "       1.64411677e-01, 9.75834231e-02, 1.76965635e-01, 3.19525743e-01,\n",
       "       4.01546508e-01, 2.14449661e-01, 3.75033763e-01, 3.50380050e-01,\n",
       "       4.54411453e-02, 3.77300813e-02, 3.80598464e-01, 2.54117297e-01,\n",
       "       2.89451954e-01, 3.26262103e-01, 3.55080000e-01, 3.05852384e-01,\n",
       "       3.74051610e-01, 7.30496559e-02, 2.62580963e-01, 3.51603397e-01,\n",
       "       2.35928589e-01, 2.90546371e-01, 2.63097040e-01, 3.06161965e-02,\n",
       "       2.82696860e-01, 4.51689161e-02, 2.12677335e-01, 2.25942985e-01,\n",
       "       3.10069982e-01, 3.03057500e-01, 3.52668059e-02, 1.63803618e-01,\n",
       "       1.91684408e-01, 3.31624320e-01, 3.01682376e-01, 1.82446727e-01,\n",
       "       5.36040640e-02, 3.87065490e-01, 3.60466483e-02, 5.76757973e-03,\n",
       "       2.56145419e-01, 9.82648186e-02, 1.72440867e-01, 8.10390538e-02,\n",
       "       4.12231576e-02, 3.70173467e-01, 2.08264293e-01, 3.83660031e-01,\n",
       "       1.71248150e-01, 2.27466599e-01, 3.00660535e-01, 1.75052941e-01,\n",
       "       2.98640709e-01, 4.07163298e-02, 3.80309267e-01, 3.96049847e-01,\n",
       "       3.06649447e-01, 2.76827429e-01, 3.35098033e-01, 3.60568476e-01,\n",
       "       3.61609842e-01, 5.31063903e-02, 1.93594574e-01, 1.32081445e-01,\n",
       "       3.37201762e-01, 1.76189982e-01, 4.01387760e-01, 1.89828784e-02,\n",
       "       1.06366418e-03, 2.27522341e-02, 8.03158540e-02, 1.57551332e-01,\n",
       "       3.31838915e-01, 3.50818240e-02, 6.37445674e-02, 2.85547684e-02,\n",
       "       1.51360492e-01, 3.81613916e-01, 2.27730483e-01, 2.51932819e-01,\n",
       "       6.72054675e-02, 2.75064672e-01, 2.98057467e-01, 1.35039675e-01,\n",
       "       7.42320778e-03, 1.25339744e-02, 1.89006005e-01, 6.93527694e-02,\n",
       "       1.77414872e-02, 2.44673841e-01, 1.55628352e-01, 3.22399943e-01,\n",
       "       2.95017315e-01, 1.71248150e-01, 1.56750264e-01, 3.45817659e-01,\n",
       "       6.19689282e-02, 2.66164615e-01, 2.55960002e-01, 2.96077412e-01,\n",
       "       4.71860903e-02, 2.18192034e-01, 8.48814341e-02, 2.97063673e-01,\n",
       "       3.18257260e-01, 1.71684542e-01, 1.80601631e-01, 3.45109615e-01,\n",
       "       5.48765424e-02, 5.29174487e-02, 2.48471847e-01, 1.86708369e-01,\n",
       "       2.24327129e-01, 2.97891306e-01, 2.99226583e-01, 3.49408235e-01,\n",
       "       3.78439574e-01, 2.57823796e-01, 1.68067927e-01, 3.27921876e-01,\n",
       "       9.41088171e-02, 2.34501213e-01, 7.26157647e-02, 3.14617968e-01,\n",
       "       2.03240523e-01, 9.88231286e-02, 3.46054415e-01, 3.51235389e-01,\n",
       "       3.47602401e-01, 3.30237485e-01, 1.91817079e-01, 3.68807924e-01,\n",
       "       2.09902060e-01, 8.18711487e-02, 2.08072469e-01, 3.77013249e-01,\n",
       "       2.92683010e-01])"
      ]
     },
     "execution_count": 6,
     "metadata": {},
     "output_type": "execute_result"
    }
   ],
   "source": [
    "init_point"
   ]
  },
  {
   "cell_type": "code",
   "execution_count": 21,
   "metadata": {
    "tags": []
   },
   "outputs": [],
   "source": [
    "# try finding the analytic center\n",
    "def analytic_center_obj(x,A,b):\n",
    "    # compute every index in the logarithmic potential function... then sum it up\n",
    "    return -np.sum(np.log(b-A@x))"
   ]
  },
  {
   "cell_type": "code",
   "execution_count": 23,
   "metadata": {
    "tags": []
   },
   "outputs": [],
   "source": [
    "A = np.array([P])\n",
    "b = np.array([0.05*sum(P)])"
   ]
  },
  {
   "cell_type": "code",
   "execution_count": 46,
   "metadata": {
    "tags": []
   },
   "outputs": [],
   "source": [
    "A_aug = np.concatenate((A,-np.eye(705)),axis=0)\n",
    "b_aug = np.concatenate((b,np.zeros(705)),axis=0)"
   ]
  },
  {
   "cell_type": "code",
   "execution_count": 59,
   "metadata": {
    "tags": []
   },
   "outputs": [
    {
     "data": {
      "text/plain": [
       "4857.1605014689385"
      ]
     },
     "execution_count": 59,
     "metadata": {},
     "output_type": "execute_result"
    }
   ],
   "source": [
    "analytic_center_obj(np.zeros(705)+0.001,A_aug,b_aug)"
   ]
  },
  {
   "cell_type": "code",
   "execution_count": 51,
   "metadata": {
    "tags": []
   },
   "outputs": [],
   "source": [
    "from scipy.optimize import minimize"
   ]
  },
  {
   "cell_type": "code",
   "execution_count": 62,
   "metadata": {
    "tags": []
   },
   "outputs": [
    {
     "ename": "TypeError",
     "evalue": "<lambda>() takes 1 positional argument but 3 were given",
     "output_type": "error",
     "traceback": [
      "\u001b[0;31m---------------------------------------------------------------------------\u001b[0m",
      "\u001b[0;31mTypeError\u001b[0m                                 Traceback (most recent call last)",
      "Cell \u001b[0;32mIn[62], line 1\u001b[0m\n\u001b[0;32m----> 1\u001b[0m \u001b[43mminimize\u001b[49m\u001b[43m(\u001b[49m\n\u001b[1;32m      2\u001b[0m \u001b[43m    \u001b[49m\u001b[43manalytic_center_obj\u001b[49m\u001b[43m,\u001b[49m\n\u001b[1;32m      3\u001b[0m \u001b[43m    \u001b[49m\u001b[43mx0\u001b[49m\u001b[43m \u001b[49m\u001b[38;5;241;43m=\u001b[39;49m\u001b[43m \u001b[49m\u001b[43mnp\u001b[49m\u001b[38;5;241;43m.\u001b[39;49m\u001b[43mzeros\u001b[49m\u001b[43m(\u001b[49m\u001b[38;5;241;43m705\u001b[39;49m\u001b[43m)\u001b[49m\u001b[38;5;241;43m+\u001b[39;49m\u001b[38;5;241;43m0.001\u001b[39;49m\u001b[43m,\u001b[49m\n\u001b[1;32m      4\u001b[0m \u001b[43m    \u001b[49m\u001b[43mjac\u001b[49m\u001b[43m \u001b[49m\u001b[38;5;241;43m=\u001b[39;49m\u001b[43m \u001b[49m\u001b[38;5;28;43;01mlambda\u001b[39;49;00m\u001b[43m \u001b[49m\u001b[43mx\u001b[49m\u001b[43m:\u001b[49m\u001b[43m \u001b[49m\u001b[43manalytic_center_gradient\u001b[49m\u001b[43m(\u001b[49m\u001b[43mx\u001b[49m\u001b[43m,\u001b[49m\u001b[43mA_constr\u001b[49m\u001b[43m,\u001b[49m\u001b[43mb_constr\u001b[49m\u001b[43m,\u001b[49m\u001b[38;5;241;43m133\u001b[39;49m\u001b[43m)\u001b[49m\u001b[43m,\u001b[49m\n\u001b[1;32m      5\u001b[0m \u001b[43m    \u001b[49m\u001b[43margs\u001b[49m\u001b[38;5;241;43m=\u001b[39;49m\u001b[43m(\u001b[49m\u001b[43mA_aug\u001b[49m\u001b[43m,\u001b[49m\u001b[43mb_aug\u001b[49m\u001b[43m)\u001b[49m\n\u001b[1;32m      6\u001b[0m \u001b[43m)\u001b[49m\n",
      "File \u001b[0;32m~/Projects/CS_4501_Fall22_RL_Project/venv/lib/python3.9/site-packages/scipy/optimize/_minimize.py:694\u001b[0m, in \u001b[0;36mminimize\u001b[0;34m(fun, x0, args, method, jac, hess, hessp, bounds, constraints, tol, callback, options)\u001b[0m\n\u001b[1;32m    692\u001b[0m     res \u001b[38;5;241m=\u001b[39m _minimize_cg(fun, x0, args, jac, callback, \u001b[38;5;241m*\u001b[39m\u001b[38;5;241m*\u001b[39moptions)\n\u001b[1;32m    693\u001b[0m \u001b[38;5;28;01melif\u001b[39;00m meth \u001b[38;5;241m==\u001b[39m \u001b[38;5;124m'\u001b[39m\u001b[38;5;124mbfgs\u001b[39m\u001b[38;5;124m'\u001b[39m:\n\u001b[0;32m--> 694\u001b[0m     res \u001b[38;5;241m=\u001b[39m \u001b[43m_minimize_bfgs\u001b[49m\u001b[43m(\u001b[49m\u001b[43mfun\u001b[49m\u001b[43m,\u001b[49m\u001b[43m \u001b[49m\u001b[43mx0\u001b[49m\u001b[43m,\u001b[49m\u001b[43m \u001b[49m\u001b[43margs\u001b[49m\u001b[43m,\u001b[49m\u001b[43m \u001b[49m\u001b[43mjac\u001b[49m\u001b[43m,\u001b[49m\u001b[43m \u001b[49m\u001b[43mcallback\u001b[49m\u001b[43m,\u001b[49m\u001b[43m \u001b[49m\u001b[38;5;241;43m*\u001b[39;49m\u001b[38;5;241;43m*\u001b[39;49m\u001b[43moptions\u001b[49m\u001b[43m)\u001b[49m\n\u001b[1;32m    695\u001b[0m \u001b[38;5;28;01melif\u001b[39;00m meth \u001b[38;5;241m==\u001b[39m \u001b[38;5;124m'\u001b[39m\u001b[38;5;124mnewton-cg\u001b[39m\u001b[38;5;124m'\u001b[39m:\n\u001b[1;32m    696\u001b[0m     res \u001b[38;5;241m=\u001b[39m _minimize_newtoncg(fun, x0, args, jac, hess, hessp, callback,\n\u001b[1;32m    697\u001b[0m                              \u001b[38;5;241m*\u001b[39m\u001b[38;5;241m*\u001b[39moptions)\n",
      "File \u001b[0;32m~/Projects/CS_4501_Fall22_RL_Project/venv/lib/python3.9/site-packages/scipy/optimize/_optimize.py:1283\u001b[0m, in \u001b[0;36m_minimize_bfgs\u001b[0;34m(fun, x0, args, jac, callback, gtol, norm, eps, maxiter, disp, return_all, finite_diff_rel_step, **unknown_options)\u001b[0m\n\u001b[1;32m   1280\u001b[0m \u001b[38;5;28;01mif\u001b[39;00m maxiter \u001b[38;5;129;01mis\u001b[39;00m \u001b[38;5;28;01mNone\u001b[39;00m:\n\u001b[1;32m   1281\u001b[0m     maxiter \u001b[38;5;241m=\u001b[39m \u001b[38;5;28mlen\u001b[39m(x0) \u001b[38;5;241m*\u001b[39m \u001b[38;5;241m200\u001b[39m\n\u001b[0;32m-> 1283\u001b[0m sf \u001b[38;5;241m=\u001b[39m \u001b[43m_prepare_scalar_function\u001b[49m\u001b[43m(\u001b[49m\u001b[43mfun\u001b[49m\u001b[43m,\u001b[49m\u001b[43m \u001b[49m\u001b[43mx0\u001b[49m\u001b[43m,\u001b[49m\u001b[43m \u001b[49m\u001b[43mjac\u001b[49m\u001b[43m,\u001b[49m\u001b[43m \u001b[49m\u001b[43margs\u001b[49m\u001b[38;5;241;43m=\u001b[39;49m\u001b[43margs\u001b[49m\u001b[43m,\u001b[49m\u001b[43m \u001b[49m\u001b[43mepsilon\u001b[49m\u001b[38;5;241;43m=\u001b[39;49m\u001b[43meps\u001b[49m\u001b[43m,\u001b[49m\n\u001b[1;32m   1284\u001b[0m \u001b[43m                              \u001b[49m\u001b[43mfinite_diff_rel_step\u001b[49m\u001b[38;5;241;43m=\u001b[39;49m\u001b[43mfinite_diff_rel_step\u001b[49m\u001b[43m)\u001b[49m\n\u001b[1;32m   1286\u001b[0m f \u001b[38;5;241m=\u001b[39m sf\u001b[38;5;241m.\u001b[39mfun\n\u001b[1;32m   1287\u001b[0m myfprime \u001b[38;5;241m=\u001b[39m sf\u001b[38;5;241m.\u001b[39mgrad\n",
      "File \u001b[0;32m~/Projects/CS_4501_Fall22_RL_Project/venv/lib/python3.9/site-packages/scipy/optimize/_optimize.py:263\u001b[0m, in \u001b[0;36m_prepare_scalar_function\u001b[0;34m(fun, x0, jac, args, bounds, epsilon, finite_diff_rel_step, hess)\u001b[0m\n\u001b[1;32m    259\u001b[0m     bounds \u001b[38;5;241m=\u001b[39m (\u001b[38;5;241m-\u001b[39mnp\u001b[38;5;241m.\u001b[39minf, np\u001b[38;5;241m.\u001b[39minf)\n\u001b[1;32m    261\u001b[0m \u001b[38;5;66;03m# ScalarFunction caches. Reuse of fun(x) during grad\u001b[39;00m\n\u001b[1;32m    262\u001b[0m \u001b[38;5;66;03m# calculation reduces overall function evaluations.\u001b[39;00m\n\u001b[0;32m--> 263\u001b[0m sf \u001b[38;5;241m=\u001b[39m \u001b[43mScalarFunction\u001b[49m\u001b[43m(\u001b[49m\u001b[43mfun\u001b[49m\u001b[43m,\u001b[49m\u001b[43m \u001b[49m\u001b[43mx0\u001b[49m\u001b[43m,\u001b[49m\u001b[43m \u001b[49m\u001b[43margs\u001b[49m\u001b[43m,\u001b[49m\u001b[43m \u001b[49m\u001b[43mgrad\u001b[49m\u001b[43m,\u001b[49m\u001b[43m \u001b[49m\u001b[43mhess\u001b[49m\u001b[43m,\u001b[49m\n\u001b[1;32m    264\u001b[0m \u001b[43m                    \u001b[49m\u001b[43mfinite_diff_rel_step\u001b[49m\u001b[43m,\u001b[49m\u001b[43m \u001b[49m\u001b[43mbounds\u001b[49m\u001b[43m,\u001b[49m\u001b[43m \u001b[49m\u001b[43mepsilon\u001b[49m\u001b[38;5;241;43m=\u001b[39;49m\u001b[43mepsilon\u001b[49m\u001b[43m)\u001b[49m\n\u001b[1;32m    266\u001b[0m \u001b[38;5;28;01mreturn\u001b[39;00m sf\n",
      "File \u001b[0;32m~/Projects/CS_4501_Fall22_RL_Project/venv/lib/python3.9/site-packages/scipy/optimize/_differentiable_functions.py:177\u001b[0m, in \u001b[0;36mScalarFunction.__init__\u001b[0;34m(self, fun, x0, args, grad, hess, finite_diff_rel_step, finite_diff_bounds, epsilon)\u001b[0m\n\u001b[1;32m    173\u001b[0m         \u001b[38;5;28mself\u001b[39m\u001b[38;5;241m.\u001b[39mg \u001b[38;5;241m=\u001b[39m approx_derivative(fun_wrapped, \u001b[38;5;28mself\u001b[39m\u001b[38;5;241m.\u001b[39mx, f0\u001b[38;5;241m=\u001b[39m\u001b[38;5;28mself\u001b[39m\u001b[38;5;241m.\u001b[39mf,\n\u001b[1;32m    174\u001b[0m                                    \u001b[38;5;241m*\u001b[39m\u001b[38;5;241m*\u001b[39mfinite_diff_options)\n\u001b[1;32m    176\u001b[0m \u001b[38;5;28mself\u001b[39m\u001b[38;5;241m.\u001b[39m_update_grad_impl \u001b[38;5;241m=\u001b[39m update_grad\n\u001b[0;32m--> 177\u001b[0m \u001b[38;5;28;43mself\u001b[39;49m\u001b[38;5;241;43m.\u001b[39;49m\u001b[43m_update_grad\u001b[49m\u001b[43m(\u001b[49m\u001b[43m)\u001b[49m\n\u001b[1;32m    179\u001b[0m \u001b[38;5;66;03m# Hessian Evaluation\u001b[39;00m\n\u001b[1;32m    180\u001b[0m \u001b[38;5;28;01mif\u001b[39;00m callable(hess):\n",
      "File \u001b[0;32m~/Projects/CS_4501_Fall22_RL_Project/venv/lib/python3.9/site-packages/scipy/optimize/_differentiable_functions.py:256\u001b[0m, in \u001b[0;36mScalarFunction._update_grad\u001b[0;34m(self)\u001b[0m\n\u001b[1;32m    254\u001b[0m \u001b[38;5;28;01mdef\u001b[39;00m \u001b[38;5;21m_update_grad\u001b[39m(\u001b[38;5;28mself\u001b[39m):\n\u001b[1;32m    255\u001b[0m     \u001b[38;5;28;01mif\u001b[39;00m \u001b[38;5;129;01mnot\u001b[39;00m \u001b[38;5;28mself\u001b[39m\u001b[38;5;241m.\u001b[39mg_updated:\n\u001b[0;32m--> 256\u001b[0m         \u001b[38;5;28;43mself\u001b[39;49m\u001b[38;5;241;43m.\u001b[39;49m\u001b[43m_update_grad_impl\u001b[49m\u001b[43m(\u001b[49m\u001b[43m)\u001b[49m\n\u001b[1;32m    257\u001b[0m         \u001b[38;5;28mself\u001b[39m\u001b[38;5;241m.\u001b[39mg_updated \u001b[38;5;241m=\u001b[39m \u001b[38;5;28;01mTrue\u001b[39;00m\n",
      "File \u001b[0;32m~/Projects/CS_4501_Fall22_RL_Project/venv/lib/python3.9/site-packages/scipy/optimize/_differentiable_functions.py:167\u001b[0m, in \u001b[0;36mScalarFunction.__init__.<locals>.update_grad\u001b[0;34m()\u001b[0m\n\u001b[1;32m    166\u001b[0m \u001b[38;5;28;01mdef\u001b[39;00m \u001b[38;5;21mupdate_grad\u001b[39m():\n\u001b[0;32m--> 167\u001b[0m     \u001b[38;5;28mself\u001b[39m\u001b[38;5;241m.\u001b[39mg \u001b[38;5;241m=\u001b[39m \u001b[43mgrad_wrapped\u001b[49m\u001b[43m(\u001b[49m\u001b[38;5;28;43mself\u001b[39;49m\u001b[38;5;241;43m.\u001b[39;49m\u001b[43mx\u001b[49m\u001b[43m)\u001b[49m\n",
      "File \u001b[0;32m~/Projects/CS_4501_Fall22_RL_Project/venv/lib/python3.9/site-packages/scipy/optimize/_differentiable_functions.py:164\u001b[0m, in \u001b[0;36mScalarFunction.__init__.<locals>.grad_wrapped\u001b[0;34m(x)\u001b[0m\n\u001b[1;32m    162\u001b[0m \u001b[38;5;28;01mdef\u001b[39;00m \u001b[38;5;21mgrad_wrapped\u001b[39m(x):\n\u001b[1;32m    163\u001b[0m     \u001b[38;5;28mself\u001b[39m\u001b[38;5;241m.\u001b[39mngev \u001b[38;5;241m+\u001b[39m\u001b[38;5;241m=\u001b[39m \u001b[38;5;241m1\u001b[39m\n\u001b[0;32m--> 164\u001b[0m     \u001b[38;5;28;01mreturn\u001b[39;00m np\u001b[38;5;241m.\u001b[39matleast_1d(\u001b[43mgrad\u001b[49m\u001b[43m(\u001b[49m\u001b[43mnp\u001b[49m\u001b[38;5;241;43m.\u001b[39;49m\u001b[43mcopy\u001b[49m\u001b[43m(\u001b[49m\u001b[43mx\u001b[49m\u001b[43m)\u001b[49m\u001b[43m,\u001b[49m\u001b[43m \u001b[49m\u001b[38;5;241;43m*\u001b[39;49m\u001b[43margs\u001b[49m\u001b[43m)\u001b[49m)\n",
      "\u001b[0;31mTypeError\u001b[0m: <lambda>() takes 1 positional argument but 3 were given"
     ]
    }
   ],
   "source": [
    "minimize(\n",
    "    analytic_center_obj,\n",
    "    x0 = np.zeros(705)+0.001,\n",
    "    jac = lambda x: analytic_center_gradient(x,A_constr,b_constr,133),\n",
    "    args=(A_aug,b_aug)\n",
    ")"
   ]
  },
  {
   "cell_type": "code",
   "execution_count": 42,
   "metadata": {
    "tags": []
   },
   "outputs": [
    {
     "data": {
      "text/plain": [
       "(705, 705)"
      ]
     },
     "execution_count": 42,
     "metadata": {},
     "output_type": "execute_result"
    }
   ],
   "source": [
    "np.shape(A)\n",
    "np.shape(np.eye(705))"
   ]
  }
 ],
 "metadata": {
  "kernelspec": {
   "display_name": "Python 3 (ipykernel)",
   "language": "python",
   "name": "python3"
  },
  "language_info": {
   "codemirror_mode": {
    "name": "ipython",
    "version": 3
   },
   "file_extension": ".py",
   "mimetype": "text/x-python",
   "name": "python",
   "nbconvert_exporter": "python",
   "pygments_lexer": "ipython3",
   "version": "3.9.7"
  }
 },
 "nbformat": 4,
 "nbformat_minor": 4
}
