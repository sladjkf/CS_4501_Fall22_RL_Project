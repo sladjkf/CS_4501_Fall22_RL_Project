{
 "cells": [
  {
   "cell_type": "code",
   "execution_count": 1,
   "id": "015cc9ba-796c-435a-8bbb-a61016c025df",
   "metadata": {},
   "outputs": [],
   "source": [
    "import numpy as np\n",
    "import pandas as pd\n",
    "import math\n",
    "from scipy.stats import nbinom"
   ]
  },
  {
   "cell_type": "code",
   "execution_count": 20,
   "id": "0cb5b059-01fb-45e9-b775-4860f10e384c",
   "metadata": {},
   "outputs": [],
   "source": [
    "# state matrix\n",
    "num_patches=100\n",
    "patch_pop=500\n",
    "initial_inf=10\n",
    "\n",
    "# epiphenomological parameter??\n",
    "alpha=0.97\n",
    "# disease infectiousness\n",
    "beta = 0.9\n",
    "recovery = 1\n",
    "ITERS =20 \n",
    "\n",
    "\n",
    "# setup matrix\n",
    "# rows are patches, columns are S,I,R\n",
    "disease_matrix = np.zeros((num_patches,3))\n",
    "disease_matrix[:,0]=patch_pop-initial_inf\n",
    "disease_matrix[:,1]=initial_inf\n",
    "\n",
    "# simulation results characterized by a sequence of matrices\n",
    "disease_matrix_ts = [disease_matrix]\n",
    "delta_I_ts = [disease_matrix[:,1]]"
   ]
  },
  {
   "cell_type": "code",
   "execution_count": 25,
   "id": "448e0421-d034-44ad-ac96-0bead88c0978",
   "metadata": {},
   "outputs": [
    {
     "name": "stdout",
     "output_type": "stream",
     "text": [
      "[0.54850715 0.54850715 0.54850715 0.54850715 0.54850715 0.54850715\n",
      " 0.54850715 0.54850715 0.54850715 0.54850715 0.54850715 0.54850715\n",
      " 0.54850715 0.54850715 0.54850715 0.54850715 0.54850715 0.54850715\n",
      " 0.54850715 0.54850715 0.54850715 0.54850715 0.54850715 0.54850715\n",
      " 0.54850715 0.54850715 0.54850715 0.54850715 0.54850715 0.54850715\n",
      " 0.54850715 0.54850715 0.54850715 0.54850715 0.54850715 0.54850715\n",
      " 0.54850715 0.54850715 0.54850715 0.54850715 0.54850715 0.54850715\n",
      " 0.54850715 0.54850715 0.54850715 0.54850715 0.54850715 0.54850715\n",
      " 0.54850715 0.54850715 0.54850715 0.54850715 0.54850715 0.54850715\n",
      " 0.54850715 0.54850715 0.54850715 0.54850715 0.54850715 0.54850715\n",
      " 0.54850715 0.54850715 0.54850715 0.54850715 0.54850715 0.54850715\n",
      " 0.54850715 0.54850715 0.54850715 0.54850715 0.54850715 0.54850715\n",
      " 0.54850715 0.54850715 0.54850715 0.54850715 0.54850715 0.54850715\n",
      " 0.54850715 0.54850715 0.54850715 0.54850715 0.54850715 0.54850715\n",
      " 0.54850715 0.54850715 0.54850715 0.54850715 0.54850715 0.54850715\n",
      " 0.54850715 0.54850715 0.54850715 0.54850715 0.54850715 0.54850715\n",
      " 0.54850715 0.54850715 0.54850715 0.54850715] [10. 10. 10. 10. 10. 10. 10. 10. 10. 10. 10. 10. 10. 10. 10. 10. 10. 10.\n",
      " 10. 10. 10. 10. 10. 10. 10. 10. 10. 10. 10. 10. 10. 10. 10. 10. 10. 10.\n",
      " 10. 10. 10. 10. 10. 10. 10. 10. 10. 10. 10. 10. 10. 10. 10. 10. 10. 10.\n",
      " 10. 10. 10. 10. 10. 10. 10. 10. 10. 10. 10. 10. 10. 10. 10. 10. 10. 10.\n",
      " 10. 10. 10. 10. 10. 10. 10. 10. 10. 10. 10. 10. 10. 10. 10. 10. 10. 10.\n",
      " 10. 10. 10. 10. 10. 10. 10. 10. 10. 10.]\n",
      "[0. 0. 0. 0. 0. 0. 0. 0. 0. 0. 0. 0. 0. 0. 0. 0. 0. 0. 0. 0. 0. 0. 0. 0.\n",
      " 0. 0. 0. 0. 0. 0. 0. 0. 0. 0. 0. 0. 0. 0. 0. 0. 0. 0. 0. 0. 0. 0. 0. 0.\n",
      " 0. 0. 0. 0. 0. 0. 0. 0. 0. 0. 0. 0. 0. 0. 0. 0. 0. 0. 0. 0. 0. 0. 0. 0.\n",
      " 0. 0. 0. 0. 0. 0. 0. 0. 0. 0. 0. 0. 0. 0. 0. 0. 0. 0. 0. 0. 0. 0. 0. 0.\n",
      " 0. 0. 0. 0.]\n",
      "[       nan        nan        nan        nan        nan 0.53699925\n",
      "        nan 0.54268393        nan        nan        nan 0.55105567\n",
      "        nan 0.54622029        nan 0.55292947        nan        nan\n",
      "        nan 0.54268393        nan        nan        nan        nan\n",
      "        nan        nan        nan 0.55105567        nan        nan\n",
      "        nan        nan        nan        nan        nan        nan\n",
      "        nan        nan        nan 0.53699925        nan        nan\n",
      " 0.53699925        nan        nan        nan        nan        nan\n",
      "        nan 0.54268393        nan 0.55105567 0.54622029        nan\n",
      "        nan        nan        nan        nan 0.55105567        nan\n",
      "        nan        nan        nan        nan        nan        nan\n",
      "        nan        nan 0.53699925 0.54268393 0.54622029        nan\n",
      " 0.55105567        nan        nan        nan 0.54622029 0.55292947\n",
      "        nan 0.54268393        nan        nan        nan        nan\n",
      "        nan        nan        nan        nan 0.54622029 0.53699925\n",
      "        nan 0.55610594        nan        nan        nan        nan\n",
      " 0.55880496 0.54268393        nan        nan] [ 0. -7. -5. -7. -6.  1. -9.  2.  0. -5. -2.  5.  0.  3. -3.  6. -3. -7.\n",
      " -9.  2. -1. -2. -6. -2. -6. -8. -3.  5. -6. -5. -6. -2. -1. -6. -7. -1.\n",
      " -7. -7. -4.  1. -4. -3.  1. -4. -6. -6. -5.  0. -2.  2. -2.  5.  3.  0.\n",
      " -4. -4. -7. -7.  5. -3. -8. -6. -2. -4.  0. -6. -6. -3.  1.  2.  3. -8.\n",
      "  5.  0. -3. -6.  3.  6. -1.  2. -3. -5. -1. -3.  0. -6. -1. -2.  3.  1.\n",
      " -5.  8. -3. -6. -1. -9. 10.  2. -2. -4.]\n"
     ]
    },
    {
     "name": "stderr",
     "output_type": "stream",
     "text": [
      "C:\\Users\\nrw5cq\\AppData\\Local\\Temp\\ipykernel_12940\\1660054346.py:8: RuntimeWarning: invalid value encountered in power\n",
      "  lmbda_t = beta*S_t*I_t**(alpha)/patch_pop\n"
     ]
    },
    {
     "ename": "ValueError",
     "evalue": "Domain error in arguments.",
     "output_type": "error",
     "traceback": [
      "\u001b[1;31m---------------------------------------------------------------------------\u001b[0m",
      "\u001b[1;31mValueError\u001b[0m                                Traceback (most recent call last)",
      "Input \u001b[1;32mIn [25]\u001b[0m, in \u001b[0;36m<cell line: 2>\u001b[1;34m()\u001b[0m\n\u001b[0;32m     24\u001b[0m \u001b[38;5;28;01mfor\u001b[39;00m j \u001b[38;5;129;01min\u001b[39;00m \u001b[38;5;28mrange\u001b[39m(\u001b[38;5;241m0\u001b[39m,num_patches):\n\u001b[0;32m     25\u001b[0m     \u001b[38;5;28;01mif\u001b[39;00m math\u001b[38;5;241m.\u001b[39misnan(p[j]):\n\u001b[1;32m---> 26\u001b[0m         delta_I_t[j] \u001b[38;5;241m=\u001b[39m \u001b[43mnbinom\u001b[49m\u001b[38;5;241;43m.\u001b[39;49m\u001b[43mrvs\u001b[49m\u001b[43m(\u001b[49m\u001b[43mn\u001b[49m\u001b[43m[\u001b[49m\u001b[43mj\u001b[49m\u001b[43m]\u001b[49m\u001b[43m,\u001b[49m\u001b[43mp\u001b[49m\u001b[43m[\u001b[49m\u001b[43mj\u001b[49m\u001b[43m]\u001b[49m\u001b[43m)\u001b[49m\n\u001b[0;32m     27\u001b[0m     \u001b[38;5;28;01melse\u001b[39;00m:\n\u001b[0;32m     28\u001b[0m         delta_I_t[j] \u001b[38;5;241m=\u001b[39m \u001b[38;5;241m0\u001b[39m\n",
      "File \u001b[1;32m~\\AppData\\Local\\Programs\\Python\\Python310\\lib\\site-packages\\scipy\\stats\\_distn_infrastructure.py:3151\u001b[0m, in \u001b[0;36mrv_discrete.rvs\u001b[1;34m(self, *args, **kwargs)\u001b[0m\n\u001b[0;32m   3122\u001b[0m \u001b[38;5;124;03m\"\"\"Random variates of given type.\u001b[39;00m\n\u001b[0;32m   3123\u001b[0m \n\u001b[0;32m   3124\u001b[0m \u001b[38;5;124;03mParameters\u001b[39;00m\n\u001b[1;32m   (...)\u001b[0m\n\u001b[0;32m   3148\u001b[0m \n\u001b[0;32m   3149\u001b[0m \u001b[38;5;124;03m\"\"\"\u001b[39;00m\n\u001b[0;32m   3150\u001b[0m kwargs[\u001b[38;5;124m'\u001b[39m\u001b[38;5;124mdiscrete\u001b[39m\u001b[38;5;124m'\u001b[39m] \u001b[38;5;241m=\u001b[39m \u001b[38;5;28;01mTrue\u001b[39;00m\n\u001b[1;32m-> 3151\u001b[0m \u001b[38;5;28;01mreturn\u001b[39;00m \u001b[38;5;28msuper\u001b[39m()\u001b[38;5;241m.\u001b[39mrvs(\u001b[38;5;241m*\u001b[39margs, \u001b[38;5;241m*\u001b[39m\u001b[38;5;241m*\u001b[39mkwargs)\n",
      "File \u001b[1;32m~\\AppData\\Local\\Programs\\Python\\Python310\\lib\\site-packages\\scipy\\stats\\_distn_infrastructure.py:1068\u001b[0m, in \u001b[0;36mrv_generic.rvs\u001b[1;34m(self, *args, **kwds)\u001b[0m\n\u001b[0;32m   1066\u001b[0m cond \u001b[38;5;241m=\u001b[39m logical_and(\u001b[38;5;28mself\u001b[39m\u001b[38;5;241m.\u001b[39m_argcheck(\u001b[38;5;241m*\u001b[39margs), (scale \u001b[38;5;241m>\u001b[39m\u001b[38;5;241m=\u001b[39m \u001b[38;5;241m0\u001b[39m))\n\u001b[0;32m   1067\u001b[0m \u001b[38;5;28;01mif\u001b[39;00m \u001b[38;5;129;01mnot\u001b[39;00m np\u001b[38;5;241m.\u001b[39mall(cond):\n\u001b[1;32m-> 1068\u001b[0m     \u001b[38;5;28;01mraise\u001b[39;00m \u001b[38;5;167;01mValueError\u001b[39;00m(\u001b[38;5;124m\"\u001b[39m\u001b[38;5;124mDomain error in arguments.\u001b[39m\u001b[38;5;124m\"\u001b[39m)\n\u001b[0;32m   1070\u001b[0m \u001b[38;5;28;01mif\u001b[39;00m np\u001b[38;5;241m.\u001b[39mall(scale \u001b[38;5;241m==\u001b[39m \u001b[38;5;241m0\u001b[39m):\n\u001b[0;32m   1071\u001b[0m     \u001b[38;5;28;01mreturn\u001b[39;00m loc\u001b[38;5;241m*\u001b[39mones(size, \u001b[38;5;124m'\u001b[39m\u001b[38;5;124md\u001b[39m\u001b[38;5;124m'\u001b[39m)\n",
      "\u001b[1;31mValueError\u001b[0m: Domain error in arguments."
     ]
    }
   ],
   "source": [
    "# main loop of disease spread simulation\n",
    "for i in range(0,ITERS):\n",
    "    last_matrix = disease_matrix_ts[i]\n",
    "    S_t = last_matrix[:,0]\n",
    "    I_t = last_matrix[:,1]\n",
    "    R_t = last_matrix[:,2]\n",
    "    # compute lambda for each row\n",
    "    lmbda_t = beta*S_t*I_t**(alpha)/patch_pop\n",
    "    # parameterize negative binomial (can be simplified..)\n",
    "    p = np.zeros(len(I_t))\n",
    "    n = I_t\n",
    "    for j in range(0,len(I_t)):\n",
    "        if I_t[j] > 0:\n",
    "            variance= lmbda_t[j] + (1/I_t[j])*(lmbda_t[j]**2)\n",
    "            p[j] = lmbda_t[j]/variance\n",
    "        else:\n",
    "            p[j] = None\n",
    "    print(p,n)\n",
    "    # note: I think this is a delta (change in infections)...\n",
    "    delta_I_t = np.zeros(num_patches)\n",
    "    # bad and lazy way for dealing with NaNs once number of infections reaches 0.\n",
    "    # just do it before the probabilities are sampled\n",
    "    # to avoid all these errors.\n",
    "    for j in range(0,num_patches):\n",
    "        if math.isnan(p[j]):\n",
    "            delta_I_t[j] = nbinom.rvs(n[j],p[j])\n",
    "        else:\n",
    "            delta_I_t[j] = 0\n",
    "    print(delta_I_t)\n",
    "    delta_I_ts.append(delta_I_t)\n",
    "    next_S = S_t - delta_I_t\n",
    "    if i >= (recovery-1): # infections that were introduced 'recovery' steps ago should now be removed from I\n",
    "        recovered = delta_I_ts[-(recovery+1)]\n",
    "        recovered = np.maximum(recovered,I_t+next_I)\n",
    "    else:\n",
    "        recovered = 0\n",
    "    next_matrix = np.array([next_S,\n",
    "                            next_I+delta_I_t-recovered,\n",
    "                            R_t+recovered]).T\n",
    "    disease_matrix_ts.append(next_matrix)"
   ]
  },
  {
   "cell_type": "code",
   "execution_count": 7,
   "id": "e403e725-205b-409e-9671-faee835bccc6",
   "metadata": {},
   "outputs": [
    {
     "data": {
      "text/plain": [
       "<AxesSubplot:>"
      ]
     },
     "execution_count": 15,
     "metadata": {},
     "output_type": "execute_result"
    },
    {
     "data": {
      "image/png": "[encoded data removed]",
      "text/plain": [
       "<Figure size 432x288 with 1 Axes>"
      ]
     },
     "metadata": {
      "needs_background": "light"
     },
     "output_type": "display_data"
    }
   ],
   "source": [
    "np.array([disease_matrix_ts[k][:,1] for k in range(0,ITERS)])\n",
    "pd.DataFrame(np.array([disease_matrix_ts[k][:,1] for k in range(0,ITERS)])).plot(legend=False)"
   ]
  },
  {
   "cell_type": "code",
   "execution_count": 26,
   "id": "846fda41-66fe-45fb-9dd7-03bdf3f0dfb3",
   "metadata": {},
   "outputs": [
    {
     "ename": "ModuleNotFoundError",
     "evalue": "No module named 'untitled'",
     "output_type": "error",
     "traceback": [
      "\u001b[1;31m---------------------------------------------------------------------------\u001b[0m",
      "\u001b[1;31mModuleNotFoundError\u001b[0m                       Traceback (most recent call last)",
      "Input \u001b[1;32mIn [26]\u001b[0m, in \u001b[0;36m<cell line: 1>\u001b[1;34m()\u001b[0m\n\u001b[1;32m----> 1\u001b[0m \u001b[38;5;28;01mfrom\u001b[39;00m \u001b[38;5;21;01muntitled\u001b[39;00m \u001b[38;5;28;01mimport\u001b[39;00m random_network\n",
      "\u001b[1;31mModuleNotFoundError\u001b[0m: No module named 'untitled'"
     ]
    }
   ],
   "source": [
    "from untitled import random_network"
   ]
  }
 ],
 "metadata": {
  "kernelspec": {
   "display_name": "Python 3 (ipykernel)",
   "language": "python",
   "name": "python3"
  },
  "language_info": {
   "codemirror_mode": {
    "name": "ipython",
    "version": 3
   },
   "file_extension": ".py",
   "mimetype": "text/x-python",
   "name": "python",
   "nbconvert_exporter": "python",
   "pygments_lexer": "ipython3",
   "version": "3.10.4"
  }
 },
 "nbformat": 4,
 "nbformat_minor": 5
}
