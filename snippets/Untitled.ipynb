{
 "cells": [
  {
   "cell_type": "code",
   "execution_count": 3,
   "id": "6a366789-e196-47f9-8fd8-62ee5a84aacb",
   "metadata": {
    "tags": []
   },
   "outputs": [],
   "source": [
    "import numpy as np\n",
    "import warnings\n",
    "import dill\n",
    "import pandas as pd\n",
    "# TODO Need to import spatial tSIR module. is there a better way to do this??\n",
    "import sys\n",
    "from my_scripts.spatial_tsir import *\n",
    "from my_scripts.optimization import vacc\n",
    "import datetime\n",
    "import os\n",
    "import multiprocess\n",
    "from multiprocess import Pool"
   ]
  },
  {
   "cell_type": "markdown",
   "id": "efcca055-c5b4-4ca4-8241-9edb705036c5",
   "metadata": {},
   "source": [
    "Test batched evaluation"
   ]
  },
  {
   "cell_type": "code",
   "execution_count": 2,
   "id": "40949b97-c008-48ab-8cff-910f60ffabba",
   "metadata": {
    "tags": []
   },
   "outputs": [
    {
     "name": "stdout",
     "output_type": "stream",
     "text": [
      "/home/prasanna/Projects/CS_4501_Fall22_RL_Project\n"
     ]
    }
   ],
   "source": [
    "%cd .."
   ]
  },
  {
   "cell_type": "code",
   "execution_count": 4,
   "id": "b853f7ae-9d87-408a-a06a-141edbc334d3",
   "metadata": {
    "tags": []
   },
   "outputs": [],
   "source": [
    "vacc_df = {\n",
    "        'pop': [1200, 1200, 4000, 2000, 5000],\n",
    "        'vacc': [0.9,0.9,0.9,0.9, 0.75]\n",
    "}\n",
    "vacc_df = pd.DataFrame(vacc_df)\n",
    "\n",
    "# set up distance matrix\n",
    "# all pairwise distances\n",
    "dist_mat = [\n",
    "        [0,1,5,5,1],\n",
    "        [1,0,5,5,1],\n",
    "        [5,5,0,10,1],\n",
    "        [5,5,10,0,1],\n",
    "        [5,5,10,1,0]\n",
    "]\n",
    "\n",
    "# setup the configuration\n",
    "# for the disease simulation\n",
    "tsir_config = {\n",
    "    \"iters\": 75,    # number of iterations to run sim for\n",
    "    \"tau1\": 0.7,    # gravity model parameters\n",
    "    \"tau2\": 1.2,\n",
    "    \"rho\": 0.97,\n",
    "    \"theta\": 0.05,\n",
    "    \"alpha\": 0.97, # mixing rate\n",
    "    \"beta\": 7      # disease infectiousness\n",
    "}\n",
    "# arguments for optimizer oracle\n",
    "sim_params = {\n",
    "        'config':tsir_config,  # contains all disease parameters\n",
    "        'pop':vacc_df,\n",
    "        'distances':np.array(dist_mat)\n",
    "}\n",
    "\n",
    "# optimizer oracle configuration\n",
    "opt_config = {\n",
    "    'obj':\"attacksize\",   # objective function\n",
    "    'V_repr':\"ratio\",     # represent vacc rates as a ratio: [0,1]\n",
    "    'constraint_bnd':0.05, # set c=0.05 (percentage can go down by 5%)\n",
    "    'constraint_type':'ineq'\n",
    "}\n",
    "\n",
    "I = np.array([0,0,1,0,0])   # seeding: set outbreak to begin in district 4\n",
    "\n",
    "initial_state = np.zeros((len(vacc_df.index),2))\n",
    "initial_state[:, 0] = I\n",
    "#initial_state[:,0] = seed_prime\n",
    "initial_state[:, 1] = np.round(np.array(vacc_df['pop'])*np.array(vacc_df['vacc']))"
   ]
  },
  {
   "cell_type": "code",
   "execution_count": 5,
   "id": "94b6f5c6-a78c-4c75-8576-60a304287a7a",
   "metadata": {
    "tags": []
   },
   "outputs": [],
   "source": [
    "pool = spatial_tSIR_pool(config=tsir_config,patch_pop=vacc_df, initial_state=initial_state,n_sim=100,distances=np.array(dist_mat))"
   ]
  },
  {
   "cell_type": "code",
   "execution_count": 6,
   "id": "ec7b6126-5574-4af0-b0b9-f1628f37d25b",
   "metadata": {
    "tags": []
   },
   "outputs": [],
   "source": [
    "p = multiprocess.Pool(10)\n",
    "result=pool.run_simulation_async(pool=p)"
   ]
  },
  {
   "cell_type": "code",
   "execution_count": 7,
   "id": "80ac581c-f6e3-474d-a416-afef13ada6e7",
   "metadata": {
    "tags": []
   },
   "outputs": [],
   "source": [
    "p.close()"
   ]
  },
  {
   "cell_type": "code",
   "execution_count": 8,
   "id": "83b31d36-a3d4-438a-92d7-46ec6e4e0e44",
   "metadata": {
    "tags": []
   },
   "outputs": [],
   "source": [
    "vacc_df = {\n",
    "        'pop': [1200, 1200, 4000, 2000, 5000],\n",
    "        'vacc': [0.9,0.9,0.9,0.9, 0.75]\n",
    "}\n",
    "vacc_df = pd.DataFrame(vacc_df)\n",
    "\n",
    "# set up distance matrix\n",
    "# all pairwise distances\n",
    "dist_mat = [\n",
    "        [0,1,5,5,1],\n",
    "        [1,0,5,5,1],\n",
    "        [5,5,0,10,1],\n",
    "        [5,5,10,0,1],\n",
    "        [5,5,10,1,0]\n",
    "]\n",
    "\n",
    "# setup the configuration\n",
    "# for the disease simulation\n",
    "tsir_config = {\n",
    "    \"iters\": 75,    # number of iterations to run sim for\n",
    "    \"tau1\": 0.7,    # gravity model parameters\n",
    "    \"tau2\": 1.2,\n",
    "    \"rho\": 0.97,\n",
    "    \"theta\": 0.05,\n",
    "    \"alpha\": 0.97, # mixing rate\n",
    "    \"beta\": 7      # disease infectiousness\n",
    "}\n",
    "# arguments for optimizer oracle\n",
    "sim_params = {\n",
    "        'config':tsir_config,  # contains all disease parameters\n",
    "        'pop':vacc_df,\n",
    "        'distances':np.array(dist_mat)\n",
    "}\n",
    "\n",
    "# optimizer oracle configuration\n",
    "opt_config = {\n",
    "    'obj':\"attacksize\",   # objective function\n",
    "    'V_repr':\"ratio\",     # represent vacc rates as a ratio: [0,1]\n",
    "    'constraint_bnd':0.05, # set c=0.05 (percentage can go down by 5%)\n",
    "    'constraint_type':'ineq'\n",
    "}\n",
    "\n",
    "I = np.array([0,0,1,0,0])   # seeding: set outbreak to begin in district 4\n",
    "\n",
    "v = vacc.VaccProblemLAMCTSWrapper(\n",
    "        opt_config = opt_config, \n",
    "        V_0=vacc_df['vacc'], \n",
    "        seed = I,\n",
    "        sim_config = tsir_config, \n",
    "        pop = vacc_df, \n",
    "        distances = np.array(dist_mat),\n",
    "        cores=5, n_sim=10,\n",
    "        output_dir = \"/tmp/\",\n",
    "        negate=True,\n",
    "        scale=1,\n",
    "    name=\"d\"\n",
    "    )"
   ]
  },
  {
   "cell_type": "code",
   "execution_count": 17,
   "id": "50fc235f-7f87-434b-9d9b-b658aaa37976",
   "metadata": {
    "tags": []
   },
   "outputs": [
    {
     "data": {
      "text/plain": [
       "-0.04477611940298507"
      ]
     },
     "execution_count": 17,
     "metadata": {},
     "output_type": "execute_result"
    }
   ],
   "source": [
    "v(np.array([0.05,0.05,0.05,0.05,0.05]))"
   ]
  },
  {
   "cell_type": "code",
   "execution_count": 34,
   "id": "3a16c097-49f7-4cee-8960-703c621f922b",
   "metadata": {
    "tags": []
   },
   "outputs": [],
   "source": [
    "p_list = [Pool(20) for i in range(20)]\n",
    "xs = [np.ones(5)*x for x in np.linspace(0,0.05,20)]\n",
    "result=v(xs,pool=p_list,batch=True)"
   ]
  },
  {
   "cell_type": "code",
   "execution_count": 35,
   "id": "fd12c427-d193-4f98-82e5-17428c143d6e",
   "metadata": {
    "tags": []
   },
   "outputs": [
    {
     "data": {
      "text/plain": [
       "[-0.026873134328358212,\n",
       " -0.027611940298507463,\n",
       " -0.031417910447761196,\n",
       " -0.032238805970149255,\n",
       " -0.032985074626865674,\n",
       " -0.03380597014925373,\n",
       " -0.03455223880597015,\n",
       " -0.03537313432835821,\n",
       " -0.03611940298507463,\n",
       " -0.036940298507462686,\n",
       " -0.037686567164179105,\n",
       " -0.03466417910447761,\n",
       " -0.03533582089552239,\n",
       " -0.03607462686567164,\n",
       " -0.036746268656716416,\n",
       " -0.03748507462686567,\n",
       " -0.03815671641791045,\n",
       " -0.038895522388059704,\n",
       " -0.03956716417910448,\n",
       " -0.04030597014925373]"
      ]
     },
     "execution_count": 35,
     "metadata": {},
     "output_type": "execute_result"
    }
   ],
   "source": [
    "result"
   ]
  },
  {
   "cell_type": "code",
   "execution_count": 9,
   "id": "27883d9f-85ce-47b8-8ad3-b88fb55e5e15",
   "metadata": {
    "tags": []
   },
   "outputs": [],
   "source": [
    "xs = [np.ones(5)*0.05]*5"
   ]
  },
  {
   "cell_type": "code",
   "execution_count": 10,
   "id": "745df395-29e0-4638-82ee-fa537da037e7",
   "metadata": {
    "tags": []
   },
   "outputs": [
    {
     "data": {
      "text/plain": [
       "[array([0.05, 0.05, 0.05, 0.05, 0.05]),\n",
       " array([0.05, 0.05, 0.05, 0.05, 0.05]),\n",
       " array([0.05, 0.05, 0.05, 0.05, 0.05]),\n",
       " array([0.05, 0.05, 0.05, 0.05, 0.05]),\n",
       " array([0.05, 0.05, 0.05, 0.05, 0.05])]"
      ]
     },
     "execution_count": 10,
     "metadata": {},
     "output_type": "execute_result"
    }
   ],
   "source": [
    "xs"
   ]
  },
  {
   "cell_type": "code",
   "execution_count": 33,
   "id": "4d76fe3c-19dc-420d-b191-d8d8b095cd2d",
   "metadata": {
    "tags": []
   },
   "outputs": [
    {
     "data": {
      "text/plain": [
       "array([0.        , 0.05263158, 0.10526316, 0.15789474, 0.21052632,\n",
       "       0.26315789, 0.31578947, 0.36842105, 0.42105263, 0.47368421,\n",
       "       0.52631579, 0.57894737, 0.63157895, 0.68421053, 0.73684211,\n",
       "       0.78947368, 0.84210526, 0.89473684, 0.94736842, 1.        ])"
      ]
     },
     "execution_count": 33,
     "metadata": {},
     "output_type": "execute_result"
    }
   ],
   "source": [
    "np.linspace(0,1,20)"
   ]
  }
 ],
 "metadata": {
  "kernelspec": {
   "display_name": "Python 3 (ipykernel)",
   "language": "python",
   "name": "python3"
  },
  "language_info": {
   "codemirror_mode": {
    "name": "ipython",
    "version": 3
   },
   "file_extension": ".py",
   "mimetype": "text/x-python",
   "name": "python",
   "nbconvert_exporter": "python",
   "pygments_lexer": "ipython3",
   "version": "3.9.7"
  }
 },
 "nbformat": 4,
 "nbformat_minor": 5
}
