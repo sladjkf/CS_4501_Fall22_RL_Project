{
 "cells": [
  {
   "cell_type": "code",
   "execution_count": 1,
   "id": "df4b124e-66e6-42cc-9047-26a61d31c2ed",
   "metadata": {
    "tags": []
   },
   "outputs": [
    {
     "name": "stdout",
     "output_type": "stream",
     "text": [
      "/home/prasanna/Projects/CS_4501_Fall22_RL_Project\n"
     ]
    }
   ],
   "source": [
    "%cd .."
   ]
  },
  {
   "cell_type": "code",
   "execution_count": 2,
   "id": "fcfbdf5e-10c2-40bc-927b-bdd5a6448c9e",
   "metadata": {
    "tags": []
   },
   "outputs": [
    {
     "name": "stderr",
     "output_type": "stream",
     "text": [
      "/home/prasanna/Projects/CS_4501_Fall22_RL_Project/venv/lib/python3.9/site-packages/tqdm/auto.py:22: TqdmWarning: IProgress not found. Please update jupyter and ipywidgets. See https://ipywidgets.readthedocs.io/en/stable/user_install.html\n",
      "  from .autonotebook import tqdm as notebook_tqdm\n"
     ]
    }
   ],
   "source": [
    "import configparser\n",
    "import pandas as pd\n",
    "import numpy as np\n",
    "from my_scripts.optimization import vacc\n",
    "#from scripts.optimization import vacc_bayes_opt\n",
    "#from ConstrainedLaMCTS.LAMCTS import bayes_opt\n",
    "import multiprocess\n",
    "import torch\n",
    "import argparse\n",
    "import os.path\n",
    "import sys\n",
    "from ConstrainedLaMCTS.LAMCTS.lamcts import MCTS\n",
    "from collections import namedtuple"
   ]
  },
  {
   "cell_type": "code",
   "execution_count": 3,
   "id": "399dbe05-595f-40be-81a9-a4cdacc2cbe5",
   "metadata": {
    "tags": []
   },
   "outputs": [],
   "source": [
    "config_dir = \"config/va_dulles_county_0_10/{}\""
   ]
  },
  {
   "cell_type": "code",
   "execution_count": 4,
   "id": "d8b133ba-25e7-433e-98da-538f32be73b5",
   "metadata": {
    "tags": []
   },
   "outputs": [],
   "source": [
    "Args = namedtuple(\"Args\",\n",
    "                  \"threads agg_size agg_mapping threads_per_sim sim_draws out_dir name dims sim_workers\")\n",
    "args = Args(\n",
    "    threads=80,\n",
    "    agg_size=128,\n",
    "    agg_mapping=\"config/va_dulles_county_0_10/agg_mapping.csv\",\n",
    "    threads_per_sim=16,\n",
    "    sim_draws=10500,\n",
    "    out_dir = \"output/baseline_computation/\",\n",
    "    name = \"0_05_baseline\",\n",
    "    dims = 128,\n",
    "    sim_workers = 5\n",
    ")"
   ]
  },
  {
   "cell_type": "code",
   "execution_count": 5,
   "id": "63689358-edac-4ac8-9e6a-6ad1c2cb65d6",
   "metadata": {
    "tags": []
   },
   "outputs": [
    {
     "name": "stdout",
     "output_type": "stream",
     "text": [
      "{'iters': 20, 'tau1': 2.05129243, 'tau2': 1.00658961, 'rho': 1.39756446, 'theta': 1.66575258e-10, 'alpha': 0.97, 'beta': 7.5}\n",
      "{'obj': 'attacksize', 'V_repr': 'ratio', 'constraint_bnd': 0.1, 'constraint_type': 'ineq', 'aggregate': 'True'}\n"
     ]
    }
   ],
   "source": [
    "sim_param_config = configparser.ConfigParser()\n",
    "sim_param_config.optionxform = str  # retain case sensitivity\n",
    "\n",
    "# load simulation files\n",
    "with open(config_dir.format(\"params.cfg\")) as config_file:\n",
    "    sim_param_config.read_file(config_file)\n",
    "    tsir_config_str = dict(sim_param_config['tsir_config'])\n",
    "    tsir_config = {}\n",
    "    for k, v in tsir_config_str.items():\n",
    "        if k == 'iters':\n",
    "            tsir_config['iters'] = int(tsir_config_str['iters'])\n",
    "        elif k == 'grav_variant':\n",
    "            tsir_config['grav_variant'] = tsir_config_str['grav_variant']\n",
    "        else:\n",
    "            tsir_config[k] = float(tsir_config_str[k])\n",
    "    opt_config = dict(sim_param_config['opt_config'])\n",
    "    opt_config['constraint_bnd'] = float(opt_config['constraint_bnd'])\n",
    "\n",
    "print(tsir_config)\n",
    "\n",
    "print(opt_config)"
   ]
  },
  {
   "cell_type": "code",
   "execution_count": 6,
   "id": "65da1991-2a9e-4d19-9cd9-6c9e6092e82d",
   "metadata": {
    "tags": []
   },
   "outputs": [
    {
     "name": "stdout",
     "output_type": "stream",
     "text": [
      "[  32402.   78036.  112210.   19961.   21830.   27460.   10572.  227888.\n",
      "   54418.    4581.   81783.    3393.   25785.   14352.   13012.   20187.\n",
      "    6765.    6191.   26666.   25998.   17343.    3824.   12523.   55021.\n",
      "  220796.  330514.   16014.    3292.   47508.    5631.   55825.   10713.\n",
      "   16321.   11161.    9959. 1005627.   53194.   14748.   55553.   11900.\n",
      "   18507.   47846.   11865.   74306.   22584.   16069.   16614.   22696.\n",
      "   20340.    9471.   13308.    2912.   31870.  128662.  133233.   61177.\n",
      "  312955.   39397.    1710.   32829.   50021.    6368.   21127.    8945.\n",
      "    5577.   14750.  348091.   38549.    8731.   88741.   10361.   44006.\n",
      "   31925.   28017.    6128.   25175.    7542.   63095.   17679.   22202.\n",
      "  150652.  204584.   10357.   12177.    3933.   12176.   28246.   21671.\n",
      "   14753.   33955.   41875.   11122.   84394.   25175.   17105.   63574.\n",
      "  376473.   30421.   20416.    8742.    4777.  123499.   63332.   95775.\n",
      "   23299.   38599.   17848.   34222.   19469.   40193.   36937.   10293.\n",
      "  117480.  130621.   31581.   81784.   13455.   33877.  422025.   32294.\n",
      "   42786.   30162.   14751.   36904.   23270.   38334.   25932.   52260.]\n",
      "0.1\n",
      "[0.90274314 0.90225564 0.90440825 0.91690101 0.91964286 0.91222954\n",
      " 0.9199715  0.90693083 0.88995215 0.88507719 0.89054356 0.91134752\n",
      " 0.90288066 0.89526351 0.8960396  0.90295359 0.90968956 0.92295267\n",
      " 0.91407067 0.91381191 0.90461997 0.89801255 0.90401567 0.90678587\n",
      " 0.88092604 0.89468085 0.90793037 0.90583232 0.90283109 0.90893817\n",
      " 0.90645679 0.90861345 0.90873597 0.92509632 0.88816327 0.88343254\n",
      " 0.90780915 0.91666667 0.89941973 0.90775469 0.90664962 0.90196078\n",
      " 0.92203961 0.90041741 0.92304286 0.91623623 0.86988393 0.91162791\n",
      " 0.91358025 0.90277052 0.91484099 0.92273352 0.89092521 0.90836357\n",
      " 0.88954635 0.92018489 0.90309652 0.90034098 0.91169591 0.91888797\n",
      " 0.90076336 0.83126551 0.92108454 0.86903353 0.90464304 0.91434999\n",
      " 0.910445   0.90782859 0.90602543 0.90724638 0.90846457 0.92130619\n",
      " 0.91470634 0.91762144 0.90490254 0.89714495 0.89841617 0.90795455\n",
      " 0.893796   0.91525424 0.90551413 0.88606347 0.90734266 0.87880104\n",
      " 0.92117976 0.92126789 0.90574456 0.90501319 0.90087464 0.91314976\n",
      " 0.87159297 0.91683151 0.92003399 0.91737835 0.91534111 0.91237525\n",
      " 0.91659789 0.91278195 0.90590935 0.89721627 0.85894495 0.90339321\n",
      " 0.91525619 0.90641636 0.89536878 0.89087948 0.912      0.91745076\n",
      " 0.9076087  0.91145038 0.90670554 0.90680101 0.91731873 0.916695\n",
      " 0.91833697 0.90105634 0.91304348 0.88302425 0.91343432 0.90371622\n",
      " 0.8788143  0.91893774 0.90516145 0.92141773 0.92303395 0.9178955\n",
      " 0.89777357 0.91734528]\n"
     ]
    }
   ],
   "source": [
    "# load vaccination/population data and distance matrix\n",
    "vacc_df = pd.read_csv(config_dir.format(\"pop.csv\"))\n",
    "dist_list = pd.read_csv(config_dir.format(\"dist.csv\"))\n",
    "dist_mat = dist_list.pivot(index='zipcode1', columns='zipcode2', values='distKM')\n",
    "dist_mat = dist_mat.fillna(0)\n",
    "\n",
    "seed = pd.read_csv(config_dir.format(sim_param_config['seed']['seed']),header=None)\n",
    "seed = np.array(seed).flatten()\n",
    "\n",
    "\n",
    "torch.set_num_threads(args.threads)\n",
    "\n",
    "# should use aggregate in opt_config\n",
    "\n",
    "do_aggregate = args.agg_size is not None and args.agg_mapping is not None\n",
    "\n",
    "if do_aggregate:\n",
    "    agg_mapping = pd.read_csv(args.agg_mapping)\n",
    "    agg_mapping = np.array(agg_mapping['mapping'])\n",
    "    v = vacc.VaccProblemLAMCTSWrapper(\n",
    "        opt_config = opt_config, \n",
    "        V_0= vacc_df['vacc'], \n",
    "        seed = seed,\n",
    "        sim_config = tsir_config, \n",
    "        pop = vacc_df, \n",
    "        distances = np.array(dist_mat),\n",
    "        negate=True, scale=True,\n",
    "        cores=args.threads_per_sim, n_sim=args.sim_draws,\n",
    "        output_dir = args.out_dir,\n",
    "        name=args.name,\n",
    "        agg_vector=agg_mapping,\n",
    "        agg_size=args.agg_size,\n",
    "        save_memory=False\n",
    "    )\n",
    "else:\n",
    "    v = vacc.VaccProblemLAMCTSWrapper(\n",
    "        opt_config = opt_config, \n",
    "        V_0= vacc_df['vacc'], \n",
    "        seed = seed,\n",
    "        sim_config = tsir_config, \n",
    "        pop = vacc_df, \n",
    "        distances = np.array(dist_mat),\n",
    "        negate=True, scale=True,\n",
    "        cores=args.threads_per_sim, n_sim=args.sim_draws,\n",
    "        output_dir = args.out_dir,\n",
    "        name=args.name,\n",
    "        save_memory=False\n",
    "    )\n",
    "\n",
    "if do_aggregate:\n",
    "    P = np.zeros(args.agg_size)\n",
    "    for zipcode_index, county_index in enumerate(agg_mapping):\n",
    "        P[county_index] += vacc_df['pop'][zipcode_index]\n",
    "    c = opt_config['constraint_bnd']\n",
    "    # upper bound by the least vaccinated in each county\n",
    "    ub = np.ones(args.agg_size)*np.inf\n",
    "    for zipcode_index, county_index in enumerate(agg_mapping):\n",
    "        this_zip_vacc = vacc_df.loc[zipcode_index,'vacc']\n",
    "        if ub[county_index] > this_zip_vacc:\n",
    "            ub[county_index] = this_zip_vacc\n",
    "    v.ub = ub\n",
    "    v.lb = np.zeros(args.dims)\n",
    "    #for index, element in enumerate(ub):\n",
    "        # if there are redundant cities (no zipcodes assigned)\n",
    "        # just give it an upper bound of 1\n",
    "        # essentially just a dummy var, doesn't affect opt\n",
    "    #    if np.isinf(element):\n",
    "    #        ub[index] = 1\n",
    "else:\n",
    "    P = np.array(vacc_df['pop'])\n",
    "    c = opt_config['constraint_bnd']\n",
    "    ub = np.array(vacc_df['vacc'])\n",
    "\n",
    "print(P)\n",
    "print(c)\n",
    "print(ub)"
   ]
  },
  {
   "cell_type": "code",
   "execution_count": 7,
   "id": "10f8b5ad-1135-4ea9-a077-92f4286ae40a",
   "metadata": {
    "tags": []
   },
   "outputs": [],
   "source": [
    "to_eval = [np.ones(128)*x for x in np.linspace(0.05,0.10,6)]"
   ]
  },
  {
   "cell_type": "code",
   "execution_count": null,
   "id": "ea0fdb1f-dd29-4175-abbf-1158751f2f27",
   "metadata": {
    "tags": []
   },
   "outputs": [],
   "source": [
    "from multiprocess import Pool\n",
    "\n",
    "pools = [Pool(args.threads_per_sim) for i in range(args.sim_workers)]\n",
    "results, sim_pools = v(to_eval, pool=pools, batch=True, return_sim_pool=True)"
   ]
  },
  {
   "cell_type": "code",
   "execution_count": null,
   "id": "13c8f57b-97d1-45b6-bfe7-321540458c20",
   "metadata": {
    "tags": []
   },
   "outputs": [],
   "source": [
    "for i in range(len(sim_pools))\n",
    "    print('-----{}------'.format(i))\n",
    "    print(np.mean(v.engine.eval_history['input'][i]),np.mean(v.engine.eval_history['output'][i]))\n",
    "    print(bootstrap(data=(v.engine.eval_history['output'][i],), statistic=np.mean))\n",
    "    print(bootstrap(data=(v.engine.eval_history['output'][i],), statistic=np.median))"
   ]
  },
  {
   "cell_type": "code",
   "execution_count": null,
   "id": "e454c788-274c-442d-9177-745203790fd9",
   "metadata": {
    "tags": []
   },
   "outputs": [],
   "source": [
    "v.engine.save_eval_history(path=\"output/baseline_computation/baseline_results\",as_csv=True,as_serial=False)"
   ]
  },
  {
   "cell_type": "code",
   "execution_count": null,
   "id": "4a5b8c0b-d288-4424-9f55-8450d3cbbb6a",
   "metadata": {
    "tags": []
   },
   "outputs": [],
   "source": [
    "# Get the average attack size for each zipcode\n",
    "from scipy.stats import bootstrap\n",
    "from statsmodels.stats.proportion import proportion_confint\n",
    "def compute_zip_summary_dataframe(pool):\n",
    "    outbreaks = {'zip':[],\n",
    "                 'avg_att_size':[],\n",
    "                 'avg_att_size_err_low':[],\n",
    "                 'avg_att_size_err_hi':[],\n",
    "                 'med_att_size':[], \n",
    "                 'med_att_size_err_low':[],\n",
    "                 'med_att_size_err_hi':[],\n",
    "                 'prob_outbreak':[],\n",
    "                 'prob_outbreak_err_low':[],\n",
    "                 'prob_outbreak_err_hi':[]\n",
    "                }\n",
    "    for zip_i in range(len(vacc_df.index)):\n",
    "    #for zip_i in range(5):\n",
    "        zipcode = vacc_df.loc[zip_i,'id']\n",
    "        pool_samples = pool.get_samples(zip_i)\n",
    "        AS_samples = np.sum(pool_samples,axis=1)\n",
    "        zip_avg_attacksize = np.mean(AS_samples)\n",
    "        zip_avg_attacksize_error = bootstrap(data=(AS_samples,),statistic=np.mean)\n",
    "        zip_med_attacksize = np.median(AS_samples)\n",
    "        zip_med_attacksize_error = bootstrap(data=(AS_samples,),statistic=np.median)\n",
    "        prob_outbreak = np.sum(AS_samples > 1)/(len(AS_samples))\n",
    "        ci_low, ci_up = proportion_confint(count=np.sum(AS_samples > 1),nobs=len(AS_samples),method='beta')\n",
    "        outbreaks['zip'].append(zipcode)\n",
    "        outbreaks['avg_att_size'].append(zip_avg_attacksize)\n",
    "        outbreaks['avg_att_size_err_low'].append(zip_avg_attacksize_error.confidence_interval.low)\n",
    "        outbreaks['avg_att_size_err_hi'].append(zip_avg_attacksize_error.confidence_interval.high)\n",
    "        outbreaks['med_att_size'].append(zip_med_attacksize)\n",
    "        outbreaks['med_att_size_err_low'].append(zip_med_attacksize_error.confidence_interval.low)\n",
    "        outbreaks['med_att_size_err_hi'].append(zip_med_attacksize_error.confidence_interval.high)\n",
    "        outbreaks['prob_outbreak'].append(prob_outbreak)\n",
    "        outbreaks['prob_outbreak_err_low'].append(ci_low)\n",
    "        outbreaks['prob_outbreak_err_hi'].append(ci_up)\n",
    "    df = pd.DataFrame(outbreaks)\n",
    "    return df\n",
    "#compute_zip_summary_dataframe(pool).sort_values(by='prob_outbreak',ascending=False).head(20)"
   ]
  },
  {
   "cell_type": "code",
   "execution_count": null,
   "id": "c18b6639-8dcc-4a74-aefa-3bd1d9f9c911",
   "metadata": {
    "tags": []
   },
   "outputs": [],
   "source": [
    "for pool,constr in zip(sim_pools,np.linspace(5,10,6)):\n",
    "    df = compute_zip_summary_dataframe(pool)\n",
    "    df.to_csv('output/baseline_computation/{}_baseline_zipcode_summary.csv'.format(constr))"
   ]
  }
 ],
 "metadata": {
  "kernelspec": {
   "display_name": "Python 3 (ipykernel)",
   "language": "python",
   "name": "python3"
  },
  "language_info": {
   "codemirror_mode": {
    "name": "ipython",
    "version": 3
   },
   "file_extension": ".py",
   "mimetype": "text/x-python",
   "name": "python",
   "nbconvert_exporter": "python",
   "pygments_lexer": "ipython3",
   "version": "3.9.7"
  }
 },
 "nbformat": 4,
 "nbformat_minor": 5
}
