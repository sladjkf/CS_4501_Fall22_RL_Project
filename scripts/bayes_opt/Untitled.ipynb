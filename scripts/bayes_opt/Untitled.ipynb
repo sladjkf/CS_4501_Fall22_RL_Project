{
 "cells": [
  {
   "cell_type": "code",
   "execution_count": null,
   "metadata": {},
   "outputs": [],
   "source": [
    "import pandas as pd\n",
    "import numpy as np\n",
    "import sys\n",
    "project_path = \"/scratch/nrw5cq/measles_metapop/{}\"\n",
    "sys.path.append(project_path.format(\"scripts/bayes_opt\"))\n",
    "import vacc\n",
    "import sim_anneal"
   ]
  },
  {
   "cell_type": "code",
   "execution_count": null,
   "metadata": {},
   "outputs": [],
   "source": [
    "# vaccination data and population data from sifat\n",
    "vacc_df = pd.read_csv(project_path.format(\"data/VA_zipcodes_cleaned/ZC_immunization_sifat.csv\"))\n",
    "# drop 0 population entries, they won't affect the simulation\n",
    "vacc_df = vacc_df[vacc_df['population'] > 0].reset_index(drop=True)\n",
    "vacc_df.rename({'population':'pop'},axis=1,inplace=True)\n",
    "# load distance matrix computed from nominatim and geopy distance function\n",
    "dist_df = pd.read_csv(project_path.format(\"data/VA_zipcodes_cleaned/ZC_distance_sifat_nom_geopy.csv\"))\n",
    "# need to replace 0's in distance matrix to avoid divide by zero in gravity formula\n",
    "default_dist = 0.5\n",
    "dist_df.loc[dist_df[np.isclose(dist_df['distKM'],0)].index,'distKM']=default_dist\n",
    "# convert to matrix\n",
    "dist_mat = dist_df.pivot(index='zipcode1',columns='zipcode2',values='distKM')\n",
    "dist_mat = dist_mat.replace(np.nan,0)\n",
    "# align matrix\n",
    "dist_mat = dist_mat.loc[vacc_df['zipcode'],vacc_df['zipcode']]"
   ]
  },
  {
   "cell_type": "code",
   "execution_count": null,
   "metadata": {},
   "outputs": [],
   "source": [
    "#tSIR parameters\n",
    "params = np.load(project_path.format(\"outputs/log_calib_grav_params_jul22.npy\"))\n",
    "tsir_config = {\n",
    "    \"iters\":75,\n",
    "    \"tau1\":params[0],\n",
    "    \"tau2\":params[1],\n",
    "    \"rho\":params[2],\n",
    "    \"theta\":params[3],\n",
    "    \"alpha\":0.97,\n",
    "    \"beta\":3\n",
    "}\n",
    "sim_params = {\n",
    "        'config':tsir_config,\n",
    "        'pop':vacc_df,\n",
    "        'distances':np.array(dist_mat)\n",
    "}\n",
    "\n",
    "#%%\n",
    "top_5 = vacc_df.sort_values(by='pop',ascending=False).head(5)\n",
    "I = np.zeros(len(vacc_df.index))\n",
    "np.put(I,top_5.index,1)\n",
    "# optimization parameters\n",
    "opt_config = {\n",
    "    'obj':\"attacksize\",\n",
    "    'V_repr':\"max_ratio\",\n",
    "    'constraint_bnd':0.05,\n",
    "    \"attacksize_cutoff\":1000\n",
    "}\n"
   ]
  },
  {
   "cell_type": "code",
   "execution_count": null,
   "metadata": {},
   "outputs": [],
   "source": [
    "import multiprocess\n",
    "\n",
    "V_0 = (vacc_df['pop']-vacc_df['nVaccCount'])/(vacc_df['pop'])\n",
    "V_0 = (vacc_df['pop']-vacc_df['nVaccCount'])/(max(vacc_df['pop']))\n",
    "engine = vacc.VaccRateOptEngine(\n",
    "        opt_config=opt_config,\n",
    "        V_0=V_0, seed=I,\n",
    "        sim_config=tsir_config,\n",
    "        pop=vacc_df,\n",
    "        distances=np.array(dist_mat))\n",
    "V_prime = engine.V_0.copy()\n",
    "V_prime[512] = V_prime[512]-0.8\n",
    "\n",
    "#with multiprocess.Pool(20) as p:\n",
    "#    result1 = engine.query(engine.V_0,pool=p,n_sim=50)\n",
    "#    result = engine.query(V_prime,pool=p,n_sim=50)\n"
   ]
  },
  {
   "cell_type": "code",
   "execution_count": null,
   "metadata": {},
   "outputs": [],
   "source": [
    "import sim_anneal"
   ]
  },
  {
   "cell_type": "code",
   "execution_count": null,
   "metadata": {},
   "outputs": [],
   "source": []
  },
  {
   "cell_type": "code",
   "execution_count": null,
   "metadata": {},
   "outputs": [],
   "source": [
    "sim_anneal.sim_anneal(\n",
    "    init_state=I,\n",
    "    init_temp=5,\n",
    "    num_iters=1000,\n",
    "    engine=engine,\n",
    "    move_func=sim_anneal.move_seed,\n",
    "    cores=20,n_samples=100\n",
    ")"
   ]
  },
  {
   "cell_type": "code",
   "execution_count": null,
   "metadata": {},
   "outputs": [],
   "source": []
  }
 ],
 "metadata": {
  "kernelspec": {
   "display_name": "Python 3",
   "language": "python",
   "name": "python3"
  },
  "language_info": {
   "codemirror_mode": {
    "name": "ipython",
    "version": 3
   },
   "file_extension": ".py",
   "mimetype": "text/x-python",
   "name": "python",
   "nbconvert_exporter": "python",
   "pygments_lexer": "ipython3",
   "version": "3.8.8"
  }
 },
 "nbformat": 4,
 "nbformat_minor": 4
}
